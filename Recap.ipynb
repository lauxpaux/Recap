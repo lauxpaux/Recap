{
  "cells": [
    {
      "cell_type": "markdown",
      "metadata": {
        "id": "view-in-github",
        "colab_type": "text"
      },
      "source": [
        "<a href=\"https://colab.research.google.com/github/lauxpaux/Recap/blob/main/Recap.ipynb\" target=\"_parent\"><img src=\"https://colab.research.google.com/assets/colab-badge.svg\" alt=\"Open In Colab\"/></a>"
      ]
    },
    {
      "cell_type": "markdown",
      "metadata": {
        "id": "j9Pj-ufqC7q5"
      },
      "source": [
        "# Data Structures Study "
      ]
    },
    {
      "cell_type": "markdown",
      "metadata": {
        "id": "gHMyIv_QzJvI"
      },
      "source": [
        "Implementing a stack "
      ]
    },
    {
      "cell_type": "code",
      "execution_count": null,
      "metadata": {
        "colab": {
          "base_uri": "https://localhost:8080/"
        },
        "id": "KM2t9jk7y_bp",
        "outputId": "f3c39de4-6d93-4331-c60d-b104b7b1b311"
      },
      "outputs": [
        {
          "output_type": "stream",
          "name": "stdout",
          "text": [
            "[1]\n",
            "False\n",
            "[1, 4, 5]\n",
            "1\n",
            "[1]\n",
            "True\n"
          ]
        }
      ],
      "source": [
        "class Stack():\n",
        "    def __init__(self):\n",
        "        #creating an empty stack to start the stack\n",
        "        self.items = []\n",
        "    \n",
        "    def push(self, item):\n",
        "        #adding to the stack \n",
        "        self.items.append(item)\n",
        "        \n",
        "    def pop(self):\n",
        "        #removing top element \n",
        "        self.items.pop()\n",
        "        \n",
        "    def is_empty(self):\n",
        "        return self.items == []\n",
        "    \n",
        "    def peek(self):\n",
        "        #looking at item on top of stack \n",
        "        if not self.is_empty():\n",
        "            return self.items[-1]\n",
        "    \n",
        "    def getStack(self):\n",
        "        print(self.items)\n",
        "            \n",
        "    \n",
        "    \n",
        "myStack = Stack()\n",
        "myStack.push(1)\n",
        "myStack.push(2)\n",
        "myStack.pop()\n",
        "myStack.getStack()\n",
        "myStack.push(4)\n",
        "myStack.push(5)\n",
        "print(myStack.is_empty())\n",
        "myStack.peek()\n",
        "myStack.getStack()\n",
        "myStack.pop()\n",
        "myStack.pop()\n",
        "print(myStack.peek())\n",
        "myStack.getStack()\n",
        "myStack.pop()\n",
        "print(myStack.is_empty())\n",
        "\n",
        "        "
      ]
    },
    {
      "cell_type": "markdown",
      "metadata": {
        "id": "4V9k7HMJCyEa"
      },
      "source": [
        "Solving Problems with stack: \n",
        "1) Convert decimal to binary "
      ]
    },
    {
      "cell_type": "code",
      "execution_count": null,
      "metadata": {
        "id": "OH2B7snH2Hen"
      },
      "outputs": [],
      "source": [
        "def dec_to_bin(num):\n",
        "  s = Stack()\n",
        "  binStr = \"\"\n",
        "\n",
        "  while num > 0:\n",
        "    remainder = num % 2 \n",
        "    s.push(remainder)\n",
        "    num = num // 2 \n",
        "\n",
        "  while not s.is_empty():\n",
        "    binStr += str(s.items.pop())    \n",
        "\n",
        "  return binStr"
      ]
    },
    {
      "cell_type": "code",
      "execution_count": null,
      "metadata": {
        "colab": {
          "base_uri": "https://localhost:8080/"
        },
        "id": "CuPXDwIC_4TK",
        "outputId": "95cd8682-ef9c-4f4c-e599-8b86119b5be9"
      },
      "outputs": [
        {
          "output_type": "stream",
          "name": "stdout",
          "text": [
            "1100100\n"
          ]
        }
      ],
      "source": [
        "print(dec_to_bin(100))"
      ]
    },
    {
      "cell_type": "code",
      "execution_count": null,
      "metadata": {
        "id": "iRne7TekDcfI"
      },
      "outputs": [],
      "source": [
        "# Reversing a string\n",
        "def reverse_string(givenStr):\n",
        "  stack = Stack()\n",
        "  eStr = \"\"\n",
        "\n",
        "  for s in givenStr:\n",
        "    stack.push(s)\n",
        "  while not stack.is_empty():\n",
        "    eStr += str(stack.items.pop())\n",
        "  return eStr\n",
        "    \n",
        "\n"
      ]
    },
    {
      "cell_type": "code",
      "execution_count": null,
      "metadata": {
        "colab": {
          "base_uri": "https://localhost:8080/",
          "height": 35
        },
        "id": "4iyejs2YEDH1",
        "outputId": "fe3aa2e5-53b1-4ebc-bf04-4a0653f17e7c"
      },
      "outputs": [
        {
          "output_type": "execute_result",
          "data": {
            "text/plain": [
              "'nuf si gninraeL'"
            ],
            "application/vnd.google.colaboratory.intrinsic+json": {
              "type": "string"
            }
          },
          "metadata": {},
          "execution_count": 5
        }
      ],
      "source": [
        "reverse_string(\"Learning is fun\")"
      ]
    },
    {
      "cell_type": "markdown",
      "metadata": {
        "id": "MWf7_gdZNaoO"
      },
      "source": [
        "Stack practice "
      ]
    },
    {
      "cell_type": "code",
      "execution_count": null,
      "metadata": {
        "id": "CkskyaHXNZ02"
      },
      "outputs": [],
      "source": [
        "class Stack2():\n",
        "  def __init__(self):\n",
        "    self.items = []\n",
        "\n",
        "  def push2(self, data):\n",
        "    self.items.append(data)\n",
        "  \n",
        "  def pop2(self):\n",
        "    self.items.pop()\n",
        "    \n",
        "  def isEmpty2(self):\n",
        "    return self.items == []\n",
        "\n",
        "  def peek2(self):\n",
        "    if not self.isEmpty2():\n",
        "      return self.items[-1]\n",
        "  \n",
        "  def getStack2(self):\n",
        "    print(self.items)\n",
        "    "
      ]
    },
    {
      "cell_type": "code",
      "execution_count": null,
      "metadata": {
        "colab": {
          "base_uri": "https://localhost:8080/"
        },
        "id": "TBNFsEPvSTC9",
        "outputId": "cc50e5c4-151a-4aed-849e-0cbb727fc205"
      },
      "outputs": [
        {
          "output_type": "stream",
          "name": "stdout",
          "text": [
            "[1, 2, 3]\n",
            "\n",
            "2\n"
          ]
        },
        {
          "output_type": "execute_result",
          "data": {
            "text/plain": [
              "False"
            ]
          },
          "metadata": {},
          "execution_count": 7
        }
      ],
      "source": [
        "stk = Stack2()\n",
        "stk.push2(1)\n",
        "stk.push2(2)\n",
        "stk.push2(3)\n",
        "stk.getStack2()\n",
        "print()\n",
        "stk.pop2()\n",
        "print(stk.peek2())\n",
        "stk.isEmpty2()"
      ]
    },
    {
      "cell_type": "markdown",
      "metadata": {
        "id": "0e8XqWBebDsw"
      },
      "source": [
        "Implementing Linked Lists "
      ]
    },
    {
      "cell_type": "code",
      "execution_count": null,
      "metadata": {
        "id": "t81xNOQZbC2x"
      },
      "outputs": [],
      "source": [
        "from pickle import LONG1\n",
        "class Node():\n",
        "  def __init__(self, data):\n",
        "    self.data = data\n",
        "    self.next = None \n",
        "\n",
        "class LinkedList():\n",
        "  def __init__(self):\n",
        "    self.head = None \n",
        "\n",
        "  #printing linked list\n",
        "  def printLL(self):\n",
        "    cur_node = self.head\n",
        "    while cur_node:\n",
        "      print(cur_node.data)\n",
        "      cur_node = cur_node.next \n",
        "\n",
        "\n",
        "  #appending to linked list\n",
        "  def append(self, data):\n",
        "    new_node = Node(data)\n",
        "\n",
        "    #case: if linked list is empty, append node as the head \n",
        "    if self.head is None:\n",
        "      self.head = new_node\n",
        "      return \n",
        "    #case: if linked list is not empty, append the node at the end of the linked list\n",
        "    last_node = self.head \n",
        "    while last_node.next:\n",
        "      last_node = last_node.next\n",
        "    last_node.next = new_node   \n",
        "\n",
        "  #prepending \n",
        "  def prepend(self, data):\n",
        "    new_node = Node(data)\n",
        "\n",
        "    if self.head is None:\n",
        "      self.head = new_node\n",
        "      return \n",
        "\n",
        "    #case: adding it as head node\n",
        "    if self.head:\n",
        "      new_node.next = self.head\n",
        "      self.head = new_node\n",
        "  \n",
        "  #appending after specific node \n",
        "  def append_after(self, node_data, data):\n",
        "    if not node_data: \n",
        "      print(\"Node not found in list.\")\n",
        "      return\n",
        "    new_node = Node(data)\n",
        "  \n",
        "    new_node.next = node_data.next \n",
        "    node_data.next = new_node\n",
        "\n",
        "\n",
        "#DELETION\n",
        " \n",
        "  def del_node(self, node_data):\n",
        "\n",
        "    cur_node = self.head \n",
        "\n",
        "    #deleting head node \n",
        "    if cur_node and cur_node.data == node_data: \n",
        "      self.head = cur_node.next \n",
        "      cur_node = None\n",
        "      return \n",
        "\n",
        "    #deleting nodes other than the head\n",
        "    prev = None\n",
        "    while cur_node and cur_node.data != node_data:\n",
        "      prev = cur_node\n",
        "      cur_node = cur_node.next \n",
        "    \n",
        "    if cur_node is None:\n",
        "      print(\"Node data not found\")\n",
        "      return \n",
        "\n",
        "    prev.next = cur_node.next \n",
        "    cur_node = None \n",
        "  \n",
        "\n",
        "  #deleting node based on position\n",
        "  def delete_node_at_pos(self, pos):\n",
        "    if self.head: \n",
        "      cur_node  = self.head\n",
        "      if pos == 0:\n",
        "        cur_node = cur_node.next\n",
        "        cur_node = None \n",
        "        return\n",
        "\n",
        "      #handling the case where pos is not at position 0\n",
        "      prev = None\n",
        "      count = 0 \n",
        "      while cur_node and count != pos: \n",
        "        prev = cur_node\n",
        "        cur_node = cur_node.next\n",
        "        count += 1 \n",
        "      \n",
        "      #if pos is not found\n",
        "      if cur_node is None:\n",
        "        return \n",
        "\n",
        "      prev.next = cur_node.next\n",
        "      cur_node = None \n",
        "\n",
        "  #get the length of a linked list\n",
        "  def len_iter(self):\n",
        "    len = 0 \n",
        "    cur_node = self.head\n",
        "    while cur_node:\n",
        "      len += 1\n",
        "      cur_node = cur_node.next \n",
        "    return len\n",
        "\n",
        "  def len_recur(self, node):\n",
        "    if node is None:\n",
        "      return 0\n",
        "    return 1 + self.len_recur(node.next)\n",
        "\n",
        "  #swap nodes in linked list:\n",
        "  def swap_nodes(self, key_1, key_2):\n",
        "\n",
        "    #PROBLEM1: ARE THE KEYS THE SAME? \n",
        "    if key_1 == key_2:\n",
        "      return\n",
        "\n",
        "    #PROBLEM 2: HOW DO WE FIND THE KEYS? \n",
        "    #THIS IS HANDLING THE CASE WHERE THE KEYS ARE NOT YET FOUND \n",
        "    prev = None\n",
        "    curr_1 = self.head\n",
        "    while curr_1 and curr_1.data != key_1:\n",
        "      prev_1 = curr_1\n",
        "      curr_1 = curr_1.next\n",
        "\n",
        "    prev_2 = None\n",
        "    curr_2 = self.head \n",
        "    while curr_2 and curr_2.data != key_2:\n",
        "      prev_2 = curr_2\n",
        "      curr_2 = curr_2.next \n",
        "    \n",
        "    #PROBLEM 3: WHAT IF THE KEYS DON'T EXIST?\n",
        "    #if neither of the keys exists \n",
        "    if not curr_1 or not curr_2:\n",
        "      return\n",
        "\n",
        "    #PROBLEM 4: WHAT DO WE DO WHEN THE KEYS ARE FOUND?  \n",
        "    #case: swapping nodes at head position, we check if the prev_1 and prev_2 values are not equal to None. If they\n",
        "    #are not equal to None (!=None) it implies that there is prev value and the node is not head \n",
        "    if prev_1:\n",
        "      prev_1.next = curr_2\n",
        "    else:\n",
        "      self.head = curr_2\n",
        "\n",
        "    if prev_2:\n",
        "      prev_2.next = curr_1\n",
        "    else:\n",
        "      self.head = curr_1 \n",
        "\n",
        "    #FINALLY, HANDLE THE CASE OF SWAPPING THE NODES \n",
        "    curr_1.next, curr_2.next = curr_2.next, curr_1.next \n",
        "\n",
        "   \n",
        "  def reverse_llist(self):\n",
        "    prev = None\n",
        "    cur_node = self.head\n",
        "    while cur_node:\n",
        "      next = cur_node.next\n",
        "      cur_node.next = prev\n",
        "      prev = cur_node\n",
        "      cur_node = next \n",
        "    self.head = prev \n",
        "\n",
        "  def reverse_recursive(self):\n",
        "\n",
        "    def _reverse_recur(cur_node, prev):\n",
        "      if not cur_node:\n",
        "        return prev\n",
        "      \n",
        "      next = cur_node.next\n",
        "      cur_node.next = prev\n",
        "      prev = cur_node\n",
        "      cur_node = next\n",
        "      return _reverse_recur(cur_node, prev)\n",
        "\n",
        "    self.head = _reverse_recur(cur_node=self.head, prev=None)\n",
        "\n",
        "  def merge_sorted(self,llist):\n",
        "    list_a = self.head #starts home list \n",
        "    list_b = llist.head #second list to be assigned \n",
        "    new_list_pointer = None #pointer that reorder list\n",
        "\n",
        "    #case where missing list a or list b \n",
        "    if not list_a:\n",
        "      return list_b\n",
        "    if not list_b:\n",
        "      return list_a\n",
        "\n",
        "    if list_a and list_b:\n",
        "      if list_a.data <= list_b.data:\n",
        "        new_list_pointer = list_a\n",
        "        list_a = new_list_pointer.next \n",
        "      else:\n",
        "        new_list_pointer = list_b\n",
        "        list_b = new_list_pointer.next \n",
        "      new_head = new_list_pointer \n",
        "      \n",
        "    while list_a and list_b:\n",
        "      if list_a.data <= list_b.data:\n",
        "        new_list_pointer.next = list_a\n",
        "        new_list_pointer = list_a\n",
        "        list_a = new_list_pointer.next \n",
        "      else:\n",
        "        new_list_pointer.next = list_b \n",
        "        new_list_pointer = list_b\n",
        "        list_b = new_list_pointer.next\n",
        "\n",
        "    if not list_a:\n",
        "      new_list_pointer.next = list_b\n",
        "    if not list_b:\n",
        "      new_list_pointer.next = list_a\n",
        "    \n",
        "    self.head = new_head \n",
        "    return self.head \n",
        "\n",
        "\n",
        "  def remove_duplicate(self, llist):\n",
        "    cur = self.head\n",
        "    prev = None\n",
        "    dup_items = dict()\n",
        "\n",
        "    while cur:\n",
        "      if cur.data in dup_items:\n",
        "        prev.next = cur.next\n",
        "        cur = None \n",
        "      else:\n",
        "        if cur.data not in dup_items:\n",
        "          dup_items[cur.data] = 1\n",
        "          prev = cur\n",
        "      cur = prev.next \n",
        "\n",
        "  def reverse_list2(self):\n",
        "    prev = None\n",
        "    cur = self.head\n",
        "    while cur:\n",
        "      nixt = cur.next\n",
        "      prev = cur.next \n",
        "      # cur.next = prev \n",
        "      cur = prev\n",
        "      # prev = cur \n",
        "      cur = nixt\n",
        "    self.head = prev \n",
        "\n",
        "        \n",
        "  def nth_to_last(self, n, method):\n",
        "    if method == 1: \n",
        "      total_len = self.len_iter()\n",
        "      cur = self.head\n",
        "      while cur:\n",
        "        if total_len == n:\n",
        "          #print(cur.data)\n",
        "          return cur.data\n",
        "        total_len -= 1\n",
        "        cur = cur.next\n",
        "      if cur is None:\n",
        "        return \n",
        "    if method == 2: \n",
        "      p = self.head\n",
        "      q = self.head \n",
        "      count = 0 \n",
        "      while q:\n",
        "        count += 1\n",
        "        if (count>= n):\n",
        "          break\n",
        "        q = q.next \n",
        "      if not q:\n",
        "        return \"Value exceeds list\"\n",
        "      while p and q.next:\n",
        "        p = p.next\n",
        "        q = q.next \n",
        "      return p.data \n",
        "    else:\n",
        "      return None  \n",
        "\n",
        "\n",
        "  def rotate_list(self, pivot):\n",
        "    if self.head and self.head.next: \n",
        "      p = self.head\n",
        "      q = self.head\n",
        "      prev = None\n",
        "      count = 0 \n",
        "\n",
        "      while p and (count < pivot):\n",
        "        prev = p\n",
        "        p = p.next\n",
        "        q = q.next\n",
        "        count += 1 \n",
        "      p = prev\n",
        "      while q: \n",
        "        prev = q\n",
        "        q = q.next\n",
        "      q = prev\n",
        "\n",
        "      q.next = self.head\n",
        "      self.head = p.next\n",
        "      p.next = None \n",
        "\n",
        "  def is_palindrome_string(self):\n",
        "    s = \"\"\n",
        "    p = self.head\n",
        "    while p:\n",
        "      s += p.data\n",
        "      p = p.next \n",
        "    return s == s[::-1]\n",
        "\n",
        "  def is_palindrome_stack(self):\n",
        "    p = self.head\n",
        "    s = []\n",
        "    while p:\n",
        "      s.append(p.data)\n",
        "      p = p.next\n",
        "    p = self.head\n",
        "    \n",
        "    while p:\n",
        "      data = s.pop()\n",
        "      if p.data != data:\n",
        "        return False\n",
        "      p = p.next\n",
        "    return True\n",
        "    \n",
        "  def move_tail_to_head(self):\n",
        "      cur = self.head\n",
        "      prev = None\n",
        "      \n",
        "      while cur.next:\n",
        "          prev = cur\n",
        "          cur = cur.next\n",
        "      \n",
        "      prev.next = None\n",
        "      cur.next = self.head\n",
        "      self.head = cur \n",
        "\n",
        "  def sum_two_lists(self, llist):\n",
        "      if self.head: \n",
        "        p = self.head\n",
        "        q = llist.head \n",
        "        pList = []\n",
        "        qList = []    \n",
        "      \n",
        "        while p: \n",
        "          pList.append(p.data)\n",
        "          p = p.next\n",
        "        L1 = pList[::-1]\n",
        "        print(\"L1 type:\", type(L1))\n",
        "        num1 = \"\".join(map(str, L1))\n",
        "\n",
        "        while q:\n",
        "          qList.append(q.data)\n",
        "          q = q.next\n",
        "        L2 = qList[::-1]\n",
        "        num2 = \"\".join(map(str, L2))\n",
        "\n",
        "        if p is None:\n",
        "          print(L2) \n",
        "        \n",
        "        if q is None:\n",
        "          print(L1)\n",
        "\n",
        "\n",
        "        sumList = str(int(num1) + int(num2))\n",
        "        # print(\"sumlist:\", sumList)\n",
        "        # sumList = str(sumList)\n",
        "      \n",
        "        finalList = list(sumList)\n",
        "        print(\"finalList: \", finalList)\n",
        "\n",
        "        numList = list(map(int, finalList))\n",
        "        return numList\n",
        "        # print(numList)\n",
        "     \n",
        "\n",
        "\n",
        "\n"
      ]
    },
    {
      "cell_type": "code",
      "source": [
        "l = LinkedList()\n",
        "l.append(6)\n",
        "l.append(4)\n",
        "l.append(3)\n",
        "l.printLL()\n",
        "print()\n",
        "llist = LinkedList()\n",
        "llist.append(2)\n",
        "llist.append(2)\n",
        "llist.append(4)\n",
        "llist.printLL()"
      ],
      "metadata": {
        "colab": {
          "base_uri": "https://localhost:8080/"
        },
        "id": "Vn0v9MMbs9oj",
        "outputId": "14ca8eba-a5cd-403f-ea94-ffa1475570f8"
      },
      "execution_count": null,
      "outputs": [
        {
          "output_type": "stream",
          "name": "stdout",
          "text": [
            "6\n",
            "4\n",
            "3\n",
            "\n",
            "2\n",
            "2\n",
            "4\n"
          ]
        }
      ]
    },
    {
      "cell_type": "code",
      "source": [
        "l.sum_two_lists(llist)"
      ],
      "metadata": {
        "colab": {
          "base_uri": "https://localhost:8080/"
        },
        "id": "QCvdJEf8HO2c",
        "outputId": "deaf7378-d338-4303-c9a5-8f128ced0a92"
      },
      "execution_count": null,
      "outputs": [
        {
          "output_type": "stream",
          "name": "stdout",
          "text": [
            "L1 type: <class 'list'>\n",
            "[4, 2, 2]\n",
            "[3, 4, 6]\n",
            "finalList:  ['7', '6', '8']\n"
          ]
        },
        {
          "output_type": "execute_result",
          "data": {
            "text/plain": [
              "[7, 6, 8]"
            ]
          },
          "metadata": {},
          "execution_count": 10
        }
      ]
    },
    {
      "cell_type": "code",
      "source": [
        "l.append(1)"
      ],
      "metadata": {
        "id": "-H42KQ0jRnc6"
      },
      "execution_count": null,
      "outputs": []
    },
    {
      "cell_type": "code",
      "source": [
        "llist.append(1)"
      ],
      "metadata": {
        "id": "hOUBbnaGoQW5"
      },
      "execution_count": null,
      "outputs": []
    },
    {
      "cell_type": "code",
      "source": [
        "l.sum_two_lists(llist)"
      ],
      "metadata": {
        "colab": {
          "base_uri": "https://localhost:8080/"
        },
        "id": "akLPu4W_oSK4",
        "outputId": "d3dbefd8-9cf2-4d7e-8491-d7721a681be2"
      },
      "execution_count": null,
      "outputs": [
        {
          "output_type": "stream",
          "name": "stdout",
          "text": [
            "L1 type: <class 'list'>\n",
            "[1, 4, 2, 2]\n",
            "[1, 3, 4, 6]\n",
            "finalList:  ['2', '7', '6', '8']\n"
          ]
        },
        {
          "output_type": "execute_result",
          "data": {
            "text/plain": [
              "[2, 7, 6, 8]"
            ]
          },
          "metadata": {},
          "execution_count": 13
        }
      ]
    },
    {
      "cell_type": "code",
      "source": [],
      "metadata": {
        "id": "lswEkmU_oUVB"
      },
      "execution_count": null,
      "outputs": []
    },
    {
      "cell_type": "markdown",
      "source": [
        "Circular Linked List"
      ],
      "metadata": {
        "id": "q6mTu-gIbKIJ"
      }
    },
    {
      "cell_type": "code",
      "source": [
        "class Node:\n",
        "    def __init__(self, data):\n",
        "      self.data = data\n",
        "      self.next = None\n",
        "\n",
        "class CircularLinkedList:\n",
        "  def __init__(self):\n",
        "    self.head = None\n",
        "\n",
        "  def c_append(self, data):\n",
        "    new_node = Node(data)\n",
        "\n",
        "    if self.head is None:\n",
        "      self.head = new_node\n",
        "      self.head.next = self.head\n",
        "    \n",
        "    else:\n",
        "      cur = self.head \n",
        "      while cur.next != self.head:\n",
        "        cur = cur.next\n",
        "      cur.next = new_node\n",
        "      new_node.next = self.head \n",
        "\n",
        "  def c_prepend(self, data):\n",
        "    new_node = Node(data)\n",
        "    cur = self.head\n",
        "    new_node.next = self.head\n",
        "\n",
        "    if not self.head:\n",
        "      new_node.next = new_node \n",
        "    \n",
        "    else:\n",
        "      while cur.next != self.head:\n",
        "        cur = cur.next\n",
        "      cur.next = new_node\n",
        "    self.head = new_node \n",
        "\n",
        "  def c_print_list(self):\n",
        "    cur = self.head\n",
        "    while cur:\n",
        "      print(cur.data)\n",
        "      cur = cur.next\n",
        "      if cur == self.head:\n",
        "        break\n",
        "\n",
        "  def c_remove(self, key):\n",
        "    #checks if the list is empty\n",
        "    if self.head:\n",
        "      \n",
        "      #if the node to be deleted is the first node \n",
        "      if self.head.data == key:\n",
        "        cur = self.head\n",
        "\n",
        "        #finding the node pointing to the head node/last node\n",
        "        while cur.next != self.head:\n",
        "          cur = cur.next\n",
        "      \n",
        "      #if the node is pointing to itself\n",
        "        if self.head == self.head.next:\n",
        "          self.head = None\n",
        "        else:\n",
        "          cur.next = self.head.next\n",
        "        self.head = self.head.next\n",
        "      \n",
        "      else:\n",
        "        cur = self.head\n",
        "        prev = None\n",
        "        while cur.next != self.head:\n",
        "          prev = cur\n",
        "          cur = cur.next\n",
        "          if cur.data == key:\n",
        "            prev.next = cur.next\n",
        "            cur = cur.next \n",
        "\n",
        "  def __len__(self):\n",
        "    cur = self.head\n",
        "    count = 0 \n",
        "    \n",
        "    while cur:\n",
        "      count += 1\n",
        "      cur = cur.next\n",
        "      if cur == self.head:\n",
        "        break\n",
        "    return count\n",
        "\n",
        "\n",
        "  def c_split_list(self):\n",
        "    size = len(self)\n",
        "\n",
        "    #if the list is empty\n",
        "    if size == 0:\n",
        "      return None\n",
        "    if size == 1:\n",
        "      return self.head \n",
        "    \n",
        "    mid = size//2 \n",
        "    count = 0 \n",
        "\n",
        "    prev = None\n",
        "    cur = self.head\n",
        "\n",
        "    while cur and count < mid:\n",
        "      count += 1\n",
        "      prev = cur\n",
        "      cur = cur.next\n",
        "    prev.next = self.head\n",
        "\n",
        "    split_clist = CircularLinkedList()\n",
        "    while cur.next != self.head:\n",
        "      split_clist.c_append(cur.data)\n",
        "      cur = cur.next\n",
        "    split_clist.c_append(cur.data)\n",
        "\n",
        "    self.c_print_list()\n",
        "    print(\"\\n\")\n",
        "    split_clist.c_print_list()\n",
        "\n",
        "\n",
        "  def c_remove_node(self, node):\n",
        "    #checks if the list is empty\n",
        "    if self.head:\n",
        "      \n",
        "      #if the node to be deleted is the first node \n",
        "      if self.head == node:\n",
        "        cur = self.head\n",
        "\n",
        "        #finding the node pointing to the head node/last node\n",
        "        while cur.next != self.head:\n",
        "          cur = cur.next\n",
        "      \n",
        "      #if the node is pointing to itself\n",
        "        if self.head == self.head.next:\n",
        "          self.head = None\n",
        "        else:\n",
        "          cur.next = self.head.next\n",
        "        self.head = self.head.next\n",
        "      \n",
        "      else:\n",
        "        cur = self.head\n",
        "        prev = None\n",
        "        while cur.next != self.head:\n",
        "          prev = cur\n",
        "          cur = cur.next\n",
        "          if cur == node:\n",
        "            prev.next = cur.next\n",
        "            cur = cur.next \n",
        "\n",
        "  def josephus_circle(self, step):\n",
        "    cur = self.head\n",
        "\n",
        "    length = len(self)\n",
        "    while length > 1:\n",
        "      count = 1\n",
        "      while count != step: \n",
        "        cur = cur.next\n",
        "        count += 1\n",
        "      print(\"Goner:\" + str(cur.data))\n",
        "      self.c_remove_node(cur)\n",
        "      cur = cur.next\n",
        "      length -= 1 \n",
        "  \n",
        "  def is_circular_linked_list(self, input_list):\n",
        "    if input_list.head:\n",
        "      cur = input_list.head\n",
        "      while cur.next:\n",
        "        cur = cur.next\n",
        "        if cur.next == input_list.head:\n",
        "          return True\n",
        "      return False \n",
        "    else:\n",
        "      return False \n"
      ],
      "metadata": {
        "id": "C2yqWv7KbNFQ"
      },
      "execution_count": null,
      "outputs": []
    },
    {
      "cell_type": "markdown",
      "source": [
        "Doubly Linked List"
      ],
      "metadata": {
        "id": "42Y4mEyWIkSo"
      }
    },
    {
      "cell_type": "code",
      "source": [
        "class Node:\n",
        "  def __init__(self, data):\n",
        "    self.data = data\n",
        "    self.next = None\n",
        "    self.prev = None \n",
        "\n",
        "class doubly_linked_list:\n",
        "  def __init__(self):\n",
        "    self.head = None\n",
        "\n",
        "  def append(self, data):\n",
        "    if self.head is None:\n",
        "      new_node = Node(data)\n",
        "      self.head = new_node\n",
        "    else: \n",
        "      new_node = Node(data)\n",
        "      cur = self.head\n",
        "      while cur.next:\n",
        "        cur = cur.next\n",
        "      cur.next = new_node\n",
        "      new_node.prev = cur \n",
        "\n",
        "\n",
        "  def print(self):\n",
        "    cur = self.head\n",
        "    while cur:\n",
        "      print(cur.data)\n",
        "      cur = cur.next \n",
        "\n",
        "  def prepend(self, data):\n",
        "    if self.head is None:\n",
        "      new_node = Node(data)\n",
        "      self.head = new_node\n",
        "    else:\n",
        "      new_node = Node(data)\n",
        "      self.head.prev = new_node\n",
        "      new_node.next = self.head\n",
        "      self.head = new_node \n",
        "\n",
        "  def append_after_dll(self, data, key):\n",
        "    cur = self.head\n",
        "    while cur:\n",
        "      if cur.next is None and cur.data == key:\n",
        "        cur.append(data)\n",
        "        return \n",
        "      elif cur.data == key:\n",
        "        new_node = Node(data)\n",
        "        nxt = cur.next \n",
        "        cur.next = new_node\n",
        "        new_node.next = nxt\n",
        "        nxt.prev = new_node\n",
        "        new_node.prev = cur\n",
        "        return\n",
        "      cur = cur.next\n",
        "\n",
        "  def two_sum(self, sumVal):\n",
        "    pair_list = []\n",
        "    cur = self.head\n",
        "    nxt = None\n",
        "\n",
        "    while cur:\n",
        "      nxt = cur.next\n",
        "      while nxt:\n",
        "        if (cur.data + nxt.data) == sumVal:\n",
        "          pair_list.append(('(' + str(cur.data) + ','+ str(nxt.data) + ')'))\n",
        "        nxt = nxt.next \n",
        "      \n",
        "      cur = cur.next \n",
        "    return pair_list\n",
        "    \n",
        "  \n",
        "   "
      ],
      "metadata": {
        "id": "g61Kvl9BY42X"
      },
      "execution_count": null,
      "outputs": []
    },
    {
      "cell_type": "code",
      "source": [
        "dll = doubly_linked_list()\n",
        "dll.append(1)\n",
        "dll.append(13)\n",
        "dll.append(11)\n",
        "dll.append(3)\n",
        "dll.append(4)\n",
        "dll.append(2)\n",
        "dll.print()"
      ],
      "metadata": {
        "colab": {
          "base_uri": "https://localhost:8080/"
        },
        "id": "XIiO-ISjLsCa",
        "outputId": "821ae604-cb07-4643-e949-1e680f715920"
      },
      "execution_count": null,
      "outputs": [
        {
          "output_type": "stream",
          "name": "stdout",
          "text": [
            "1\n",
            "13\n",
            "11\n",
            "3\n",
            "4\n",
            "2\n"
          ]
        }
      ]
    },
    {
      "cell_type": "code",
      "source": [
        "print(dll.two_sum(5))"
      ],
      "metadata": {
        "colab": {
          "base_uri": "https://localhost:8080/"
        },
        "id": "XnVgWcMZUucl",
        "outputId": "c8bbb03d-803f-4311-f39e-59368a92b1e5"
      },
      "execution_count": null,
      "outputs": [
        {
          "output_type": "stream",
          "name": "stdout",
          "text": [
            "['(1,4)', '(3,2)']\n"
          ]
        }
      ]
    },
    {
      "cell_type": "code",
      "source": [
        "def addOne(l):\n",
        "  l[-1] += 1\n",
        "  for i in reversed(range(1, len(l))):\n",
        "    if l[i] != 10:\n",
        "      break\n",
        "    l[i] = 0\n",
        "    l[i - 1] += 1\n",
        "  if l[0] == 10:\n",
        "    l[0] = 1\n",
        "    l.append(0)\n",
        "  return l \n"
      ],
      "metadata": {
        "id": "Lq959LGFlncr"
      },
      "execution_count": 47,
      "outputs": []
    },
    {
      "cell_type": "code",
      "source": [
        "A = [1, 5, 9]\n",
        "B = [1, 5, 3]\n",
        "print(addOne(A))\n",
        "print(addOne(B))"
      ],
      "metadata": {
        "colab": {
          "base_uri": "https://localhost:8080/"
        },
        "id": "h0GflJYUNRPk",
        "outputId": "3615a9f0-d4fb-4764-bee1-e40c96c46399"
      },
      "execution_count": 49,
      "outputs": [
        {
          "output_type": "stream",
          "name": "stdout",
          "text": [
            "[1, 6, 0]\n",
            "[1, 5, 4]\n"
          ]
        }
      ]
    },
    {
      "cell_type": "code",
      "source": [],
      "metadata": {
        "id": "-iiBFvppSuLT"
      },
      "execution_count": null,
      "outputs": []
    }
  ],
  "metadata": {
    "colab": {
      "provenance": [],
      "authorship_tag": "ABX9TyPokKgdIq2TNbtkuclf4pLH",
      "include_colab_link": true
    },
    "kernelspec": {
      "display_name": "Python 3",
      "name": "python3"
    },
    "language_info": {
      "name": "python"
    }
  },
  "nbformat": 4,
  "nbformat_minor": 0
}