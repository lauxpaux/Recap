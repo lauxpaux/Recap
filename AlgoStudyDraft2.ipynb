{
  "nbformat": 4,
  "nbformat_minor": 0,
  "metadata": {
    "colab": {
      "provenance": [],
      "collapsed_sections": [],
      "authorship_tag": "ABX9TyM/LXB6VhiDC+3eVJwatYOy",
      "include_colab_link": true
    },
    "kernelspec": {
      "name": "python3",
      "display_name": "Python 3"
    },
    "language_info": {
      "name": "python"
    }
  },
  "cells": [
    {
      "cell_type": "markdown",
      "metadata": {
        "id": "view-in-github",
        "colab_type": "text"
      },
      "source": [
        "<a href=\"https://colab.research.google.com/github/lauxpaux/Recap/blob/main/AlgoStudyDraft2.ipynb\" target=\"_parent\"><img src=\"https://colab.research.google.com/assets/colab-badge.svg\" alt=\"Open In Colab\"/></a>"
      ]
    },
    {
      "cell_type": "markdown",
      "source": [
        "Lists"
      ],
      "metadata": {
        "id": "Qr7-_mEM6YtM"
      }
    },
    {
      "cell_type": "code",
      "execution_count": 34,
      "metadata": {
        "id": "E-VDoHSR6T0D"
      },
      "outputs": [],
      "source": [
        "class Node():\n",
        "  def __init__(self, data):\n",
        "    self.data = data\n",
        "    self.next = None \n",
        "\n",
        "class LinkedList():\n",
        "  def __init__(self):\n",
        "    self.head = None\n",
        "\n",
        "################################\n",
        "  def print_list(self):\n",
        "    cur = self.head\n",
        "    while cur:\n",
        "      print(cur.data)\n",
        "      cur = cur.next    \n",
        "\n",
        "################################\n",
        "  def append(self, data):\n",
        "    new_node = Node(data)\n",
        "    if self.head is None:\n",
        "      self.head = new_node\n",
        "      return\n",
        "    cur = self.head\n",
        "    while cur.next:\n",
        "      cur = cur.next\n",
        "    cur.next = new_node\n",
        "\n",
        "#################################\n",
        "  def append_after(self, node_data, data):\n",
        "    new_node = Node(data)\n",
        "    if not node_data:\n",
        "      return \"Node not found\"   \n",
        "    new_node.next = node_data.next\n",
        "    node_data.next = new_node    \n",
        "\n",
        "#################################\n",
        "  def prepend(self, node_data, data):\n",
        "    new_node = Node(data)\n",
        "    if not node_data:\n",
        "      return \"Node not found\"\n",
        "    if node_data is self.head:\n",
        "      new_node.next = self.head\n",
        "      self.head = new_node\n",
        "      return\n",
        "    cur = self.head\n",
        "    if cur.next != node_data:\n",
        "      cur = cur.next\n",
        "    new_node.next = cur.next\n",
        "    cur.next = new_node   \n",
        "\n",
        "#################################\n",
        "  def delete_node_pos(self, pos):\n",
        "    if self.head:\n",
        "      cur = self.head\n",
        "      if pos == 0:\n",
        "        self.head = cur.next\n",
        "        cur = None \n",
        "        return\n",
        "    count = 0\n",
        "    prev = None\n",
        "    while cur and count != pos:\n",
        "      prev = cur\n",
        "      cur = cur.next\n",
        "      count += 1\n",
        "    if cur is None:\n",
        "      return \"Position out of bounds\"  \n",
        "    prev.next = cur.next\n",
        "    cur = None\n",
        " \n",
        "#################################\n",
        "  def delete_node_data(self, data):\n",
        "    if self.head:\n",
        "      cur = self.head\n",
        "      if cur.data == data:\n",
        "        self.head = cur.next\n",
        "        cur = None\n",
        "        return \n",
        "    prev = None\n",
        "    while cur and cur.data != data:\n",
        "      prev = cur\n",
        "      cur = cur.next\n",
        "    if cur is None:\n",
        "      return\n",
        "    prev.next = cur.next\n",
        "    cur = None\n",
        "\n",
        "################################\n",
        "  def len_(self):\n",
        "    cur = self.head\n",
        "    count = 0\n",
        "    if self.head is None:\n",
        "      return \"Empty list\"\n",
        "    while cur:\n",
        "      count += 1\n",
        "      cur = cur.next\n",
        "    return count\n",
        "      \n",
        "################################\n",
        "  ####STUDY####\n",
        "  def reverse_list(self): \n",
        "    cur = self.head\n",
        "    prev = None\n",
        "    while cur:\n",
        "      nxt = cur.next\n",
        "      cur.next = prev\n",
        "      prev = cur\n",
        "      cur = nxt\n",
        "    self.head = prev\n",
        "    return \n",
        "\n",
        "\n",
        "################################\n",
        "  #merge two sorted list \n",
        "  def merge_sorted_list(self, llist): \n",
        "    list_a = self.head\n",
        "    list_b = llist.head\n",
        "    smallest_val = None\n",
        "    if not list_a:\n",
        "      return list_b\n",
        "    if not list_b:\n",
        "      return list_a\n",
        "    if list_a and list_b:\n",
        "      if list_a.data <= list_b.data:\n",
        "        smallest_val = list_a\n",
        "        list_a = smallest_val.next    \n",
        "      else:\n",
        "        smallest_val = list_b\n",
        "        list_b = smallest_val.next \n",
        "      new_head = smallest_val\n",
        "    while list_a and list_b:\n",
        "      if list_a.data <= list_b.data:\n",
        "        smallest_val.next = list_a\n",
        "        smallest_val = list_a\n",
        "        list_a = smallest_val.next \n",
        "      else:\n",
        "        smallest_val.next = list_b\n",
        "        smallest_val = list_b\n",
        "        list_b = smallest_val.next \n",
        "    if not list_a:\n",
        "      smallest_val.next = list_b\n",
        "    if not list_b:\n",
        "      smallest_val.next = list_a\n",
        "    self.head = new_head\n",
        "    return self.head \n",
        "\n",
        "################################\n",
        "  def swap_nodes(self, node1, node2):\n",
        "    if node1 == node2:\n",
        "      return \n",
        "    cur = self.head\n",
        "    prev = None\n",
        "    while cur and cur.data != node1:\n",
        "      prev = cur\n",
        "      cur = cur.next\n",
        "    cur2 = self.head\n",
        "    prev2 = None\n",
        "    while cur2 and cur2.data != node2:\n",
        "      prev2 = cur2\n",
        "      cur2 = cur2.next\n",
        "    if not node1 or not node2:\n",
        "        return \n",
        "    if prev:\n",
        "      prev.next = cur2\n",
        "    else:\n",
        "      self.head = cur2\n",
        "    if prev2:\n",
        "      prev2.next = cur\n",
        "    else:\n",
        "      self.head = cur\n",
        "    cur.next, cur2.next = cur2.next, cur.next \n",
        "\n",
        "################################\n",
        "  def remove_duplicates(self):\n",
        "    cur = self.head\n",
        "    prev = None \n",
        "    duplicates = dict()\n",
        "    while cur:\n",
        "      if cur.data in duplicates:\n",
        "        prev.next = cur.next\n",
        "        cur = None   \n",
        "      else:\n",
        "        duplicates[cur.data] = 1\n",
        "        prev = cur \n",
        "      cur = prev.next\n",
        "\n",
        "################################\n",
        "  def print_nth_from_last(self, n, method):\n",
        "    if method == 1:\n",
        "      total_len = self.len_()\n",
        "      cur = self.head\n",
        "      while cur:\n",
        "        if total_len == n:\n",
        "          print(cur.data)\n",
        "          return cur.data\n",
        "        total_len -= 1\n",
        "        cur = cur.next\n",
        "      if cur is None:\n",
        "        return \n",
        "    elif method == 2:\n",
        "      p = self.head\n",
        "      q = self.head\n",
        "      if n > 0:\n",
        "        count = 0\n",
        "        while q:\n",
        "          count += 1 \n",
        "          if (count>=n):\n",
        "            break\n",
        "          q = q.next \n",
        "        if not q: \n",
        "          print(str(n) + \"is greater than lenght of the list\")\n",
        "          return \n",
        "        while p and q.next: \n",
        "          p = p.next\n",
        "          q = q.next\n",
        "        return p.data\n",
        "    else:\n",
        "      return None \n",
        "  \n",
        "################################\n",
        "  def count_occurence(self, value):\n",
        "    cur = self.head\n",
        "    count = 0 \n",
        "    while cur:\n",
        "      if cur.data == value: \n",
        "        count += 1\n",
        "      cur = cur.next \n",
        "    return count\n",
        "    \n",
        "################################\n",
        "  def rotate_list(self, pivot):  \n",
        "    if self.head and self.head.next: \n",
        "      p = self.head\n",
        "      q = self.head\n",
        "      prev = None\n",
        "      count = 0 \n",
        "      while p and (count < pivot):\n",
        "        prev = p\n",
        "        p = p.next\n",
        "        q = q.next\n",
        "        count += 1\n",
        "      p = prev \n",
        "      while q:\n",
        "        prev = q\n",
        "        q = q.next\n",
        "      q = prev \n",
        "      q.next = self.head\n",
        "      self.head = p.next\n",
        "      p.next = None \n",
        "    \n",
        "\n",
        "\n",
        "\n",
        "\n",
        "\n",
        "\n",
        "    \n",
        "\n"
      ]
    },
    {
      "cell_type": "code",
      "source": [
        "#test append\n",
        "l = LinkedList()\n",
        "l.append(1)\n",
        "l.append(2)\n",
        "l.append(2)\n",
        "l.append(3)\n",
        "l.append(4)\n",
        "l.append(4)\n",
        "l.append(5)\n",
        "l.append(6)\n"
      ],
      "metadata": {
        "id": "y_BNzaNW9lEH"
      },
      "execution_count": 2,
      "outputs": []
    },
    {
      "cell_type": "code",
      "source": [
        "#length test\n",
        "l.len_()"
      ],
      "metadata": {
        "colab": {
          "base_uri": "https://localhost:8080/"
        },
        "id": "FaGSmxWiSKTY",
        "outputId": "cb537795-c71c-4a2b-9940-13266dfc6b3e"
      },
      "execution_count": 3,
      "outputs": [
        {
          "output_type": "execute_result",
          "data": {
            "text/plain": [
              "8"
            ]
          },
          "metadata": {},
          "execution_count": 3
        }
      ]
    },
    {
      "cell_type": "code",
      "source": [
        "#test print\n",
        "l.print_list()"
      ],
      "metadata": {
        "colab": {
          "base_uri": "https://localhost:8080/"
        },
        "id": "IGhRrBdO9skR",
        "outputId": "7b5fb331-7131-4e59-eb1a-ee755ac90622"
      },
      "execution_count": 4,
      "outputs": [
        {
          "output_type": "stream",
          "name": "stdout",
          "text": [
            "1\n",
            "2\n",
            "2\n",
            "3\n",
            "4\n",
            "4\n",
            "5\n",
            "6\n"
          ]
        }
      ]
    },
    {
      "cell_type": "code",
      "source": [
        "#test append\n",
        "l.append_after(l.head.next.next, 7)\n",
        "l.print_list()"
      ],
      "metadata": {
        "colab": {
          "base_uri": "https://localhost:8080/"
        },
        "id": "NPgaQxzohUFC",
        "outputId": "d075e559-bb8c-476d-dc81-d65a5c03dce8"
      },
      "execution_count": 5,
      "outputs": [
        {
          "output_type": "stream",
          "name": "stdout",
          "text": [
            "1\n",
            "2\n",
            "2\n",
            "7\n",
            "3\n",
            "4\n",
            "4\n",
            "5\n",
            "6\n"
          ]
        }
      ]
    },
    {
      "cell_type": "code",
      "source": [
        "l.prepend(l.head.next.next, 22)\n",
        "l.print_list()"
      ],
      "metadata": {
        "colab": {
          "base_uri": "https://localhost:8080/"
        },
        "id": "lhByWB38k6io",
        "outputId": "78798d82-5dcc-4721-f2d4-6730aeb650f6"
      },
      "execution_count": 6,
      "outputs": [
        {
          "output_type": "stream",
          "name": "stdout",
          "text": [
            "1\n",
            "2\n",
            "22\n",
            "2\n",
            "7\n",
            "3\n",
            "4\n",
            "4\n",
            "5\n",
            "6\n"
          ]
        }
      ]
    },
    {
      "cell_type": "code",
      "source": [
        "#reverse test\n",
        "l.reverse_list()\n",
        "l.print_list()"
      ],
      "metadata": {
        "colab": {
          "base_uri": "https://localhost:8080/"
        },
        "id": "h1b1xztF7sVV",
        "outputId": "5500efe3-e75f-4c8a-8bd5-3883f080574a"
      },
      "execution_count": 7,
      "outputs": [
        {
          "output_type": "stream",
          "name": "stdout",
          "text": [
            "6\n",
            "5\n",
            "4\n",
            "4\n",
            "3\n",
            "7\n",
            "2\n",
            "22\n",
            "2\n",
            "1\n"
          ]
        }
      ]
    },
    {
      "cell_type": "code",
      "source": [
        "l.remove_duplicates()"
      ],
      "metadata": {
        "id": "ihp-6k24GIco"
      },
      "execution_count": 8,
      "outputs": []
    },
    {
      "cell_type": "code",
      "source": [
        "l.print_list()"
      ],
      "metadata": {
        "id": "3kdY_SNc_MCB",
        "colab": {
          "base_uri": "https://localhost:8080/"
        },
        "outputId": "d224253b-0de5-44cf-e010-47e84b861de7"
      },
      "execution_count": 9,
      "outputs": [
        {
          "output_type": "stream",
          "name": "stdout",
          "text": [
            "6\n",
            "5\n",
            "4\n",
            "3\n",
            "7\n",
            "2\n",
            "22\n",
            "1\n"
          ]
        }
      ]
    },
    {
      "cell_type": "code",
      "source": [
        "#test merge sorted method\n",
        "l2 = LinkedList()\n",
        "l2.append(10)\n",
        "l2.append(24)\n",
        "l2.append(27)\n",
        "l2.append(9)"
      ],
      "metadata": {
        "id": "yLYlCTlkcsHv"
      },
      "execution_count": 10,
      "outputs": []
    },
    {
      "cell_type": "code",
      "source": [
        "l2.print_list()"
      ],
      "metadata": {
        "id": "kwbowccs9feD",
        "colab": {
          "base_uri": "https://localhost:8080/"
        },
        "outputId": "9c253b3e-357f-4901-d258-765e5a943eef"
      },
      "execution_count": 11,
      "outputs": [
        {
          "output_type": "stream",
          "name": "stdout",
          "text": [
            "10\n",
            "24\n",
            "27\n",
            "9\n"
          ]
        }
      ]
    },
    {
      "cell_type": "code",
      "source": [
        "l.print_list()"
      ],
      "metadata": {
        "colab": {
          "base_uri": "https://localhost:8080/"
        },
        "id": "-P1Ad2R0Z3cE",
        "outputId": "a239408f-1124-4798-c1c4-c79c7a990e83"
      },
      "execution_count": 12,
      "outputs": [
        {
          "output_type": "stream",
          "name": "stdout",
          "text": [
            "6\n",
            "5\n",
            "4\n",
            "3\n",
            "7\n",
            "2\n",
            "22\n",
            "1\n"
          ]
        }
      ]
    },
    {
      "cell_type": "code",
      "source": [
        "list1 = LinkedList()\n",
        "list1.append(2)\n",
        "list1.append(4)\n",
        "list1.append(5)\n",
        "list1.append(7)"
      ],
      "metadata": {
        "id": "uKCtf5ChbI7w"
      },
      "execution_count": 13,
      "outputs": []
    },
    {
      "cell_type": "code",
      "source": [
        "list2 = LinkedList()\n",
        "list2.append(1)\n",
        "list2.append(3)\n",
        "list2.append(6)\n",
        "list2.append(9)"
      ],
      "metadata": {
        "id": "uxFkdgzTbThr"
      },
      "execution_count": 14,
      "outputs": []
    },
    {
      "cell_type": "code",
      "source": [
        "list1.merge_sorted_list(list2)\n",
        "list1.print_list()"
      ],
      "metadata": {
        "colab": {
          "base_uri": "https://localhost:8080/"
        },
        "id": "K5QJh0knPL_H",
        "outputId": "4bb2ecb6-6112-49b6-9faf-e8d7e0a80b68"
      },
      "execution_count": 15,
      "outputs": [
        {
          "output_type": "stream",
          "name": "stdout",
          "text": [
            "1\n",
            "2\n",
            "3\n",
            "4\n",
            "5\n",
            "6\n",
            "7\n",
            "9\n"
          ]
        }
      ]
    },
    {
      "cell_type": "code",
      "source": [
        "l.print_list()"
      ],
      "metadata": {
        "id": "R06XoJWm-vng",
        "colab": {
          "base_uri": "https://localhost:8080/"
        },
        "outputId": "c30e36fd-5119-40ef-907c-06044f369faf"
      },
      "execution_count": 16,
      "outputs": [
        {
          "output_type": "stream",
          "name": "stdout",
          "text": [
            "6\n",
            "5\n",
            "4\n",
            "3\n",
            "7\n",
            "2\n",
            "22\n",
            "1\n"
          ]
        }
      ]
    },
    {
      "cell_type": "code",
      "source": [
        "l.delete_node_pos(3)\n",
        "l.print_list()"
      ],
      "metadata": {
        "colab": {
          "base_uri": "https://localhost:8080/"
        },
        "id": "JSTyZO5uyyWd",
        "outputId": "b5bee3d9-f213-49d3-bc64-bfe6430d650d"
      },
      "execution_count": 17,
      "outputs": [
        {
          "output_type": "stream",
          "name": "stdout",
          "text": [
            "6\n",
            "5\n",
            "4\n",
            "7\n",
            "2\n",
            "22\n",
            "1\n"
          ]
        }
      ]
    },
    {
      "cell_type": "code",
      "source": [
        "l.delete_node_pos(0)\n",
        "l.print_list()\n",
        "print()\n",
        "print('Length:')\n",
        "l.len_()"
      ],
      "metadata": {
        "colab": {
          "base_uri": "https://localhost:8080/"
        },
        "id": "SWX8StBdzIIZ",
        "outputId": "97df2c9d-80a3-4e10-bfe3-5c6152c62e50"
      },
      "execution_count": 18,
      "outputs": [
        {
          "output_type": "stream",
          "name": "stdout",
          "text": [
            "5\n",
            "4\n",
            "7\n",
            "2\n",
            "22\n",
            "1\n",
            "\n",
            "Length:\n"
          ]
        },
        {
          "output_type": "execute_result",
          "data": {
            "text/plain": [
              "6"
            ]
          },
          "metadata": {},
          "execution_count": 18
        }
      ]
    },
    {
      "cell_type": "code",
      "source": [
        "l.delete_node_pos(4)\n",
        "l.print_list()"
      ],
      "metadata": {
        "colab": {
          "base_uri": "https://localhost:8080/"
        },
        "id": "pqA8PKJczseN",
        "outputId": "2b3ce1b3-7910-4c3c-f512-ded8404a6612"
      },
      "execution_count": 19,
      "outputs": [
        {
          "output_type": "stream",
          "name": "stdout",
          "text": [
            "5\n",
            "4\n",
            "7\n",
            "2\n",
            "1\n"
          ]
        }
      ]
    },
    {
      "cell_type": "code",
      "source": [
        "l.delete_node_pos(6)"
      ],
      "metadata": {
        "colab": {
          "base_uri": "https://localhost:8080/",
          "height": 35
        },
        "id": "Ery_AZ2T1Qe6",
        "outputId": "c3e312e2-3076-4356-b48d-2ef515af8b46"
      },
      "execution_count": 20,
      "outputs": [
        {
          "output_type": "execute_result",
          "data": {
            "text/plain": [
              "'Position out of bounds'"
            ],
            "application/vnd.google.colaboratory.intrinsic+json": {
              "type": "string"
            }
          },
          "metadata": {},
          "execution_count": 20
        }
      ]
    },
    {
      "cell_type": "code",
      "source": [
        "l.print_list()"
      ],
      "metadata": {
        "colab": {
          "base_uri": "https://localhost:8080/"
        },
        "id": "MzS2gOwV44vq",
        "outputId": "c6708ea3-b471-497e-e87f-7b0a4fe1be15"
      },
      "execution_count": 21,
      "outputs": [
        {
          "output_type": "stream",
          "name": "stdout",
          "text": [
            "5\n",
            "4\n",
            "7\n",
            "2\n",
            "1\n"
          ]
        }
      ]
    },
    {
      "cell_type": "code",
      "source": [
        "l.delete_node_data(4)\n",
        "l.print_list()"
      ],
      "metadata": {
        "colab": {
          "base_uri": "https://localhost:8080/"
        },
        "id": "XYVeKhmP45dW",
        "outputId": "0aee66f5-7e19-4f4c-e6d3-a9d0a4cb912f"
      },
      "execution_count": 22,
      "outputs": [
        {
          "output_type": "stream",
          "name": "stdout",
          "text": [
            "5\n",
            "7\n",
            "2\n",
            "1\n"
          ]
        }
      ]
    },
    {
      "cell_type": "code",
      "source": [
        "l.delete_node_data(5)\n",
        "l.print_list()"
      ],
      "metadata": {
        "colab": {
          "base_uri": "https://localhost:8080/"
        },
        "id": "5KytPahe5gnn",
        "outputId": "f16007bb-9bcc-40da-976c-bd0457bd25a0"
      },
      "execution_count": 23,
      "outputs": [
        {
          "output_type": "stream",
          "name": "stdout",
          "text": [
            "7\n",
            "2\n",
            "1\n"
          ]
        }
      ]
    },
    {
      "cell_type": "code",
      "source": [
        "l.delete_node_data(2)\n",
        "l.print_list()"
      ],
      "metadata": {
        "colab": {
          "base_uri": "https://localhost:8080/"
        },
        "id": "RI9LN1CA5y_h",
        "outputId": "24b17dc6-8a22-44c7-cf0c-26ed0ee3ce89"
      },
      "execution_count": 24,
      "outputs": [
        {
          "output_type": "stream",
          "name": "stdout",
          "text": [
            "7\n",
            "1\n"
          ]
        }
      ]
    },
    {
      "cell_type": "code",
      "source": [
        "l.append(1)\n",
        "l.append(2)\n",
        "l.append(3)\n",
        "l.append(4)\n",
        "l.print_list()"
      ],
      "metadata": {
        "colab": {
          "base_uri": "https://localhost:8080/"
        },
        "id": "cW1VulqI8xTg",
        "outputId": "0811aaf4-0c2c-483d-8828-caf05a5c5f0e"
      },
      "execution_count": 25,
      "outputs": [
        {
          "output_type": "stream",
          "name": "stdout",
          "text": [
            "7\n",
            "1\n",
            "1\n",
            "2\n",
            "3\n",
            "4\n"
          ]
        }
      ]
    },
    {
      "cell_type": "code",
      "source": [
        "l.remove_duplicates()"
      ],
      "metadata": {
        "id": "N2XcDGo28xC9"
      },
      "execution_count": 26,
      "outputs": []
    },
    {
      "cell_type": "code",
      "source": [
        "l.print_list()"
      ],
      "metadata": {
        "colab": {
          "base_uri": "https://localhost:8080/"
        },
        "id": "kLyBaSZt888R",
        "outputId": "8b1b0734-28c6-4fc6-895c-7c8d93c1592c"
      },
      "execution_count": 27,
      "outputs": [
        {
          "output_type": "stream",
          "name": "stdout",
          "text": [
            "7\n",
            "1\n",
            "2\n",
            "3\n",
            "4\n"
          ]
        }
      ]
    },
    {
      "cell_type": "code",
      "source": [
        "l.swap_nodes(2,7)"
      ],
      "metadata": {
        "id": "GBsT0qcV8nqJ"
      },
      "execution_count": 28,
      "outputs": []
    },
    {
      "cell_type": "code",
      "source": [
        "l.print_list()"
      ],
      "metadata": {
        "colab": {
          "base_uri": "https://localhost:8080/"
        },
        "id": "YgcqHNNn9CfW",
        "outputId": "c0e456ea-c2e9-4fd8-9f92-a7db01007730"
      },
      "execution_count": 29,
      "outputs": [
        {
          "output_type": "stream",
          "name": "stdout",
          "text": [
            "2\n",
            "1\n",
            "7\n",
            "3\n",
            "4\n"
          ]
        }
      ]
    },
    {
      "cell_type": "code",
      "source": [
        "print(l.print_nth_from_last(3, 1))"
      ],
      "metadata": {
        "colab": {
          "base_uri": "https://localhost:8080/"
        },
        "id": "sHWJoaKc_niy",
        "outputId": "3384bb07-9c99-499b-b322-5bc751e70307"
      },
      "execution_count": 30,
      "outputs": [
        {
          "output_type": "stream",
          "name": "stdout",
          "text": [
            "7\n",
            "7\n"
          ]
        }
      ]
    },
    {
      "cell_type": "code",
      "source": [
        "l.append(7)\n",
        "l.print_list()"
      ],
      "metadata": {
        "colab": {
          "base_uri": "https://localhost:8080/"
        },
        "id": "_1hr8JL0U-YT",
        "outputId": "1a09a1f9-22f8-4fad-c79e-bf72145b2d76"
      },
      "execution_count": 31,
      "outputs": [
        {
          "output_type": "stream",
          "name": "stdout",
          "text": [
            "2\n",
            "1\n",
            "7\n",
            "3\n",
            "4\n",
            "7\n"
          ]
        }
      ]
    },
    {
      "cell_type": "code",
      "source": [
        "l.count_occurence(7)"
      ],
      "metadata": {
        "colab": {
          "base_uri": "https://localhost:8080/"
        },
        "id": "XHClAInHS68c",
        "outputId": "9c45f87b-a0ba-4f32-e4cc-d7c44ae725b0"
      },
      "execution_count": 32,
      "outputs": [
        {
          "output_type": "execute_result",
          "data": {
            "text/plain": [
              "2"
            ]
          },
          "metadata": {},
          "execution_count": 32
        }
      ]
    },
    {
      "cell_type": "code",
      "source": [
        "l.rotate_list(4)\n",
        "l.print_list()"
      ],
      "metadata": {
        "id": "zveDmdauVCXU",
        "colab": {
          "base_uri": "https://localhost:8080/"
        },
        "outputId": "6d7a31e3-c673-413e-8b20-d20294ace9f6"
      },
      "execution_count": 36,
      "outputs": [
        {
          "output_type": "stream",
          "name": "stdout",
          "text": [
            "4\n",
            "7\n",
            "2\n",
            "1\n",
            "7\n",
            "3\n"
          ]
        }
      ]
    }
  ]
}