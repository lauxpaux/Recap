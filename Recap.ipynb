{
  "cells": [
    {
      "cell_type": "markdown",
      "metadata": {
        "id": "view-in-github",
        "colab_type": "text"
      },
      "source": [
        "<a href=\"https://colab.research.google.com/github/lauxpaux/Recap/blob/main/Recap.ipynb\" target=\"_parent\"><img src=\"https://colab.research.google.com/assets/colab-badge.svg\" alt=\"Open In Colab\"/></a>"
      ]
    },
    {
      "cell_type": "markdown",
      "metadata": {
        "id": "j9Pj-ufqC7q5"
      },
      "source": [
        "# Data Structures Study "
      ]
    },
    {
      "cell_type": "markdown",
      "metadata": {
        "id": "gHMyIv_QzJvI"
      },
      "source": [
        "Implementing a stack "
      ]
    },
    {
      "cell_type": "code",
      "execution_count": null,
      "metadata": {
        "colab": {
          "base_uri": "https://localhost:8080/"
        },
        "id": "KM2t9jk7y_bp",
        "outputId": "162f4960-14d4-4ea5-bbbc-76f1a183d47a"
      },
      "outputs": [
        {
          "output_type": "stream",
          "name": "stdout",
          "text": [
            "[1]\n",
            "False\n",
            "[1, 4, 5]\n",
            "1\n",
            "[1]\n",
            "False\n"
          ]
        }
      ],
      "source": [
        "class Stack(object):\n",
        "    def __init__(self):\n",
        "        #creating an empty stack to start the stack\n",
        "        self.items = []\n",
        "    \n",
        "    def push(self, item):\n",
        "        #adding to the stack \n",
        "        self.items.append(item)\n",
        "        \n",
        "    def pop(self):\n",
        "        #removing top element \n",
        "        self.items.pop()\n",
        "        \n",
        "    def is_empty(self):\n",
        "        return self.items == 0\n",
        "    \n",
        "    def peek(self):\n",
        "        #looking at item on top of stack \n",
        "        if not self.is_empty():\n",
        "            return self.items[-1]\n",
        "    \n",
        "    def getStack(self):\n",
        "        print(self.items)\n",
        "            \n",
        "    # adding methods used for reserve level-order traversal\n",
        "    def __len__(self):\n",
        "      return self.size()\n",
        "\n",
        "    def size(self):\n",
        "      return len(self.items)\n",
        "    \n",
        "    def __str__(self):\n",
        "      s = \"\"\n",
        "      for i in range(len(self.items)):\n",
        "        s += str(self.items[i.value]) + \"-\"\n",
        "      return s \n",
        "  \n",
        "myStack = Stack()\n",
        "myStack.push(1)\n",
        "myStack.push(2)\n",
        "myStack.pop()\n",
        "myStack.getStack()\n",
        "myStack.push(4)\n",
        "myStack.push(5)\n",
        "print(myStack.is_empty())\n",
        "myStack.peek()\n",
        "myStack.getStack()\n",
        "myStack.pop()\n",
        "myStack.pop()\n",
        "print(myStack.peek())\n",
        "myStack.getStack()\n",
        "\n",
        "print(myStack.is_empty())\n",
        "\n",
        "        "
      ]
    },
    {
      "cell_type": "markdown",
      "metadata": {
        "id": "4V9k7HMJCyEa"
      },
      "source": [
        "Solving Problems with stack: \n",
        "1) Convert decimal to binary "
      ]
    },
    {
      "cell_type": "code",
      "execution_count": null,
      "metadata": {
        "id": "OH2B7snH2Hen"
      },
      "outputs": [],
      "source": [
        "def dec_to_bin(num):\n",
        "  stk = Stack()\n",
        "  binStr = \"\"\n",
        "\n",
        "  while num > 0:\n",
        "    remainder = num % 2 \n",
        "    stk.push(remainder)\n",
        "    num = num // 2 \n",
        "\n",
        "  while not stk.is_empty():\n",
        "    binStr += str(stk.items.pop())    \n",
        "\n",
        "  return binStr"
      ]
    },
    {
      "cell_type": "code",
      "execution_count": null,
      "metadata": {
        "colab": {
          "base_uri": "https://localhost:8080/",
          "height": 287
        },
        "id": "CuPXDwIC_4TK",
        "outputId": "990943d9-1e35-43e8-a0e0-e82751278929"
      },
      "outputs": [
        {
          "output_type": "error",
          "ename": "IndexError",
          "evalue": "ignored",
          "traceback": [
            "\u001b[0;31m---------------------------------------------------------------------------\u001b[0m",
            "\u001b[0;31mIndexError\u001b[0m                                Traceback (most recent call last)",
            "\u001b[0;32m<ipython-input-8-3f930dc0f1b6>\u001b[0m in \u001b[0;36m<module>\u001b[0;34m\u001b[0m\n\u001b[0;32m----> 1\u001b[0;31m \u001b[0mprint\u001b[0m\u001b[0;34m(\u001b[0m\u001b[0mdec_to_bin\u001b[0m\u001b[0;34m(\u001b[0m\u001b[0;36m100\u001b[0m\u001b[0;34m)\u001b[0m\u001b[0;34m)\u001b[0m\u001b[0;34m\u001b[0m\u001b[0;34m\u001b[0m\u001b[0m\n\u001b[0m",
            "\u001b[0;32m<ipython-input-7-fc5c4eb582d1>\u001b[0m in \u001b[0;36mdec_to_bin\u001b[0;34m(num)\u001b[0m\n\u001b[1;32m      9\u001b[0m \u001b[0;34m\u001b[0m\u001b[0m\n\u001b[1;32m     10\u001b[0m   \u001b[0;32mwhile\u001b[0m \u001b[0;32mnot\u001b[0m \u001b[0mstk\u001b[0m\u001b[0;34m.\u001b[0m\u001b[0mis_empty\u001b[0m\u001b[0;34m(\u001b[0m\u001b[0;34m)\u001b[0m\u001b[0;34m:\u001b[0m\u001b[0;34m\u001b[0m\u001b[0;34m\u001b[0m\u001b[0m\n\u001b[0;32m---> 11\u001b[0;31m     \u001b[0mbinStr\u001b[0m \u001b[0;34m+=\u001b[0m \u001b[0mstr\u001b[0m\u001b[0;34m(\u001b[0m\u001b[0mstk\u001b[0m\u001b[0;34m.\u001b[0m\u001b[0mitems\u001b[0m\u001b[0;34m.\u001b[0m\u001b[0mpop\u001b[0m\u001b[0;34m(\u001b[0m\u001b[0;34m)\u001b[0m\u001b[0;34m)\u001b[0m\u001b[0;34m\u001b[0m\u001b[0;34m\u001b[0m\u001b[0m\n\u001b[0m\u001b[1;32m     12\u001b[0m \u001b[0;34m\u001b[0m\u001b[0m\n\u001b[1;32m     13\u001b[0m   \u001b[0;32mreturn\u001b[0m \u001b[0mbinStr\u001b[0m\u001b[0;34m\u001b[0m\u001b[0;34m\u001b[0m\u001b[0m\n",
            "\u001b[0;31mIndexError\u001b[0m: pop from empty list"
          ]
        }
      ],
      "source": [
        "print(dec_to_bin(100))"
      ]
    },
    {
      "cell_type": "code",
      "execution_count": null,
      "metadata": {
        "id": "iRne7TekDcfI"
      },
      "outputs": [],
      "source": [
        "# Reversing a string\n",
        "def reverse_string(givenStr):\n",
        "  stack = Stack()\n",
        "  eStr = \"\"\n",
        "\n",
        "  for s in givenStr:\n",
        "    stack.push(s)\n",
        "  while not stack.is_empty():\n",
        "    eStr += str(stack.items.pop())\n",
        "  return eStr\n",
        "    \n",
        "\n"
      ]
    },
    {
      "cell_type": "code",
      "execution_count": null,
      "metadata": {
        "id": "4iyejs2YEDH1"
      },
      "outputs": [],
      "source": [
        "reverse_string(\"Learning is fun\")"
      ]
    },
    {
      "cell_type": "markdown",
      "metadata": {
        "id": "MWf7_gdZNaoO"
      },
      "source": [
        "Stack practice "
      ]
    },
    {
      "cell_type": "code",
      "execution_count": null,
      "metadata": {
        "id": "CkskyaHXNZ02"
      },
      "outputs": [],
      "source": [
        "class Stack2():\n",
        "  def __init__(self):\n",
        "    self.items = []\n",
        "\n",
        "  def push2(self, data):\n",
        "    self.items.append(data)\n",
        "  \n",
        "  def pop2(self):\n",
        "    self.items.pop()\n",
        "    \n",
        "  def isEmpty2(self):\n",
        "    return self.items == []\n",
        "\n",
        "  def peek2(self):\n",
        "    if not self.isEmpty2():\n",
        "      return self.items[-1]\n",
        "  \n",
        "  def getStack2(self):\n",
        "    print(self.items)\n",
        "    "
      ]
    },
    {
      "cell_type": "code",
      "execution_count": null,
      "metadata": {
        "id": "TBNFsEPvSTC9"
      },
      "outputs": [],
      "source": [
        "stk = Stack2()\n",
        "stk.push2(1)\n",
        "stk.push2(2)\n",
        "stk.push2(3)\n",
        "stk.getStack2()\n",
        "print()\n",
        "stk.pop2()\n",
        "print(stk.peek2())\n",
        "stk.isEmpty2()"
      ]
    },
    {
      "cell_type": "markdown",
      "metadata": {
        "id": "0e8XqWBebDsw"
      },
      "source": [
        "Implementing Linked Lists "
      ]
    },
    {
      "cell_type": "code",
      "execution_count": null,
      "metadata": {
        "id": "t81xNOQZbC2x"
      },
      "outputs": [],
      "source": [
        "from pickle import LONG1\n",
        "class Node():\n",
        "  def __init__(self, data):\n",
        "    self.data = data\n",
        "    self.next = None \n",
        "\n",
        "class LinkedList():\n",
        "  def __init__(self):\n",
        "    self.head = None \n",
        "\n",
        "  #printing linked list\n",
        "  def printLL(self):\n",
        "    cur_node = self.head\n",
        "    while cur_node:\n",
        "      print(cur_node.data)\n",
        "      cur_node = cur_node.next \n",
        "\n",
        "\n",
        "  #appending to linked list\n",
        "  def append(self, data):\n",
        "    new_node = Node(data)\n",
        "\n",
        "    #case: if linked list is empty, append node as the head \n",
        "    if self.head is None:\n",
        "      self.head = new_node\n",
        "      return \n",
        "    #case: if linked list is not empty, append the node at the end of the linked list\n",
        "    last_node = self.head \n",
        "    while last_node.next:\n",
        "      last_node = last_node.next\n",
        "    last_node.next = new_node   \n",
        "\n",
        "  #prepending \n",
        "  def prepend(self, data):\n",
        "    new_node = Node(data)\n",
        "\n",
        "    if self.head is None:\n",
        "      self.head = new_node\n",
        "      return \n",
        "\n",
        "    #case: adding it as head node\n",
        "    if self.head:\n",
        "      new_node.next = self.head\n",
        "      self.head = new_node\n",
        "  \n",
        "  #appending after specific node \n",
        "  def append_after(self, node_data, data):\n",
        "    if not node_data: \n",
        "      print(\"Node not found in list.\")\n",
        "      return\n",
        "    new_node = Node(data)\n",
        "  \n",
        "    new_node.next = node_data.next \n",
        "    node_data.next = new_node\n",
        "\n",
        "\n",
        "#DELETION\n",
        " \n",
        "  def del_node(self, node_data):\n",
        "\n",
        "    cur_node = self.head \n",
        "\n",
        "    #deleting head node \n",
        "    if cur_node and cur_node.data == node_data: \n",
        "      self.head = cur_node.next \n",
        "      cur_node = None\n",
        "      return \n",
        "\n",
        "    #deleting nodes other than the head\n",
        "    prev = None\n",
        "    while cur_node and cur_node.data != node_data:\n",
        "      prev = cur_node\n",
        "      cur_node = cur_node.next \n",
        "    \n",
        "    if cur_node is None:\n",
        "      print(\"Node data not found\")\n",
        "      return \n",
        "\n",
        "    prev.next = cur_node.next \n",
        "    cur_node = None \n",
        "  \n",
        "\n",
        "  #deleting node based on position\n",
        "  def delete_node_at_pos(self, pos):\n",
        "    if self.head: \n",
        "      cur_node  = self.head\n",
        "      if pos == 0:\n",
        "        cur_node = cur_node.next\n",
        "        cur_node = None \n",
        "        return\n",
        "\n",
        "      #handling the case where pos is not at position 0\n",
        "      prev = None\n",
        "      count = 0 \n",
        "      while cur_node and count != pos: \n",
        "        prev = cur_node\n",
        "        cur_node = cur_node.next\n",
        "        count += 1 \n",
        "      \n",
        "      #if pos is not found\n",
        "      if cur_node is None:\n",
        "        return \n",
        "\n",
        "      prev.next = cur_node.next\n",
        "      cur_node = None \n",
        "\n",
        "  #get the length of a linked list\n",
        "  def len_iter(self):\n",
        "    len = 0 \n",
        "    cur_node = self.head\n",
        "    while cur_node:\n",
        "      len += 1\n",
        "      cur_node = cur_node.next \n",
        "    return len\n",
        "\n",
        "  def len_recur(self, node):\n",
        "    if node is None:\n",
        "      return 0\n",
        "    return 1 + self.len_recur(node.next)\n",
        "\n",
        "  #swap nodes in linked list:\n",
        "  def swap_nodes(self, key_1, key_2):\n",
        "\n",
        "    #PROBLEM1: ARE THE KEYS THE SAME? \n",
        "    if key_1 == key_2:\n",
        "      return\n",
        "\n",
        "    #PROBLEM 2: HOW DO WE FIND THE KEYS? \n",
        "    #THIS IS HANDLING THE CASE WHERE THE KEYS ARE NOT YET FOUND \n",
        "    prev = None\n",
        "    curr_1 = self.head\n",
        "    while curr_1 and curr_1.data != key_1:\n",
        "      prev_1 = curr_1\n",
        "      curr_1 = curr_1.next\n",
        "\n",
        "    prev_2 = None\n",
        "    curr_2 = self.head \n",
        "    while curr_2 and curr_2.data != key_2:\n",
        "      prev_2 = curr_2\n",
        "      curr_2 = curr_2.next \n",
        "    \n",
        "    #PROBLEM 3: WHAT IF THE KEYS DON'T EXIST?\n",
        "    #if neither of the keys exists \n",
        "    if not curr_1 or not curr_2:\n",
        "      return\n",
        "\n",
        "    #PROBLEM 4: WHAT DO WE DO WHEN THE KEYS ARE FOUND?  \n",
        "    #case: swapping nodes at head position, we check if the prev_1 and prev_2 values are not equal to None. If they\n",
        "    #are not equal to None (!=None) it implies that there is prev value and the node is not head \n",
        "    if prev_1:\n",
        "      prev_1.next = curr_2\n",
        "    else:\n",
        "      self.head = curr_2\n",
        "\n",
        "    if prev_2:\n",
        "      prev_2.next = curr_1\n",
        "    else:\n",
        "      self.head = curr_1 \n",
        "\n",
        "    #FINALLY, HANDLE THE CASE OF SWAPPING THE NODES \n",
        "    curr_1.next, curr_2.next = curr_2.next, curr_1.next \n",
        "\n",
        "   \n",
        "  def reverse_llist(self):\n",
        "    prev = None\n",
        "    cur_node = self.head\n",
        "    while cur_node:\n",
        "      next = cur_node.next\n",
        "      cur_node.next = prev\n",
        "      prev = cur_node\n",
        "      cur_node = next \n",
        "    self.head = prev \n",
        "\n",
        "  def reverse_recursive(self):\n",
        "\n",
        "    def _reverse_recur(cur_node, prev):\n",
        "      if not cur_node:\n",
        "        return prev\n",
        "      \n",
        "      next = cur_node.next\n",
        "      cur_node.next = prev\n",
        "      prev = cur_node\n",
        "      cur_node = next\n",
        "      return _reverse_recur(cur_node, prev)\n",
        "\n",
        "    self.head = _reverse_recur(cur_node=self.head, prev=None)\n",
        "\n",
        "  def merge_sorted(self,llist):\n",
        "    list_a = self.head #starts home list \n",
        "    list_b = llist.head #second list to be assigned \n",
        "    new_list_pointer = None #pointer that reorder list\n",
        "\n",
        "    #case where missing list a or list b \n",
        "    if not list_a:\n",
        "      return list_b\n",
        "    if not list_b:\n",
        "      return list_a\n",
        "\n",
        "    if list_a and list_b:\n",
        "      if list_a.data <= list_b.data:\n",
        "        new_list_pointer = list_a\n",
        "        list_a = new_list_pointer.next \n",
        "      else:\n",
        "        new_list_pointer = list_b\n",
        "        list_b = new_list_pointer.next \n",
        "      new_head = new_list_pointer \n",
        "      \n",
        "    while list_a and list_b:\n",
        "      if list_a.data <= list_b.data:\n",
        "        new_list_pointer.next = list_a\n",
        "        new_list_pointer = list_a\n",
        "        list_a = new_list_pointer.next \n",
        "      else:\n",
        "        new_list_pointer.next = list_b \n",
        "        new_list_pointer = list_b\n",
        "        list_b = new_list_pointer.next\n",
        "\n",
        "    if not list_a:\n",
        "      new_list_pointer.next = list_b\n",
        "    if not list_b:\n",
        "      new_list_pointer.next = list_a\n",
        "    \n",
        "    self.head = new_head \n",
        "    return self.head \n",
        "\n",
        "\n",
        "  def remove_duplicate(self, llist):\n",
        "    cur = self.head\n",
        "    prev = None\n",
        "    dup_items = dict()\n",
        "\n",
        "    while cur:\n",
        "      if cur.data in dup_items:\n",
        "        prev.next = cur.next\n",
        "        cur = None \n",
        "      else:\n",
        "        if cur.data not in dup_items:\n",
        "          dup_items[cur.data] = 1\n",
        "          prev = cur\n",
        "      cur = prev.next \n",
        "\n",
        "  def reverse_list2(self):\n",
        "    prev = None\n",
        "    cur = self.head\n",
        "    while cur:\n",
        "      nixt = cur.next\n",
        "      prev = cur.next \n",
        "      # cur.next = prev \n",
        "      cur = prev\n",
        "      # prev = cur \n",
        "      cur = nixt\n",
        "    self.head = prev \n",
        "\n",
        "        \n",
        "  def nth_to_last(self, n, method):\n",
        "    if method == 1: \n",
        "      total_len = self.len_iter()\n",
        "      cur = self.head\n",
        "      while cur:\n",
        "        if total_len == n:\n",
        "          #print(cur.data)\n",
        "          return cur.data\n",
        "        total_len -= 1\n",
        "        cur = cur.next\n",
        "      if cur is None:\n",
        "        return \n",
        "    if method == 2: \n",
        "      p = self.head\n",
        "      q = self.head \n",
        "      count = 0 \n",
        "      while q:\n",
        "        count += 1\n",
        "        if (count>= n):\n",
        "          break\n",
        "        q = q.next \n",
        "      if not q:\n",
        "        return \"Value exceeds list\"\n",
        "      while p and q.next:\n",
        "        p = p.next\n",
        "        q = q.next \n",
        "      return p.data \n",
        "    else:\n",
        "      return None  \n",
        "\n",
        "\n",
        "  def rotate_list(self, pivot):\n",
        "    if self.head and self.head.next: \n",
        "      p = self.head\n",
        "      q = self.head\n",
        "      prev = None\n",
        "      count = 0 \n",
        "\n",
        "      while p and (count < pivot):\n",
        "        prev = p\n",
        "        p = p.next\n",
        "        q = q.next\n",
        "        count += 1 \n",
        "      p = prev\n",
        "      while q: \n",
        "        prev = q\n",
        "        q = q.next\n",
        "      q = prev\n",
        "\n",
        "      q.next = self.head\n",
        "      self.head = p.next\n",
        "      p.next = None \n",
        "\n",
        "  def is_palindrome_string(self):\n",
        "    s = \"\"\n",
        "    p = self.head\n",
        "    while p:\n",
        "      s += p.data\n",
        "      p = p.next \n",
        "    return s == s[::-1]\n",
        "\n",
        "  def is_palindrome_stack(self):\n",
        "    p = self.head\n",
        "    s = []\n",
        "    while p:\n",
        "      s.append(p.data)\n",
        "      p = p.next\n",
        "    p = self.head\n",
        "    \n",
        "    while p:\n",
        "      data = s.pop()\n",
        "      if p.data != data:\n",
        "        return False\n",
        "      p = p.next\n",
        "    return True\n",
        "    \n",
        "  def move_tail_to_head(self):\n",
        "      cur = self.head\n",
        "      prev = None\n",
        "      \n",
        "      while cur.next:\n",
        "          prev = cur\n",
        "          cur = cur.next\n",
        "      \n",
        "      prev.next = None\n",
        "      cur.next = self.head\n",
        "      self.head = cur \n",
        "\n",
        "  def sum_two_lists(self, llist):\n",
        "      if self.head: \n",
        "        p = self.head\n",
        "        q = llist.head \n",
        "        pList = []\n",
        "        qList = []    \n",
        "      \n",
        "        while p: \n",
        "          pList.append(p.data)\n",
        "          p = p.next\n",
        "        L1 = pList[::-1]\n",
        "        print(\"L1 type:\", type(L1))\n",
        "        num1 = \"\".join(map(str, L1))\n",
        "\n",
        "        while q:\n",
        "          qList.append(q.data)\n",
        "          q = q.next\n",
        "        L2 = qList[::-1]\n",
        "        num2 = \"\".join(map(str, L2))\n",
        "\n",
        "        if p is None:\n",
        "          print(L2) \n",
        "        \n",
        "        if q is None:\n",
        "          print(L1)\n",
        "\n",
        "\n",
        "        sumList = str(int(num1) + int(num2))\n",
        "        # print(\"sumlist:\", sumList)\n",
        "        # sumList = str(sumList)\n",
        "      \n",
        "        finalList = list(sumList)\n",
        "        print(\"finalList: \", finalList)\n",
        "\n",
        "        numList = list(map(int, finalList))\n",
        "        return numList\n",
        "        # print(numList)\n",
        "     \n",
        "\n",
        "\n",
        "\n"
      ]
    },
    {
      "cell_type": "code",
      "source": [
        "l = LinkedList()\n",
        "l.append(6)\n",
        "l.append(4)\n",
        "l.append(3)\n",
        "l.printLL()\n",
        "print()\n",
        "llist = LinkedList()\n",
        "llist.append(2)\n",
        "llist.append(2)\n",
        "llist.append(4)\n",
        "llist.printLL()"
      ],
      "metadata": {
        "colab": {
          "base_uri": "https://localhost:8080/"
        },
        "id": "Vn0v9MMbs9oj",
        "outputId": "48da3444-47f0-4500-b066-73f75b80d1d0"
      },
      "execution_count": null,
      "outputs": [
        {
          "output_type": "stream",
          "name": "stdout",
          "text": [
            "6\n",
            "4\n",
            "3\n",
            "\n",
            "2\n",
            "2\n",
            "4\n"
          ]
        }
      ]
    },
    {
      "cell_type": "code",
      "source": [
        "l.sum_two_lists(llist)"
      ],
      "metadata": {
        "colab": {
          "base_uri": "https://localhost:8080/"
        },
        "id": "QCvdJEf8HO2c",
        "outputId": "bc6c92bd-ddbd-49ce-c36b-63925eb70415"
      },
      "execution_count": null,
      "outputs": [
        {
          "output_type": "stream",
          "name": "stdout",
          "text": [
            "L1 type: <class 'list'>\n",
            "[4, 2, 2]\n",
            "[3, 4, 6]\n",
            "finalList:  ['7', '6', '8']\n"
          ]
        },
        {
          "output_type": "execute_result",
          "data": {
            "text/plain": [
              "[7, 6, 8]"
            ]
          },
          "metadata": {},
          "execution_count": 12
        }
      ]
    },
    {
      "cell_type": "code",
      "source": [
        "l.append(1)"
      ],
      "metadata": {
        "id": "-H42KQ0jRnc6"
      },
      "execution_count": null,
      "outputs": []
    },
    {
      "cell_type": "code",
      "source": [
        "llist.append(1)"
      ],
      "metadata": {
        "id": "hOUBbnaGoQW5"
      },
      "execution_count": null,
      "outputs": []
    },
    {
      "cell_type": "code",
      "source": [
        "l.sum_two_lists(llist)"
      ],
      "metadata": {
        "colab": {
          "base_uri": "https://localhost:8080/"
        },
        "id": "akLPu4W_oSK4",
        "outputId": "95d8129d-ba6e-4aaf-dd2b-5a4ddf4fe1fc"
      },
      "execution_count": null,
      "outputs": [
        {
          "output_type": "stream",
          "name": "stdout",
          "text": [
            "L1 type: <class 'list'>\n",
            "[1, 4, 2, 2]\n",
            "[1, 3, 4, 6]\n",
            "finalList:  ['2', '7', '6', '8']\n"
          ]
        },
        {
          "output_type": "execute_result",
          "data": {
            "text/plain": [
              "[2, 7, 6, 8]"
            ]
          },
          "metadata": {},
          "execution_count": 15
        }
      ]
    },
    {
      "cell_type": "code",
      "source": [],
      "metadata": {
        "id": "lswEkmU_oUVB"
      },
      "execution_count": null,
      "outputs": []
    },
    {
      "cell_type": "markdown",
      "source": [
        "Circular Linked List"
      ],
      "metadata": {
        "id": "q6mTu-gIbKIJ"
      }
    },
    {
      "cell_type": "code",
      "source": [
        "class Node:\n",
        "    def __init__(self, data):\n",
        "      self.data = data\n",
        "      self.next = None\n",
        "\n",
        "class CircularLinkedList:\n",
        "  def __init__(self):\n",
        "    self.head = None\n",
        "\n",
        "  def c_append(self, data):\n",
        "    new_node = Node(data)\n",
        "\n",
        "    if self.head is None:\n",
        "      self.head = new_node\n",
        "      self.head.next = self.head\n",
        "    \n",
        "    else:\n",
        "      cur = self.head \n",
        "      while cur.next != self.head:\n",
        "        cur = cur.next\n",
        "      cur.next = new_node\n",
        "      new_node.next = self.head \n",
        "\n",
        "  def c_prepend(self, data):\n",
        "    new_node = Node(data)\n",
        "    cur = self.head\n",
        "    new_node.next = self.head\n",
        "\n",
        "    if not self.head:\n",
        "      new_node.next = new_node \n",
        "    \n",
        "    else:\n",
        "      while cur.next != self.head:\n",
        "        cur = cur.next\n",
        "      cur.next = new_node\n",
        "    self.head = new_node \n",
        "\n",
        "  def c_print_list(self):\n",
        "    cur = self.head\n",
        "    while cur:\n",
        "      print(cur.data)\n",
        "      cur = cur.next\n",
        "      if cur == self.head:\n",
        "        break\n",
        "\n",
        "  def c_remove(self, key):\n",
        "    #checks if the list is empty\n",
        "    if self.head:\n",
        "      \n",
        "      #if the node to be deleted is the first node \n",
        "      if self.head.data == key:\n",
        "        cur = self.head\n",
        "\n",
        "        #finding the node pointing to the head node/last node\n",
        "        while cur.next != self.head:\n",
        "          cur = cur.next\n",
        "      \n",
        "      #if the node is pointing to itself\n",
        "        if self.head == self.head.next:\n",
        "          self.head = None\n",
        "        else:\n",
        "          cur.next = self.head.next\n",
        "        self.head = self.head.next\n",
        "      \n",
        "      else:\n",
        "        cur = self.head\n",
        "        prev = None\n",
        "        while cur.next != self.head:\n",
        "          prev = cur\n",
        "          cur = cur.next\n",
        "          if cur.data == key:\n",
        "            prev.next = cur.next\n",
        "            cur = cur.next \n",
        "\n",
        "  def __len__(self):\n",
        "    cur = self.head\n",
        "    count = 0 \n",
        "    \n",
        "    while cur:\n",
        "      count += 1\n",
        "      cur = cur.next\n",
        "      if cur == self.head:\n",
        "        break\n",
        "    return count\n",
        "\n",
        "\n",
        "  def c_split_list(self):\n",
        "    size = len(self)\n",
        "\n",
        "    #if the list is empty\n",
        "    if size == 0:\n",
        "      return None\n",
        "    if size == 1:\n",
        "      return self.head \n",
        "    \n",
        "    mid = size//2 \n",
        "    count = 0 \n",
        "\n",
        "    prev = None\n",
        "    cur = self.head\n",
        "\n",
        "    while cur and count < mid:\n",
        "      count += 1\n",
        "      prev = cur\n",
        "      cur = cur.next\n",
        "    prev.next = self.head\n",
        "\n",
        "    split_clist = CircularLinkedList()\n",
        "    while cur.next != self.head:\n",
        "      split_clist.c_append(cur.data)\n",
        "      cur = cur.next\n",
        "    split_clist.c_append(cur.data)\n",
        "\n",
        "    self.c_print_list()\n",
        "    print(\"\\n\")\n",
        "    split_clist.c_print_list()\n",
        "\n",
        "\n",
        "  def c_remove_node(self, node):\n",
        "    #checks if the list is empty\n",
        "    if self.head:\n",
        "      \n",
        "      #if the node to be deleted is the first node \n",
        "      if self.head == node:\n",
        "        cur = self.head\n",
        "\n",
        "        #finding the node pointing to the head node/last node\n",
        "        while cur.next != self.head:\n",
        "          cur = cur.next\n",
        "      \n",
        "      #if the node is pointing to itself\n",
        "        if self.head == self.head.next:\n",
        "          self.head = None\n",
        "        else:\n",
        "          cur.next = self.head.next\n",
        "        self.head = self.head.next\n",
        "      \n",
        "      else:\n",
        "        cur = self.head\n",
        "        prev = None\n",
        "        while cur.next != self.head:\n",
        "          prev = cur\n",
        "          cur = cur.next\n",
        "          if cur == node:\n",
        "            prev.next = cur.next\n",
        "            cur = cur.next \n",
        "\n",
        "  def josephus_circle(self, step):\n",
        "    cur = self.head\n",
        "\n",
        "    length = len(self)\n",
        "    while length > 1:\n",
        "      count = 1\n",
        "      while count != step: \n",
        "        cur = cur.next\n",
        "        count += 1\n",
        "      print(\"Goner:\" + str(cur.data))\n",
        "      self.c_remove_node(cur)\n",
        "      cur = cur.next\n",
        "      length -= 1 \n",
        "  \n",
        "  def is_circular_linked_list(self, input_list):\n",
        "    if input_list.head:\n",
        "      cur = input_list.head\n",
        "      while cur.next:\n",
        "        cur = cur.next\n",
        "        if cur.next == input_list.head:\n",
        "          return True\n",
        "      return False \n",
        "    else:\n",
        "      return False \n"
      ],
      "metadata": {
        "id": "C2yqWv7KbNFQ"
      },
      "execution_count": null,
      "outputs": []
    },
    {
      "cell_type": "markdown",
      "source": [
        "Doubly Linked List"
      ],
      "metadata": {
        "id": "42Y4mEyWIkSo"
      }
    },
    {
      "cell_type": "code",
      "source": [
        "class Node:\n",
        "  def __init__(self, data):\n",
        "    self.data = data\n",
        "    self.next = None\n",
        "    self.prev = None \n",
        "\n",
        "class doubly_linked_list:\n",
        "  def __init__(self):\n",
        "    self.head = None\n",
        "\n",
        "  def append(self, data):\n",
        "    if self.head is None:\n",
        "      new_node = Node(data)\n",
        "      self.head = new_node\n",
        "    else: \n",
        "      new_node = Node(data)\n",
        "      cur = self.head\n",
        "      while cur.next:\n",
        "        cur = cur.next\n",
        "      cur.next = new_node\n",
        "      new_node.prev = cur \n",
        "\n",
        "\n",
        "  def print(self):\n",
        "    cur = self.head\n",
        "    while cur:\n",
        "      print(cur.data)\n",
        "      cur = cur.next \n",
        "\n",
        "  def prepend(self, data):\n",
        "    if self.head is None:\n",
        "      new_node = Node(data)\n",
        "      self.head = new_node\n",
        "    else:\n",
        "      new_node = Node(data)\n",
        "      self.head.prev = new_node\n",
        "      new_node.next = self.head\n",
        "      self.head = new_node \n",
        "\n",
        "  def append_after_dll(self, data, key):\n",
        "    cur = self.head\n",
        "    while cur:\n",
        "      if cur.next is None and cur.data == key:\n",
        "        cur.append(data)\n",
        "        return \n",
        "      elif cur.data == key:\n",
        "        new_node = Node(data)\n",
        "        nxt = cur.next \n",
        "        cur.next = new_node\n",
        "        new_node.next = nxt\n",
        "        nxt.prev = new_node\n",
        "        new_node.prev = cur\n",
        "        return\n",
        "      cur = cur.next\n",
        "\n",
        "  def two_sum(self, sumVal):\n",
        "    pair_list = []\n",
        "    cur = self.head\n",
        "    nxt = None\n",
        "\n",
        "    while cur:\n",
        "      nxt = cur.next\n",
        "      while nxt:\n",
        "        if (cur.data + nxt.data) == sumVal:\n",
        "          pair_list.append(('(' + str(cur.data) + ','+ str(nxt.data) + ')'))\n",
        "        nxt = nxt.next \n",
        "      \n",
        "      cur = cur.next \n",
        "    return pair_list\n",
        "    \n",
        "  \n",
        "   "
      ],
      "metadata": {
        "id": "g61Kvl9BY42X"
      },
      "execution_count": null,
      "outputs": []
    },
    {
      "cell_type": "code",
      "source": [
        "dll = doubly_linked_list()\n",
        "dll.append(1)\n",
        "dll.append(13)\n",
        "dll.append(11)\n",
        "dll.append(3)\n",
        "dll.append(4)\n",
        "dll.append(2)\n",
        "dll.print()"
      ],
      "metadata": {
        "colab": {
          "base_uri": "https://localhost:8080/"
        },
        "id": "XIiO-ISjLsCa",
        "outputId": "f46929c4-cb11-48f5-9aeb-0aebf1193e34"
      },
      "execution_count": null,
      "outputs": [
        {
          "output_type": "stream",
          "name": "stdout",
          "text": [
            "1\n",
            "13\n",
            "11\n",
            "3\n",
            "4\n",
            "2\n"
          ]
        }
      ]
    },
    {
      "cell_type": "code",
      "source": [
        "print(dll.two_sum(5))"
      ],
      "metadata": {
        "colab": {
          "base_uri": "https://localhost:8080/"
        },
        "id": "XnVgWcMZUucl",
        "outputId": "eb046425-7040-4856-edae-0f6d9bcad172"
      },
      "execution_count": null,
      "outputs": [
        {
          "output_type": "stream",
          "name": "stdout",
          "text": [
            "['(1,4)', '(3,2)']\n"
          ]
        }
      ]
    },
    {
      "cell_type": "code",
      "source": [
        "# arbitrary precision increment \n",
        "\n",
        "def addOne(l):\n",
        "  l[-1] += 1\n",
        "  for i in reversed(range(1, len(l))):\n",
        "    if l[i] != 10:\n",
        "      break\n",
        "    l[i] = 0\n",
        "    l[i - 1] += 1\n",
        "  if l[0] == 10:\n",
        "    l[0] = 1\n",
        "    l.append(0)\n",
        "  return l \n",
        "\n",
        "A = [1, 5, 9]\n",
        "B = [1, 5, 3]\n",
        "print(addOne(A))\n",
        "print(addOne(B))"
      ],
      "metadata": {
        "id": "Lq959LGFlncr",
        "colab": {
          "base_uri": "https://localhost:8080/"
        },
        "outputId": "b3c11362-df18-46fa-fb91-6491db9bb704"
      },
      "execution_count": null,
      "outputs": [
        {
          "output_type": "stream",
          "name": "stdout",
          "text": [
            "[1, 6, 0]\n",
            "[1, 5, 4]\n"
          ]
        }
      ]
    },
    {
      "cell_type": "code",
      "source": [
        "# given a list of hours print two distributed labor pairs where the number of hours a task \n",
        "# takes is as close to evenly distributed as possible\n",
        "\n",
        "lst = [8, 12, 1, 5]\n",
        "lst = sorted(lst)\n",
        "# [ 1, 5, 8, 12]\n",
        "\n",
        "for i in range(len(lst)//2):\n",
        "  print(lst[i], lst[~i])"
      ],
      "metadata": {
        "colab": {
          "base_uri": "https://localhost:8080/"
        },
        "id": "h0GflJYUNRPk",
        "outputId": "a27605aa-3d90-491f-b644-0dffa702ed01"
      },
      "execution_count": null,
      "outputs": [
        {
          "output_type": "stream",
          "name": "stdout",
          "text": [
            "1 12\n",
            "5 8\n"
          ]
        }
      ]
    },
    {
      "cell_type": "code",
      "source": [
        "# two sum: given an array of integers return true if 2 values in the array add up to a target\n",
        "# each problem has one solution\n",
        "\n",
        "#method 1: brute force using nested loops\n",
        "# Time = O(n^2), space = O(1)\n",
        "def two_sum_brute(A, target):\n",
        "  for i in range(len(A) - 1):\n",
        "    for j in range(i+1, len(A)):\n",
        "      if A[i] + A[j] == target:\n",
        "        print(A[i], A[j])\n",
        "        return True\n",
        "  return False\n",
        "\n",
        "A = [-2, 1, 2, 4, 7, 11]\n",
        "B = [0, 1, 4, 7]\n",
        "\n",
        "target = 13\n",
        "target2 = 10\n",
        "\n",
        "print('---Using brute force nested loops---')\n",
        "print(two_sum_brute(A, target))\n",
        "print(two_sum_brute(B, target2))\n",
        "\n",
        "\n",
        "# method 2: Using hash table \n",
        "# Time = O(n), space= O(n) since we invoked a hash table\n",
        "def two_sum_hash(A, targ):\n",
        "  ht = dict()\n",
        "  for i in range(len(A)):\n",
        "    if A[i] in ht:\n",
        "      print(ht[A[i]], A[i])\n",
        "      return True\n",
        "    else:\n",
        "      ht[targ - A[i]] = A[i]\n",
        "  return False\n",
        "\n",
        "print('\\n')\n",
        "print('---Using hash table---')\n",
        "print(two_sum_hash(A, target))\n",
        "\n",
        "\n",
        "# method 3: two way traversal\n",
        "def two_sum(A, target):\n",
        "  i = 0\n",
        "  j = len(A) - 1\n",
        "  while i < j:\n",
        "    if A[i] + A[j] == target:\n",
        "      print(A[i], A[j])\n",
        "      return True\n",
        "    elif A[i] + A[j] < target:\n",
        "      i += 1\n",
        "    else:\n",
        "      j -= 1\n",
        "  return False\n",
        "\n",
        "print('\\n')\n",
        "print('---Traversing through list on both ends---')\n",
        "print(two_sum(A, target))\n",
        "print(two_sum(B, target2))\n",
        "\n",
        "# attempt using ~1 \n",
        "\n",
        "# A = [-2, 1, 2, 4, 7, 11], target = 13\n",
        "# B = [0, 1, 4, 7], target2 = 10\n",
        "\n",
        "def two_sum_i(A, target):\n",
        "  i = 0\n",
        "  j = ~i\n",
        "  \n",
        "  while j < i and i < len(A):\n",
        "    if A[i] + A[j] == target:\n",
        "      print(A[i], A[j])\n",
        "      return True\n",
        "      break\n",
        "    elif A[i] + A[j] < target:\n",
        "      i += 1\n",
        "    else:\n",
        "      j -= 1\n",
        "  return False\n",
        "\n",
        "print('\\n')\n",
        "print('---Traversing through list on both ends using ~---')\n",
        "print('Case 1:')\n",
        "print(two_sum(A, target))\n",
        "print('Case 2:')\n",
        "print(two_sum_i(B, target2))\n",
        "\n"
      ],
      "metadata": {
        "colab": {
          "base_uri": "https://localhost:8080/"
        },
        "id": "-iiBFvppSuLT",
        "outputId": "da859d66-3e18-4ebf-d364-7e9653a4ec57"
      },
      "execution_count": null,
      "outputs": [
        {
          "output_type": "stream",
          "name": "stdout",
          "text": [
            "---Using brute force nested loops---\n",
            "2 11\n",
            "True\n",
            "False\n",
            "\n",
            "\n",
            "---Using hash table---\n",
            "2 11\n",
            "True\n",
            "\n",
            "\n",
            "---Traversing through list on both ends---\n",
            "2 11\n",
            "True\n",
            "False\n",
            "\n",
            "\n",
            "---Traversing through list on both ends using ~---\n",
            "Case 1:\n",
            "2 11\n",
            "True\n",
            "Case 2:\n",
            "False\n"
          ]
        }
      ]
    },
    {
      "cell_type": "code",
      "source": [
        "# find intersection between two arrays\n",
        "\n",
        "\n",
        "\n",
        "def find_intersect(A, B):\n",
        "  i = 0 \n",
        "  j = 0\n",
        "  intersect = []\n",
        "\n",
        "  while i < len(A) and j < len(B):\n",
        "    \n",
        "    if A[i] == B[j]:\n",
        "      if i == 0 or A[i] != A[i - 1]:\n",
        "          print(A[i], A[j])\n",
        "          intersect.append(A[i])\n",
        "      i += 1\n",
        "      j += 1\n",
        "    elif A[i] < B[j]:\n",
        "      i += 1\n",
        "    else:\n",
        "      j += 1\n",
        "  \n",
        "  return intersect\n",
        "\n",
        "A = [2, 3, 3, 5, 7, 11]\n",
        "B = [3, 3, 7, 15, 31]\n",
        "\n",
        "print(find_intersect(A, B))      \n"
      ],
      "metadata": {
        "colab": {
          "base_uri": "https://localhost:8080/"
        },
        "id": "YPg5H6-90v9Y",
        "outputId": "7a5a8b7c-97eb-4f56-e2c7-e6e5829c5413"
      },
      "execution_count": null,
      "outputs": [
        {
          "output_type": "stream",
          "name": "stdout",
          "text": [
            "3 2\n",
            "7 3\n",
            "[3, 7]\n"
          ]
        }
      ]
    },
    {
      "cell_type": "code",
      "source": [
        "#max profit stock exercise\n",
        "prices = [15, 44, 1, 77, 203, 299] \n",
        "prices2 = [143, 234, 543, 232, 534, 12122, 4554]\n",
        "def buy_and_sell(prices): \n",
        "  max_profit = 0\n",
        "  for i in range(len(prices)):\n",
        "    for j in range(i+1, len(prices)):\n",
        "      profit = prices[j] - prices[i]\n",
        "      if profit > max_profit:\n",
        "        max_profit = profit\n",
        "  return max_profit \n",
        "\n",
        "# based on tracking the minimum\n",
        "def buy_and_sell2(prices):\n",
        "  minimal = float('inf')\n",
        "  maximal = 0.0\n",
        "  for price in prices:\n",
        "    minimal = min(price, minimal)\n",
        "    profit = price - minimal\n",
        "    maximal = max(maximal, profit )\n",
        "  return maximal\n",
        "    \n",
        "\n",
        "\n",
        "\n",
        "print(buy_and_sell(prices2))\n",
        "print(buy_and_sell2(prices2))"
      ],
      "metadata": {
        "colab": {
          "base_uri": "https://localhost:8080/"
        },
        "id": "lbqM1ZAgSlt4",
        "outputId": "0a08afab-e81a-418c-ba2a-4aca3be05b8e"
      },
      "execution_count": null,
      "outputs": [
        {
          "output_type": "stream",
          "name": "stdout",
          "text": [
            "11979\n",
            "11979\n"
          ]
        }
      ]
    },
    {
      "cell_type": "markdown",
      "source": [
        "Binary Search Trees"
      ],
      "metadata": {
        "id": "aGlRpVJf4ZjY"
      }
    },
    {
      "cell_type": "code",
      "source": [
        "class Stack(object):\n",
        "    def __init__(self):\n",
        "        self.items = []\n",
        "\n",
        "    def __len__(self):\n",
        "        return self.size()\n",
        "     \n",
        "    def size(self):\n",
        "        return len(self.items)\n",
        "\n",
        "    def push(self, item):\n",
        "        self.items.append(item)\n",
        "\n",
        "    def pop(self):  \n",
        "        if not self.is_empty():\n",
        "            return self.items.pop()\n",
        "\n",
        "    def peek(self):\n",
        "        if not self.is_empty():\n",
        "            return self.items[-1]\n",
        "\n",
        "    def is_empty(self):\n",
        "        return len(self.items) == 0\n",
        "\n",
        "    def __str__(self):\n",
        "        s = \"\"\n",
        "        for i in range(len(self.items)):\n",
        "            s += str(self.items[i].value) + \"-\"\n",
        "        return s\n",
        "        \n",
        "\n",
        "class Queue(object):\n",
        "  def __init__(self):\n",
        "    self.items = []\n",
        "\n",
        "  def enqueue(self, item):\n",
        "    self.items.insert(0, item)\n",
        "\n",
        "  def dequeue(self):\n",
        "    if not self.is_empty():\n",
        "      return self.items.pop()\n",
        "  \n",
        "  def is_empty(self):\n",
        "    return len(self.items) == 0 \n",
        "\n",
        "  def peek(self):\n",
        "    if not self.is_empty():\n",
        "      return self.items[-1].value\n",
        "      \n",
        "  def __len__(self):\n",
        "    return self.size()\n",
        "  \n",
        "  def size(self):\n",
        "    return len(self.items)\n",
        "\n",
        "class Node(object):\n",
        "  def __init__(self, value):\n",
        "    self.value = value\n",
        "    self.left = None\n",
        "    self.right = None \n",
        "\n",
        "class BinaryTree(object):\n",
        "  def __init__(self, root):\n",
        "    self.root = Node(root)\n",
        "\n",
        "  def print_tree(self, traversal_type):\n",
        "    if traversal_type == \"preorder\":\n",
        "      return self.preorder_print(tree.root, \"\")\n",
        "    elif traversal_type == \"inorder\":\n",
        "      return self.inorder_print(tree.root, \"\")\n",
        "    elif traversal_type == \"postorder\":\n",
        "      return self.postorder_print(tree.root, \"\")\n",
        "    elif traversal_type == \"levelorder\":\n",
        "      return self.levelorder_print(tree.root)\n",
        "    elif traversal_type == \"reverse_levelorder\":\n",
        "      return self.reverse_levelorder_print(tree.root)\n",
        "    \n",
        "    else:\n",
        "      print(\"Traversal type \", str(traversal_type) + \"is not supported.\")\n",
        "      return False\n",
        "\n",
        "  def preorder_print(self, start, traversal):\n",
        "    \"\"\"Root-> Left->Right\"\"\"\n",
        "    if start:\n",
        "      traversal += (str(start.value) + \"-\")\n",
        "      traversal = self.preorder_print(start.left, traversal)\n",
        "      traversal = self.preorder_print(start.right, traversal)\n",
        "    return traversal\n",
        "\n",
        "  def inorder_print(self, start, traversal):\n",
        "    \"\"\"Left->Root->Right\"\"\"\n",
        "    if start:\n",
        "      traversal = self.inorder_print(start.left, traversal)\n",
        "      traversal += (str(start.value) + \"-\")\n",
        "      traversal = self.inorder_print(start.right, traversal)\n",
        "    return traversal\n",
        "\n",
        "  def postorder_print(self, start, traversal):\n",
        "    \"\"\"Left->Right->root\"\"\"\n",
        "    if start:\n",
        "      traversal = self.postorder_print(start.left, traversal)\n",
        "      traversal = self.postorder_print(start.right, traversal)\n",
        "      traversal += (str(start.value) + \"-\")\n",
        "    return traversal\n",
        "\n",
        "#traversing through a tree based on level: level-order traversal \n",
        "#To do this we use a queue \n",
        "\n",
        "  def levelorder_print(self, start):\n",
        "    if start is None:\n",
        "      return\n",
        "    \n",
        "    queue = Queue()\n",
        "    queue.enqueue(start)\n",
        "\n",
        "    traversal = \"\"\n",
        "    while len(queue) > 0:\n",
        "      traversal += str(queue.peek()) + \"-\"\n",
        "      node = queue.dequeue()\n",
        "    \n",
        "      if node.left:\n",
        "        queue.enqueue(node.left)\n",
        "      if node.right:\n",
        "        queue.enqueue(node.right)\n",
        "    \n",
        "    return traversal \n",
        "\n",
        "  def reverse_levelorder_print(self, start):\n",
        "    if start is None:\n",
        "      return\n",
        "    \n",
        "    queue = Queue()\n",
        "    stack = Stack()\n",
        "    queue.enqueue(start)\n",
        "\n",
        "    traversal = \"\"\n",
        "    while len(queue) > 0:\n",
        "      node = queue.dequeue()\n",
        "\n",
        "      stack.push(node)\n",
        "\n",
        "      if node.right:\n",
        "        queue.enqueue(node.right)\n",
        "      if node.left:\n",
        "        queue.enqueue(node.left)\n",
        "    \n",
        "    while len(stack) > 0:\n",
        "      node = stack.pop()\n",
        "      traversal += str(node.value) + \"-\"\n",
        "\n",
        "    return traversal \n",
        "  \n",
        "  def height(self, node):\n",
        "    if node is None:\n",
        "      return -1\n",
        "    left_height = self.height(node.left)\n",
        "    right_height = self.height(node.right)\n",
        "\n",
        "    return 1 + max(left_height, right_height)\n",
        "\n",
        "tree = BinaryTree(1)\n",
        "tree.root.left = Node(2)\n",
        "tree.root.right = Node(3)\n",
        "tree.root.left.left = Node(4)\n",
        "tree.root.left.right = Node(5)\n",
        "\n",
        "print(\"Pre-Order Traversal:\")\n",
        "print(tree.print_tree(\"preorder\"))\n",
        "print(\"In-Order Traversal:\")\n",
        "print(tree.print_tree(\"inorder\"))\n",
        "print(\"Post-Order Traversal:\")\n",
        "print(tree.print_tree(\"postorder\"))\n",
        "print(\"Level-Order Traversal:\")\n",
        "print(tree.print_tree(\"levelorder\"))\n",
        "print(\"Reverse Level-Order Traversal:\")\n",
        "print(tree.print_tree(\"reverse_levelorder\"))\n",
        "\n",
        "print()\n",
        "print('calculating height of binary tree')\n",
        "print(tree.height(tree.root))"
      ],
      "metadata": {
        "id": "6lwPw65oWSWi",
        "colab": {
          "base_uri": "https://localhost:8080/"
        },
        "outputId": "bd89601c-4274-4e6a-ae5a-ac50fe9e841e"
      },
      "execution_count": null,
      "outputs": [
        {
          "output_type": "stream",
          "name": "stdout",
          "text": [
            "Pre-Order Traversal:\n",
            "1-2-4-5-3-\n",
            "In-Order Traversal:\n",
            "4-2-5-1-3-\n",
            "Post-Order Traversal:\n",
            "4-5-2-3-1-\n",
            "Level-Order Traversal:\n",
            "1-2-3-4-5-\n",
            "Reverse Level-Order Traversal:\n",
            "4-5-2-3-1-\n",
            "\n",
            "calculating height of binary tree\n",
            "2\n"
          ]
        }
      ]
    },
    {
      "cell_type": "markdown",
      "source": [
        "## Binary Search Tree "
      ],
      "metadata": {
        "id": "i_H4Cys-5eqI"
      }
    },
    {
      "cell_type": "code",
      "source": [
        "class Node(object):\n",
        "  def __init__(self, data):\n",
        "    self.data = data\n",
        "    self.left = None \n",
        "    self.right = None\n",
        "\n",
        "class BST(object):\n",
        "  def __init__(self, root):\n",
        "    self.root = Node(root)\n",
        "\n",
        "  def insert(self, new_val):\n",
        "    self.insert_helper(self.root, new_val)\n",
        "  \n",
        "  def insert_helper(self, current, new_val):\n",
        "    if current.data < new_val:\n",
        "      if current.right:\n",
        "        self.insert_helper(current.right, new_val)\n",
        "      else:\n",
        "        current.right = Node(new_val)\n",
        "    else:\n",
        "      if current.left:\n",
        "        self.insert_helper(current.left, new_val)\n",
        "      else:\n",
        "        current.left = Node(new_val)\n",
        "\n",
        "  def search(self, find_val):\n",
        "    return self.search_helper(self.root, find_val)\n",
        "    \n",
        "  def search_helper(self, current, find_val):\n",
        "    if current:\n",
        "      if current.data == find_val:\n",
        "        return True\n",
        "      elif current.data < find_val:\n",
        "        return self.search_helper(current.right, find_val)\n",
        "      else:\n",
        "        return self.search_helper(current.left, find_val)\n",
        "\n",
        "  def inorder_print_tree(self):\n",
        "    if self.root:\n",
        "      self._inorder_print_tree(self.root)\n",
        "  \n",
        "  def _inorder_print_tree(self, cur_node):\n",
        "    if cur_node:\n",
        "      self._inorder_print_tree(cur_node.left)\n",
        "      print(str(cur_node.data))\n",
        "      self._inorder_print_tree(cur_node.right)\n",
        "    \n",
        "  def find(self, data):\n",
        "    if self.root:\n",
        "      is_found = self._find(data, self.root)\n",
        "      if is_found:\n",
        "        return True\n",
        "      return False\n",
        "    else:\n",
        "      return None \n",
        "\n",
        "  def _find(self, data, cur_node):\n",
        "    if data > cur_node.data and cur_node.right:\n",
        "      return self._find(data, cur_node.right)\n",
        "    elif data < cur.node.data and cur_node.left:\n",
        "      return self._find(data, cur_node.left)\n",
        "    if data == cur_node.data:\n",
        "      return True\n",
        "\n",
        "  def is_bst_satisfied(self):\n",
        "    def helper(node, lower=float('-inf'), upper=float('inf')):\n",
        "      if not node:\n",
        "        return True\n",
        "      \n",
        "      val = node.data \n",
        "      if val <= lower and val >= upper:\n",
        "        return False\n",
        "      \n",
        "      if not helper(node.right, val, upper):\n",
        "        return False\n",
        "      if not helper(node.left, lower, val):\n",
        "        return False\n",
        "    return True\n",
        "\n",
        "\n",
        "    return helper(self.root)\n",
        "\n",
        "\n",
        "\n",
        "\n",
        "\n",
        "\n",
        "bst = BST(10)\n",
        "bst.insert(3)\n",
        "bst.insert(1)\n",
        "bst.insert(25)\n",
        "bst.insert(9)\n",
        "bst.insert(13)\n",
        "\n",
        "print(bst.search(9))\n",
        "print(bst.search(14))\n",
        "\n",
        "\n",
        "tree = BST(1)\n",
        "tree.root.left = Node(2)\n",
        "tree.root.right = Node(3)\n",
        "tree.root.left.left = Node(4)\n",
        "tree.root.left.right = Node(5)\n",
        "tree.root.right.left = Node(6)\n",
        "tree.root.right.right = Node(7)\n",
        "tree.root.right.right.right = Node(8)\n",
        "\n",
        "print(bst.is_bst_satisfied())\n",
        "print(tree.is_bst_satisfied())"
      ],
      "metadata": {
        "colab": {
          "base_uri": "https://localhost:8080/"
        },
        "id": "U1X1Ijv-f5lV",
        "outputId": "c57c5a0f-9ece-4fe7-c2e4-f584b24a5804"
      },
      "execution_count": null,
      "outputs": [
        {
          "output_type": "stream",
          "name": "stdout",
          "text": [
            "True\n",
            "None\n",
            "True\n",
            "True\n"
          ]
        }
      ]
    },
    {
      "cell_type": "markdown",
      "source": [
        "## Algorithms"
      ],
      "metadata": {
        "id": "0YfTn5Jxn4N7"
      }
    },
    {
      "cell_type": "markdown",
      "source": [
        "Binary Search"
      ],
      "metadata": {
        "id": "4SWxfCaiolXg"
      }
    },
    {
      "cell_type": "code",
      "source": [
        "def binary_search_iterative(data, target):\n",
        "  low = 0\n",
        "  high = len(data) - 1\n",
        "\n",
        "  while low <= high:\n",
        "    mid = (low + high) // 2 #the sauce is here, where we redefine mid \n",
        "    if target == data[mid]:\n",
        "      return True\n",
        "    elif target < data[mid]:\n",
        "      high = mid - 1\n",
        "    else:\n",
        "      low = mid + 1\n",
        "  return False \n",
        "\n",
        "def binary_search_recursive(data, target, low, high):\n",
        "  if low > high:\n",
        "    return False\n",
        "  \n",
        "  else:\n",
        "    mid = (low + high) // 2\n",
        "    if target == data[mid]:\n",
        "      return True\n",
        "    elif target < data[mid]:\n",
        "      return binary_search_recursive(data, target, low, mid-1)\n",
        "    else:\n",
        "      return binary_search_recursive(data, target, mid+1, high)\n",
        "\n",
        "\n",
        "\n",
        "data = [2,4,5,7,8,9,12,14,17,19,22,25,27,28,33,37]\n",
        "target = 4\n",
        "\n",
        "print(binary_search_recursive(data, target, 0, len(data)-1))\n",
        "print(binary_search_iterative(data, target))"
      ],
      "metadata": {
        "colab": {
          "base_uri": "https://localhost:8080/"
        },
        "id": "VFPSK1Pr62D2",
        "outputId": "fe96af94-71a5-45fa-aa62-a1d00a8c10ed"
      },
      "execution_count": null,
      "outputs": [
        {
          "output_type": "stream",
          "name": "stdout",
          "text": [
            "True\n",
            "True\n"
          ]
        }
      ]
    },
    {
      "cell_type": "markdown",
      "source": [
        "### Problem 1: Find the closest number to target\n",
        "Given a sorted array return the number that is closest to the target number.\n",
        "\n",
        "The array may contain duplicate and negative numbers"
      ],
      "metadata": {
        "id": "E-f2YpAPnWTq"
      }
    },
    {
      "cell_type": "code",
      "source": [
        "A1 = [1, 2, 4, 5, 6, 6, 8, 9]\n",
        "A2 = [2, 5, 6, 7, 8, 8, 9]\n",
        "\n",
        "def find_closest_num(A, target): \n",
        "  min_diff = min_diff_left = min_diff_right = float('inf')\n",
        "  low = 0 \n",
        "  high = len(A) - 1\n",
        "  closest_num = None\n",
        "\n",
        "  #Edge cases for empty list or list with only one element\n",
        "  if len(A) == 0:\n",
        "    return None\n",
        "  if len(A) == 1:\n",
        "    return A[0]\n",
        "\n",
        "  while low <= high:\n",
        "    mid = (low + high) // 2\n",
        "  \n",
        "    #Ensure you do not read beyond the bounds of the list\n",
        "    if mid+1 < len(A):\n",
        "      min_diff_right = abs(A[mid + 1] - target)\n",
        "    if mid > 0:\n",
        "      min_diff_left = abs(A[mid - 1] - target)\n",
        "\n",
        "    #Check if the absolute value between left and right elements are smaller than any seen prior\n",
        "    if min_diff_left < min_diff:\n",
        "      min_diff = min_diff_left\n",
        "      closest_num = A[mid-1]\n",
        "\n",
        "    if min_diff_right < min_diff:\n",
        "      min_diff = min_diff_right\n",
        "      closest_num = A[mid + 1]\n",
        "    \n",
        "    #Move the mid-point appropriately as is done via binary search\n",
        "    if A[mid] < target:\n",
        "      low = mid + 1\n",
        "    elif A[mid] > target:\n",
        "      high = mid - 1\n",
        "      if high < 0:\n",
        "        return A[mid]\n",
        "    ## if the element itself is the target, the closest number to it is itself. Return the number\n",
        "    else:\n",
        "      return A[mid]\n",
        "\n",
        "  return closest_num\n",
        "\n",
        "\n",
        "print(find_closest_num(A1, 11))\n",
        "print(find_closest_num(A2, 4))"
      ],
      "metadata": {
        "colab": {
          "base_uri": "https://localhost:8080/"
        },
        "id": "NEXwim7onLO3",
        "outputId": "cd9f7f83-b501-460a-e5b5-8ddfe697cf5d"
      },
      "execution_count": null,
      "outputs": [
        {
          "output_type": "stream",
          "name": "stdout",
          "text": [
            "9\n",
            "5\n"
          ]
        }
      ]
    },
    {
      "cell_type": "markdown",
      "source": [
        "### Problem 2: Find Fixed Number\n",
        "Given an array n of distinct sorted ascending order, write a function that returns a fixed point int he array or None if there are none. \n",
        "\n",
        "A fixed point in an array A is an index i where A[i] = i "
      ],
      "metadata": {
        "id": "1B7bBXxjxnT1"
      }
    },
    {
      "cell_type": "code",
      "source": [
        "A1 = [-1, 0, 1, 2, 3, 4, 6]\n",
        "A2 = [-3, -1, 0, 3, 12, 15, 20]\n",
        "\n",
        "def find_fixed_point(A):\n",
        "  low = 0\n",
        "  high = len(A) - 1\n",
        "\n",
        "  while low <= high:\n",
        "    mid = (low + high) // 2\n",
        "\n",
        "    if A[mid] < mid:\n",
        "      low = mid + 1\n",
        "    elif A[mid] > mid :\n",
        "      high = mid - 1\n",
        "    else:\n",
        "      return A[mid]\n",
        "  return None\n",
        "\n",
        "print(find_fixed_point(A1))\n",
        "print(find_fixed_point(A2))"
      ],
      "metadata": {
        "colab": {
          "base_uri": "https://localhost:8080/"
        },
        "id": "mTLgukwguKsu",
        "outputId": "d445f90b-36bd-4f30-dae0-1a8119e5eae9"
      },
      "execution_count": null,
      "outputs": [
        {
          "output_type": "stream",
          "name": "stdout",
          "text": [
            "6\n",
            "3\n"
          ]
        }
      ]
    },
    {
      "cell_type": "markdown",
      "source": [
        "## Problem 3: Find the Bitonic Peak in given array\n",
        "\n",
        "Some examples of Bitonic arrays are: \n",
        "\n",
        "*   1 2 3 *4* 3 2 1 \n",
        "*   1 *5* 4 3 2 \n",
        "*   1 4 5 *7* 4 2\n",
        "\n",
        "\n",
        "\n",
        " "
      ],
      "metadata": {
        "id": "IuhRoBqnSKmu"
      }
    },
    {
      "cell_type": "code",
      "source": [
        "def find_highest_num(A):\n",
        "  low = 0\n",
        "  high = len(A) - 1\n",
        "\n",
        "  #setting the 3 element requirement \n",
        "  if len(A) < 3:\n",
        "    return None\n",
        "  \n",
        "  while low <= high:\n",
        "    mid = (low + high) // 2\n",
        "\n",
        "    mid_left = A[mid - 1] if mid - 1 >=0 else float(\"-inf\")\n",
        "    mid_right = A[mid + 1] if mid + 1 < len(A) else float(\"inf\")\n",
        "\n",
        "    if mid_left < A[mid] and mid_right > A[mid]: \n",
        "      low = mid + 1 \n",
        "    elif mid_left > A[mid] and mid_right < A[mid]:\n",
        "      high = mid - 1\n",
        "    elif mid_left < A[mid] and mid_right < A[mid]:\n",
        "      return A[mid]\n",
        "  return None\n",
        "\n",
        "\n",
        "A = [1, 2, 3, 4, 5, 4, 3, 2, 1]\n",
        "print(find_highest_num(A))\n",
        "A = [1, 6, 5, 4, 3, 2, 1]\n",
        "print(find_highest_num(A))\n",
        "A = [1, 2, 3, 4, 5]\n",
        "print(find_highest_num(A))\n",
        "A = [5, 4, 3, 2, 1]\n",
        "print(find_highest_num(A))"
      ],
      "metadata": {
        "colab": {
          "base_uri": "https://localhost:8080/"
        },
        "id": "t0-9pP_ESI6Q",
        "outputId": "2c1f35da-36a5-4a0a-f5b9-df425cf578d0"
      },
      "execution_count": null,
      "outputs": [
        {
          "output_type": "stream",
          "name": "stdout",
          "text": [
            "5\n",
            "6\n",
            "None\n",
            "5\n"
          ]
        }
      ]
    },
    {
      "cell_type": "markdown",
      "source": [
        "## Problem 4: Find first entry in a list of duplicates"
      ],
      "metadata": {
        "id": "r295RaP6cBOE"
      }
    },
    {
      "cell_type": "code",
      "source": [
        "def find(A, target):\n",
        "  low = 0\n",
        "  high = len(A) - 1\n",
        "\n",
        "  while low <= high:\n",
        "    mid = (low + high) // 2\n",
        "\n",
        "    if A[mid] < target:\n",
        "      low = mid + 1\n",
        "    elif A[mid] > target:\n",
        "      high = mid - 1 \n",
        "    else:\n",
        "      if mid - 1 < 0:\n",
        "        return mid\n",
        "      if A[mid - 1] != target:\n",
        "        return mid\n",
        "      high = mid - 1 \n",
        "\n",
        "\n",
        "A = [-14, -10, 2, 108, 108, 243, 285, 285, 285, 401]\n",
        "target = 108\n",
        "x = find(A, target)\n",
        "print(x)"
      ],
      "metadata": {
        "colab": {
          "base_uri": "https://localhost:8080/"
        },
        "id": "voN8-2H_UOBr",
        "outputId": "8933d73a-b5dc-404e-d477-1f2e018a2f07"
      },
      "execution_count": null,
      "outputs": [
        {
          "output_type": "stream",
          "name": "stdout",
          "text": [
            "3\n"
          ]
        }
      ]
    },
    {
      "cell_type": "markdown",
      "source": [
        "## The Bisect Module"
      ],
      "metadata": {
        "id": "LU9l90U8njyn"
      }
    },
    {
      "cell_type": "code",
      "source": [
        "import bisect\n",
        "\n",
        "\n",
        "A = [-14, -10, 2, 108, 108, 243, 285, 285, 285, 401]\n",
        "\n",
        "print('Bisect left: ')\n",
        "print(bisect.bisect_left(A, -10))\n",
        "print(bisect.bisect_left(A, 285))\n",
        "print('Bisect right: ')\n",
        "print(bisect.bisect_right(A, -10))\n",
        "print(bisect.bisect_right(A, 285))\n",
        "print('Bisect: ')\n",
        "print(bisect.bisect(A, -10))\n",
        "print(bisect.bisect(A, 285))\n",
        "\n",
        "print('Insort')\n",
        "bisect.insort_left(A, 108)\n",
        "print(A)\n",
        "bisect.insort_right(A, 108)\n",
        "print(A)"
      ],
      "metadata": {
        "colab": {
          "base_uri": "https://localhost:8080/"
        },
        "id": "YmWVL2lEnk3u",
        "outputId": "a22c03a7-0072-4daa-96cc-9b02bd97f8e0"
      },
      "execution_count": null,
      "outputs": [
        {
          "output_type": "stream",
          "name": "stdout",
          "text": [
            "Bisect left: \n",
            "1\n",
            "6\n",
            "Bisect right: \n",
            "2\n",
            "9\n",
            "Bisect: \n",
            "2\n",
            "9\n",
            "Insort\n",
            "[-14, -10, 2, 108, 108, 108, 243, 285, 285, 285, 401]\n",
            "[-14, -10, 2, 108, 108, 108, 108, 243, 285, 285, 285, 401]\n"
          ]
        }
      ]
    },
    {
      "cell_type": "markdown",
      "source": [
        "## Exercise 1: Integer Square Root\n",
        "Return the largest integer whose square is less than or equal to the given integer."
      ],
      "metadata": {
        "id": "1O3Yyoe4oytH"
      }
    },
    {
      "cell_type": "code",
      "source": [
        "def integer_square_root(k):\n",
        "  low = 0\n",
        "  high = k \n",
        "  \n",
        "\n",
        "  while low <= high:\n",
        "    mid = (low + high) // 2\n",
        "    sqrd_val = mid * mid\n",
        " \n",
        "    if sqrd_val <= k:\n",
        "      low = mid + 1\n",
        "    else:\n",
        "      high = mid - 1\n",
        "   \n",
        "\n",
        "  return low - 1\n",
        "    \n",
        "k = 9\n",
        "#  [1, 2, 3, 4, 5, 6, 7, 8, 9]\n",
        "\n",
        "k2 = 16\n",
        "[1, 2, 3, 4, 5, 6, 7, 8, 9, 10, 11, 12, 13, 14, 15, 16]\n",
        "\n",
        "print(integer_square_root(300))"
      ],
      "metadata": {
        "colab": {
          "base_uri": "https://localhost:8080/"
        },
        "id": "hM24StnSn9E6",
        "outputId": "18f73a2b-6b6f-472a-db2b-3fdfe3222584"
      },
      "execution_count": null,
      "outputs": [
        {
          "output_type": "stream",
          "name": "stdout",
          "text": [
            "17\n"
          ]
        }
      ]
    },
    {
      "cell_type": "markdown",
      "source": [
        "### Exercise 2: Cyclicically Shifted Array\n",
        "\n",
        "Find the smallest integer in a cyclically shifted array. Some examples of this array are:\n",
        "\n",
        "1, 2, 3, 4, 5, 6, 7\n",
        "\n",
        "4, 5, 6, 7, 1, 2, 3\n",
        "\n",
        "7, 1, 2, 3, 4, 5, 6\n"
      ],
      "metadata": {
        "id": "P9eoYw626P_i"
      }
    },
    {
      "cell_type": "code",
      "source": [
        "def find(A):\n",
        "  low = 0\n",
        "  high = len(A) - 1\n",
        "\n",
        "  while low < high:\n",
        "    mid = (low + high) // 2\n",
        "\n",
        "    if A[mid] > A[high]:\n",
        "      low = mid + 1\n",
        "    elif A[mid] <= A[high]:\n",
        "      high = mid\n",
        "    \n",
        "  return low \n",
        "\n",
        "A = [7, 1, 2, 3, 4, 5, 6]\n",
        "find(A)"
      ],
      "metadata": {
        "id": "k5GnRsuvr5pc",
        "colab": {
          "base_uri": "https://localhost:8080/"
        },
        "outputId": "37116756-3a39-408a-fdc3-83b40522e5b8"
      },
      "execution_count": 6,
      "outputs": [
        {
          "output_type": "execute_result",
          "data": {
            "text/plain": [
              "1"
            ]
          },
          "metadata": {},
          "execution_count": 6
        }
      ]
    },
    {
      "cell_type": "markdown",
      "source": [
        "## Recursion"
      ],
      "metadata": {
        "id": "Dhtwsj8-V25z"
      }
    },
    {
      "cell_type": "markdown",
      "source": [
        "### Problem 1:  Find the first upppercase letter in a string"
      ],
      "metadata": {
        "id": "H-1CGugKV8Vj"
      }
    },
    {
      "cell_type": "code",
      "source": [
        "#iterative approach\n",
        "def find_uppercase_iterative(input_str):\n",
        "  for i in range(len(input_str)):\n",
        "    if input_str[i].isupper():\n",
        "      return input_str[i]\n",
        "  return \"No uppercase letter found\"\n",
        "\n",
        "\n",
        "#recursive approach\n",
        "def find_uppercase_recursive(input_str, indx=0):\n",
        "  if input_str[indx].isupper():\n",
        "    return input_str[indx]\n",
        "  if input_str[indx] == len(input_str) - 1:\n",
        "    return \"No uppercase letter found\"\n",
        "  return find_uppercase_recursive(input_str, indx+1)\n",
        "\n",
        "\n",
        "strA = \"Laura is the best\"\n",
        "strB = \"laura Is the best\"\n",
        "strC= \"laura is The best\"\n",
        "\n",
        "print(find_uppercase_iterative(strA))\n",
        "print(find_uppercase_recursive(strB))\n",
        "print(find_uppercase_recursive(strC))\n",
        "print(find_uppercase_iterative(strC))\n",
        "\n"
      ],
      "metadata": {
        "colab": {
          "base_uri": "https://localhost:8080/"
        },
        "id": "LBQulEZDV5Du",
        "outputId": "8d6048e1-28d1-4061-8608-959e6383f9b0"
      },
      "execution_count": 10,
      "outputs": [
        {
          "output_type": "stream",
          "name": "stdout",
          "text": [
            "L\n",
            "I\n",
            "T\n",
            "T\n"
          ]
        }
      ]
    },
    {
      "cell_type": "markdown",
      "source": [
        "### Problem 2: Calculate string length"
      ],
      "metadata": {
        "id": "IhpbBp_-XYo-"
      }
    },
    {
      "cell_type": "code",
      "source": [
        "#iterative approach\n",
        "def find_string_length(string_a):\n",
        "  return len(string_a)\n",
        "\n",
        "def find_string_length_iter(string_a):\n",
        "  count = 0\n",
        "  for i in range(len(string_a)):\n",
        "    count += 1 \n",
        "  return count\n",
        "\n",
        "#recursive approach\n",
        "def find_string_len_recur(string_a):\n",
        "  if string_a == '':\n",
        "    return 0\n",
        "  return 1 + find_string_len_recur(string_a[1:])\n",
        "\n",
        "\n",
        "string_a = \"I love lucy\"\n",
        "print(find_string_length(string_a))\n",
        "print(find_string_length_iter(string_a))\n",
        "print(find_string_len_recur(string_a))"
      ],
      "metadata": {
        "colab": {
          "base_uri": "https://localhost:8080/"
        },
        "id": "sPy8vXP4Cfv_",
        "outputId": "e160d73b-2f87-43c6-d394-da608e8b9c55"
      },
      "execution_count": 28,
      "outputs": [
        {
          "output_type": "stream",
          "name": "stdout",
          "text": [
            "11\n",
            "11\n",
            "11\n"
          ]
        }
      ]
    },
    {
      "cell_type": "markdown",
      "source": [
        "### Problem 3: given a string, calculate the number of consonants present \n",
        "\n",
        "ex: Cookies are amazing! == 8 consonants\n"
      ],
      "metadata": {
        "id": "dL9uu07rZzLv"
      }
    },
    {
      "cell_type": "code",
      "source": [
        "#Iterative approach\n",
        "\n",
        "#First cover edge cases: spaces, punctuactions like exclamation point. ei, \n",
        "#it has to be a letter to partake in the count \n",
        "\n",
        "vowels = 'aeiou'\n",
        "\n",
        "def count_conso_iter(given_str):\n",
        "  con_count = 0\n",
        "  for i in range(len(given_str)):\n",
        "    if given_str[i].lower() not in vowels and given_str[i].isalpha():\n",
        "      con_count +=1 \n",
        "  return con_count\n",
        "    \n",
        "def count_conso_recur(given_str):\n",
        "  if given_str == '':\n",
        "    return 0\n",
        "  if given_str[0].lower() not in vowels and given_str[0].isalpha():\n",
        "    return 1 + count_conso_recur(given_str[1:])\n",
        "  else:\n",
        "    return count_conso_recur(given_str[1:])\n",
        "\n",
        "\n",
        "A_string = 'cookie monster likes cookies'\n",
        "B_string = 'chocolate is the best'\n",
        "print(count_conso_iter(A_string))\n",
        "print(count_conso_recur(B_string))"
      ],
      "metadata": {
        "colab": {
          "base_uri": "https://localhost:8080/"
        },
        "id": "HKpTxXrxXnhq",
        "outputId": "82832fb3-0252-43b8-a62e-1c720c0a10a5"
      },
      "execution_count": 40,
      "outputs": [
        {
          "output_type": "stream",
          "name": "stdout",
          "text": [
            "13\n",
            "11\n"
          ]
        }
      ]
    },
    {
      "cell_type": "markdown",
      "source": [
        "### Problem 4: Find product of two numbers using recursion"
      ],
      "metadata": {
        "id": "j7V5Yo6UhU_p"
      }
    },
    {
      "cell_type": "code",
      "source": [
        "def multiply(x, y):\n",
        "  return x * y\n",
        "\n",
        "\n",
        "def recursive_multiply(x, y):\n",
        "  if not x or y:\n",
        "    return 0\n",
        "  \n",
        "  else:\n",
        "    return recursive_multiply(x * y)\n",
        "\n",
        "\n",
        "print(multiply(2, 3))\n",
        "recursive_multiply(2, 3)"
      ],
      "metadata": {
        "colab": {
          "base_uri": "https://localhost:8080/"
        },
        "id": "ed0F9O9Cb_Zx",
        "outputId": "f392cfbe-1f9a-4451-ddf6-d6cd7a038184"
      },
      "execution_count": 56,
      "outputs": [
        {
          "output_type": "stream",
          "name": "stdout",
          "text": [
            "6\n"
          ]
        },
        {
          "output_type": "execute_result",
          "data": {
            "text/plain": [
              "0"
            ]
          },
          "metadata": {},
          "execution_count": 56
        }
      ]
    },
    {
      "cell_type": "code",
      "source": [],
      "metadata": {
        "id": "91_Z3PYjhr9Y"
      },
      "execution_count": null,
      "outputs": []
    }
  ],
  "metadata": {
    "colab": {
      "provenance": [],
      "authorship_tag": "ABX9TyMuqch6dTlfvpC+K6LjEUqK",
      "include_colab_link": true
    },
    "kernelspec": {
      "display_name": "Python 3",
      "name": "python3"
    },
    "language_info": {
      "name": "python"
    }
  },
  "nbformat": 4,
  "nbformat_minor": 0
}