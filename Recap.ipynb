{
  "nbformat": 4,
  "nbformat_minor": 0,
  "metadata": {
    "colab": {
      "name": "Recap.ipynb",
      "provenance": [],
      "authorship_tag": "ABX9TyOvIBz8dGRmzpKze+D2+o25",
      "include_colab_link": true
    },
    "kernelspec": {
      "name": "python3",
      "display_name": "Python 3"
    },
    "language_info": {
      "name": "python"
    }
  },
  "cells": [
    {
      "cell_type": "markdown",
      "metadata": {
        "id": "view-in-github",
        "colab_type": "text"
      },
      "source": [
        "<a href=\"https://colab.research.google.com/github/lauxpaux/Recap/blob/main/Recap.ipynb\" target=\"_parent\"><img src=\"https://colab.research.google.com/assets/colab-badge.svg\" alt=\"Open In Colab\"/></a>"
      ]
    },
    {
      "cell_type": "code",
      "source": [
        ""
      ],
      "metadata": {
        "id": "Ccp_dDW7zJf3"
      },
      "execution_count": null,
      "outputs": []
    },
    {
      "cell_type": "markdown",
      "source": [
        "Implementing a stack "
      ],
      "metadata": {
        "id": "gHMyIv_QzJvI"
      }
    },
    {
      "cell_type": "code",
      "execution_count": null,
      "metadata": {
        "id": "KM2t9jk7y_bp"
      },
      "outputs": [],
      "source": [
        "class Stack():\n",
        "    def __init__(self):\n",
        "        #creating an empty list to start the stack\n",
        "        self.items = []\n",
        "    \n",
        "    def push(self, item):\n",
        "        #adding to the stack \n",
        "        self.items.append(item)\n",
        "        \n",
        "    def pop(self):\n",
        "        #removing top element \n",
        "        self.items.pop()\n",
        "        \n",
        "    def is_empty(self):\n",
        "        return self.items == []\n",
        "    \n",
        "    def peek(self):\n",
        "        #looking at item on top of stack \n",
        "        if not self.is_empty():\n",
        "            return self.items[-1]\n",
        "    \n",
        "    def getStack(self):\n",
        "        print(self.items)\n",
        "            \n",
        "    \n",
        "    \n",
        "myStack = Stack()\n",
        "myStack.push(1)\n",
        "myStack.push(2)\n",
        "myStack.pop()\n",
        "myStack.getStack()\n",
        "myStack.push(4)\n",
        "myStack.push(5)\n",
        "print(myStack.is_empty())\n",
        "myStack.peek()\n",
        "myStack.getStack()\n",
        "myStack.pop()\n",
        "myStack.pop()\n",
        "print(myStack.peek())\n",
        "myStack.getStack()\n",
        "myStack.pop()\n",
        "print(myStack.is_empty())\n",
        "\n",
        "        "
      ]
    }
  ]
}