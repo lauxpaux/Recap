{
  "nbformat": 4,
  "nbformat_minor": 0,
  "metadata": {
    "colab": {
      "provenance": [],
      "collapsed_sections": [],
      "authorship_tag": "ABX9TyMkAWyZ0DMMr7fRPN08FdB1",
      "include_colab_link": true
    },
    "kernelspec": {
      "name": "python3",
      "display_name": "Python 3"
    },
    "language_info": {
      "name": "python"
    }
  },
  "cells": [
    {
      "cell_type": "markdown",
      "metadata": {
        "id": "view-in-github",
        "colab_type": "text"
      },
      "source": [
        "<a href=\"https://colab.research.google.com/github/lauxpaux/Recap/blob/review_quiz/AlgoStudyDraft2.ipynb\" target=\"_parent\"><img src=\"https://colab.research.google.com/assets/colab-badge.svg\" alt=\"Open In Colab\"/></a>"
      ]
    },
    {
      "cell_type": "markdown",
      "source": [
        "Lists"
      ],
      "metadata": {
        "id": "Qr7-_mEM6YtM"
      }
    },
    {
      "cell_type": "code",
      "execution_count": null,
      "metadata": {
        "id": "E-VDoHSR6T0D"
      },
      "outputs": [],
      "source": [
        "class Node():\n",
        "  def __init__(self, data):\n",
        "    self.data = data\n",
        "    self.next = None \n",
        "\n",
        "class LinkedList():\n",
        "  def __init__(self):\n",
        "    self.head = None\n",
        "\n",
        "################################\n",
        "  def print_list(self):\n",
        "    cur = self.head\n",
        "    while cur:\n",
        "      print(cur.data)\n",
        "      cur = cur.next    \n",
        "\n",
        "################################\n",
        "  def append(self, data):\n",
        "    new_node = Node(data)\n",
        "    if self.head is None:\n",
        "      self.head = new_node\n",
        "      return\n",
        "    cur = self.head\n",
        "    while cur.next:\n",
        "      cur = cur.next\n",
        "    cur.next = new_node\n",
        "\n",
        "#################################\n",
        "  def append_after(self, node_data, data):\n",
        "    new_node = Node(data)\n",
        "    if not node_data:\n",
        "      return \"Node not found\"   \n",
        "    new_node.next = node_data.next\n",
        "    node_data.next = new_node    \n",
        "\n",
        "#################################\n",
        "  def prepend(self, node_data, data):\n",
        "    new_node = Node(data)\n",
        "    if not node_data:\n",
        "      return \"Node not found\"\n",
        "    if node_data is self.head:\n",
        "      new_node.next = self.head\n",
        "      self.head = new_node\n",
        "      return\n",
        "    cur = self.head\n",
        "    if cur.next != node_data:\n",
        "      cur = cur.next\n",
        "    new_node.next = cur.next\n",
        "    cur.next = new_node   \n",
        "\n",
        "#################################\n",
        "  def delete_node_pos(self, pos):\n",
        "    if self.head:\n",
        "      cur = self.head\n",
        "      if pos == 0:\n",
        "        self.head = cur.next\n",
        "        cur = None \n",
        "        return\n",
        "    count = 0\n",
        "    prev = None\n",
        "    while cur and count != pos:\n",
        "      prev = cur\n",
        "      cur = cur.next\n",
        "      count += 1\n",
        "    if cur is None:\n",
        "      return \"Position out of bounds\"  \n",
        "    prev.next = cur.next\n",
        "    cur = None\n",
        " \n",
        "#################################\n",
        "  def delete_node_data(self, data):\n",
        "    if self.head:\n",
        "      cur = self.head\n",
        "      if cur.data == data:\n",
        "        self.head = cur.next\n",
        "        cur = None\n",
        "        return \n",
        "    prev = None\n",
        "    while cur and cur.data != data:\n",
        "      prev = cur\n",
        "      cur = cur.next\n",
        "    if cur is None:\n",
        "      return\n",
        "    prev.next = cur.next\n",
        "    cur = None\n",
        "\n",
        "################################\n",
        "  def len_(self):\n",
        "    cur = self.head\n",
        "    count = 0\n",
        "    if self.head is None:\n",
        "      return \"Empty list\"\n",
        "    while cur:\n",
        "      count += 1\n",
        "      cur = cur.next\n",
        "    return count\n",
        "      \n",
        "################################\n",
        "  ####STUDY####\n",
        "  def reverse_list(self): \n",
        "    cur = self.head\n",
        "    prev = None\n",
        "    while cur:\n",
        "      nxt = cur.next\n",
        "      cur.next = prev\n",
        "      prev = cur\n",
        "      cur = nxt\n",
        "    self.head = prev\n",
        "    return \n",
        "\n",
        "\n",
        "################################\n",
        "  #merge two sorted list \n",
        "  def merge_sorted_list(self, llist): \n",
        "    list_a = self.head\n",
        "    list_b = llist.head\n",
        "    smallest_val = None\n",
        "    if not list_a:\n",
        "      return list_b\n",
        "    if not list_b:\n",
        "      return list_a\n",
        "    if list_a and list_b:\n",
        "      if list_a.data <= list_b.data:\n",
        "        smallest_val = list_a\n",
        "        list_a = smallest_val.next    \n",
        "      else:\n",
        "        smallest_val = list_b\n",
        "        list_b = smallest_val.next \n",
        "      new_head = smallest_val\n",
        "    while list_a and list_b:\n",
        "      if list_a.data <= list_b.data:\n",
        "        smallest_val.next = list_a\n",
        "        smallest_val = list_a\n",
        "        list_a = smallest_val.next \n",
        "      else:\n",
        "        smallest_val.next = list_b\n",
        "        smallest_val = list_b\n",
        "        list_b = smallest_val.next \n",
        "    if not list_a:\n",
        "      smallest_val.next = list_b\n",
        "    if not list_b:\n",
        "      smallest_val.next = list_a\n",
        "    self.head = new_head\n",
        "    return self.head \n",
        "\n",
        "################################\n",
        "  def swap_nodes(self, node1, node2):\n",
        "    if node1 == node2:\n",
        "      return \n",
        "    cur = self.head\n",
        "    prev = None\n",
        "    while cur and cur.data != node1:\n",
        "      prev = cur\n",
        "      cur = cur.next\n",
        "    cur2 = self.head\n",
        "    prev2 = None\n",
        "    while cur2 and cur2.data != node2:\n",
        "      prev2 = cur2\n",
        "      cur2 = cur2.next\n",
        "    if not node1 or not node2:\n",
        "        return \n",
        "    if prev:\n",
        "      prev.next = cur2\n",
        "    else:\n",
        "      self.head = cur2\n",
        "    if prev2:\n",
        "      prev2.next = cur\n",
        "    else:\n",
        "      self.head = cur\n",
        "    cur.next, cur2.next = cur2.next, cur.next \n",
        "\n",
        "################################\n",
        "  def remove_duplicates(self):\n",
        "    cur = self.head\n",
        "    prev = None \n",
        "    duplicates = dict()\n",
        "    while cur:\n",
        "      if cur.data in duplicates:\n",
        "        prev.next = cur.next\n",
        "        cur = None   \n",
        "      else:\n",
        "        duplicates[cur.data] = 1\n",
        "        prev = cur \n",
        "      cur = prev.next\n",
        "\n",
        "################################\n",
        "  def print_nth_from_last(self, n, method):\n",
        "    if method == 1:\n",
        "      total_len = self.len_()\n",
        "      cur = self.head\n",
        "      while cur:\n",
        "        if total_len == n:\n",
        "          print(cur.data)\n",
        "          return cur.data\n",
        "        total_len -= 1\n",
        "        cur = cur.next\n",
        "      if cur is None:\n",
        "        return \n",
        "    elif method == 2:\n",
        "      p = self.head\n",
        "      q = self.head\n",
        "      if n > 0:\n",
        "        count = 0\n",
        "        while q:\n",
        "          count += 1 \n",
        "          if (count>=n):\n",
        "            break\n",
        "          q = q.next \n",
        "        if not q: \n",
        "          print(str(n) + \"is greater than lenght of the list\")\n",
        "          return \n",
        "        while p and q.next: \n",
        "          p = p.next\n",
        "          q = q.next\n",
        "        return p.data\n",
        "    else:\n",
        "      return None \n",
        "  \n",
        "################################\n",
        "  def count_occurence(self, value):\n",
        "    cur = self.head\n",
        "    count = 0 \n",
        "    while cur:\n",
        "      if cur.data == value: \n",
        "        count += 1\n",
        "      cur = cur.next \n",
        "    return count\n",
        "    \n",
        "    \n",
        "\n",
        "\n",
        "\n",
        "    \n",
        "\n"
      ]
    },
    {
      "cell_type": "code",
      "source": [
        "#test append\n",
        "l = LinkedList()\n",
        "l.append(1)\n",
        "l.append(2)\n",
        "l.append(2)\n",
        "l.append(3)\n",
        "l.append(4)\n",
        "l.append(4)\n",
        "l.append(5)\n",
        "l.append(6)\n"
      ],
      "metadata": {
        "id": "y_BNzaNW9lEH"
      },
      "execution_count": null,
      "outputs": []
    },
    {
      "cell_type": "code",
      "source": [
        "#length test\n",
        "l.len_()"
      ],
      "metadata": {
        "colab": {
          "base_uri": "https://localhost:8080/"
        },
        "id": "FaGSmxWiSKTY",
        "outputId": "8bc0586d-e6f8-4775-ce23-15cb9f7ede8d"
      },
      "execution_count": null,
      "outputs": [
        {
          "output_type": "execute_result",
          "data": {
            "text/plain": [
              "8"
            ]
          },
          "metadata": {},
          "execution_count": 3
        }
      ]
    },
    {
      "cell_type": "code",
      "source": [
        "#test print\n",
        "l.print_list()"
      ],
      "metadata": {
        "colab": {
          "base_uri": "https://localhost:8080/"
        },
        "id": "IGhRrBdO9skR",
        "outputId": "2467ea2f-b07b-4e2e-f29c-4a73c2bac215"
      },
      "execution_count": null,
      "outputs": [
        {
          "output_type": "stream",
          "name": "stdout",
          "text": [
            "1\n",
            "2\n",
            "2\n",
            "3\n",
            "4\n",
            "4\n",
            "5\n",
            "6\n"
          ]
        }
      ]
    },
    {
      "cell_type": "code",
      "source": [
        "#test append\n",
        "l.append_after(l.head.next.next, 7)\n",
        "l.print_list()"
      ],
      "metadata": {
        "colab": {
          "base_uri": "https://localhost:8080/"
        },
        "id": "NPgaQxzohUFC",
        "outputId": "ffcef491-3035-48cb-81df-aef7fd0cd369"
      },
      "execution_count": null,
      "outputs": [
        {
          "output_type": "stream",
          "name": "stdout",
          "text": [
            "1\n",
            "2\n",
            "2\n",
            "7\n",
            "3\n",
            "4\n",
            "4\n",
            "5\n",
            "6\n"
          ]
        }
      ]
    },
    {
      "cell_type": "code",
      "source": [
        "l.prepend(l.head.next.next, 22)\n",
        "l.print_list()"
      ],
      "metadata": {
        "colab": {
          "base_uri": "https://localhost:8080/"
        },
        "id": "lhByWB38k6io",
        "outputId": "29f5f3f0-96b8-46fc-ee89-64ef1f77d977"
      },
      "execution_count": null,
      "outputs": [
        {
          "output_type": "stream",
          "name": "stdout",
          "text": [
            "1\n",
            "2\n",
            "22\n",
            "2\n",
            "7\n",
            "3\n",
            "4\n",
            "4\n",
            "5\n",
            "6\n"
          ]
        }
      ]
    },
    {
      "cell_type": "code",
      "source": [
        "#reverse test\n",
        "l.reverse_list()\n",
        "l.print_list()"
      ],
      "metadata": {
        "colab": {
          "base_uri": "https://localhost:8080/"
        },
        "id": "h1b1xztF7sVV",
        "outputId": "2599a66b-e6c2-4c45-fca0-4ddc3aae5255"
      },
      "execution_count": null,
      "outputs": [
        {
          "output_type": "stream",
          "name": "stdout",
          "text": [
            "6\n",
            "5\n",
            "4\n",
            "4\n",
            "3\n",
            "7\n",
            "2\n",
            "22\n",
            "2\n",
            "1\n"
          ]
        }
      ]
    },
    {
      "cell_type": "code",
      "source": [
        "l.remove_duplicates()"
      ],
      "metadata": {
        "id": "ihp-6k24GIco"
      },
      "execution_count": null,
      "outputs": []
    },
    {
      "cell_type": "code",
      "source": [
        "l.print_list()"
      ],
      "metadata": {
        "id": "3kdY_SNc_MCB",
        "colab": {
          "base_uri": "https://localhost:8080/"
        },
        "outputId": "4b863d93-3ab2-4822-b3d1-d0f44685ef9d"
      },
      "execution_count": null,
      "outputs": [
        {
          "output_type": "stream",
          "name": "stdout",
          "text": [
            "6\n",
            "5\n",
            "4\n",
            "3\n",
            "7\n",
            "2\n",
            "22\n",
            "1\n"
          ]
        }
      ]
    },
    {
      "cell_type": "code",
      "source": [
        "#test merge sorted method\n",
        "l2 = LinkedList()\n",
        "l2.append(10)\n",
        "l2.append(24)\n",
        "l2.append(27)\n",
        "l2.append(9)"
      ],
      "metadata": {
        "id": "yLYlCTlkcsHv"
      },
      "execution_count": null,
      "outputs": []
    },
    {
      "cell_type": "code",
      "source": [
        "l2.print_list()"
      ],
      "metadata": {
        "id": "kwbowccs9feD",
        "colab": {
          "base_uri": "https://localhost:8080/"
        },
        "outputId": "af0c302d-801b-4dd3-fb84-33daf7bfa066"
      },
      "execution_count": null,
      "outputs": [
        {
          "output_type": "stream",
          "name": "stdout",
          "text": [
            "10\n",
            "24\n",
            "27\n",
            "9\n"
          ]
        }
      ]
    },
    {
      "cell_type": "code",
      "source": [
        "l.print_list()"
      ],
      "metadata": {
        "colab": {
          "base_uri": "https://localhost:8080/"
        },
        "id": "-P1Ad2R0Z3cE",
        "outputId": "c66d31e4-650a-4a8c-f6e0-0e11daa7e720"
      },
      "execution_count": null,
      "outputs": [
        {
          "output_type": "stream",
          "name": "stdout",
          "text": [
            "6\n",
            "5\n",
            "4\n",
            "3\n",
            "7\n",
            "2\n",
            "22\n",
            "1\n"
          ]
        }
      ]
    },
    {
      "cell_type": "code",
      "source": [
        "list1 = LinkedList()\n",
        "list1.append(2)\n",
        "list1.append(4)\n",
        "list1.append(5)\n",
        "list1.append(7)"
      ],
      "metadata": {
        "id": "uKCtf5ChbI7w"
      },
      "execution_count": null,
      "outputs": []
    },
    {
      "cell_type": "code",
      "source": [
        "list2 = LinkedList()\n",
        "list2.append(1)\n",
        "list2.append(3)\n",
        "list2.append(6)\n",
        "list2.append(9)"
      ],
      "metadata": {
        "id": "uxFkdgzTbThr"
      },
      "execution_count": null,
      "outputs": []
    },
    {
      "cell_type": "code",
      "source": [
        "list1.merge_sorted_list(list2)\n",
        "list1.print_list()"
      ],
      "metadata": {
        "colab": {
          "base_uri": "https://localhost:8080/"
        },
        "id": "K5QJh0knPL_H",
        "outputId": "132876c6-6aae-4e9b-b683-2bce2fe85af6"
      },
      "execution_count": null,
      "outputs": [
        {
          "output_type": "stream",
          "name": "stdout",
          "text": [
            "1\n",
            "2\n",
            "3\n",
            "4\n",
            "5\n",
            "6\n",
            "7\n",
            "9\n"
          ]
        }
      ]
    },
    {
      "cell_type": "code",
      "source": [
        "l.print_list()"
      ],
      "metadata": {
        "id": "R06XoJWm-vng",
        "colab": {
          "base_uri": "https://localhost:8080/"
        },
        "outputId": "e8fc1e46-0206-46c5-98a5-94c5e2df3bf3"
      },
      "execution_count": null,
      "outputs": [
        {
          "output_type": "stream",
          "name": "stdout",
          "text": [
            "6\n",
            "5\n",
            "4\n",
            "3\n",
            "7\n",
            "2\n",
            "22\n",
            "1\n"
          ]
        }
      ]
    },
    {
      "cell_type": "code",
      "source": [
        "l.delete_node_pos(3)\n",
        "l.print_list()"
      ],
      "metadata": {
        "colab": {
          "base_uri": "https://localhost:8080/"
        },
        "id": "JSTyZO5uyyWd",
        "outputId": "8bf73fa1-efe5-412c-af2d-c7975b6f9f20"
      },
      "execution_count": null,
      "outputs": [
        {
          "output_type": "stream",
          "name": "stdout",
          "text": [
            "6\n",
            "5\n",
            "4\n",
            "7\n",
            "2\n",
            "22\n",
            "1\n"
          ]
        }
      ]
    },
    {
      "cell_type": "code",
      "source": [
        "l.delete_node_pos(0)\n",
        "l.print_list()\n",
        "print()\n",
        "print('Length:')\n",
        "l.len_()"
      ],
      "metadata": {
        "colab": {
          "base_uri": "https://localhost:8080/"
        },
        "id": "SWX8StBdzIIZ",
        "outputId": "2e883a2f-aa17-4323-bcbd-0f679cd554aa"
      },
      "execution_count": null,
      "outputs": [
        {
          "output_type": "stream",
          "name": "stdout",
          "text": [
            "5\n",
            "4\n",
            "7\n",
            "2\n",
            "22\n",
            "1\n",
            "\n",
            "Length:\n"
          ]
        },
        {
          "output_type": "execute_result",
          "data": {
            "text/plain": [
              "6"
            ]
          },
          "metadata": {},
          "execution_count": 18
        }
      ]
    },
    {
      "cell_type": "code",
      "source": [
        "l.delete_node_pos(4)\n",
        "l.print_list()"
      ],
      "metadata": {
        "colab": {
          "base_uri": "https://localhost:8080/"
        },
        "id": "pqA8PKJczseN",
        "outputId": "4fed1bfd-ad38-4843-d5d4-0c2fc7671956"
      },
      "execution_count": null,
      "outputs": [
        {
          "output_type": "stream",
          "name": "stdout",
          "text": [
            "5\n",
            "4\n",
            "7\n",
            "2\n",
            "1\n"
          ]
        }
      ]
    },
    {
      "cell_type": "code",
      "source": [
        "l.delete_node_pos(6)"
      ],
      "metadata": {
        "colab": {
          "base_uri": "https://localhost:8080/",
          "height": 35
        },
        "id": "Ery_AZ2T1Qe6",
        "outputId": "613df715-de51-44e1-b25d-8273823b3c82"
      },
      "execution_count": null,
      "outputs": [
        {
          "output_type": "execute_result",
          "data": {
            "text/plain": [
              "'Position out of bounds'"
            ],
            "application/vnd.google.colaboratory.intrinsic+json": {
              "type": "string"
            }
          },
          "metadata": {},
          "execution_count": 20
        }
      ]
    },
    {
      "cell_type": "code",
      "source": [
        "l.print_list()"
      ],
      "metadata": {
        "colab": {
          "base_uri": "https://localhost:8080/"
        },
        "id": "MzS2gOwV44vq",
        "outputId": "a5961e50-fb43-41c2-ecc8-b8b8b56729dd"
      },
      "execution_count": null,
      "outputs": [
        {
          "output_type": "stream",
          "name": "stdout",
          "text": [
            "5\n",
            "4\n",
            "7\n",
            "2\n",
            "1\n"
          ]
        }
      ]
    },
    {
      "cell_type": "code",
      "source": [
        "l.delete_node_data(4)\n",
        "l.print_list()"
      ],
      "metadata": {
        "colab": {
          "base_uri": "https://localhost:8080/"
        },
        "id": "XYVeKhmP45dW",
        "outputId": "36233094-654c-48b6-e940-796381ce6664"
      },
      "execution_count": null,
      "outputs": [
        {
          "output_type": "stream",
          "name": "stdout",
          "text": [
            "5\n",
            "7\n",
            "2\n",
            "1\n"
          ]
        }
      ]
    },
    {
      "cell_type": "code",
      "source": [
        "l.delete_node_data(5)\n",
        "l.print_list()"
      ],
      "metadata": {
        "colab": {
          "base_uri": "https://localhost:8080/"
        },
        "id": "5KytPahe5gnn",
        "outputId": "5eaf2a8e-ecaf-466e-a6cb-185d3c0def5b"
      },
      "execution_count": null,
      "outputs": [
        {
          "output_type": "stream",
          "name": "stdout",
          "text": [
            "7\n",
            "2\n",
            "1\n"
          ]
        }
      ]
    },
    {
      "cell_type": "code",
      "source": [
        "l.delete_node_data(2)\n",
        "l.print_list()"
      ],
      "metadata": {
        "colab": {
          "base_uri": "https://localhost:8080/"
        },
        "id": "RI9LN1CA5y_h",
        "outputId": "2cd2a384-944a-4448-8528-f2fa878dcee0"
      },
      "execution_count": null,
      "outputs": [
        {
          "output_type": "stream",
          "name": "stdout",
          "text": [
            "7\n",
            "1\n"
          ]
        }
      ]
    },
    {
      "cell_type": "code",
      "source": [
        "l.append(1)\n",
        "l.append(2)\n",
        "l.append(3)\n",
        "l.append(4)\n",
        "l.print_list()"
      ],
      "metadata": {
        "colab": {
          "base_uri": "https://localhost:8080/"
        },
        "id": "cW1VulqI8xTg",
        "outputId": "7f477b9a-c9d3-4348-df38-0c1b94f258e4"
      },
      "execution_count": null,
      "outputs": [
        {
          "output_type": "stream",
          "name": "stdout",
          "text": [
            "7\n",
            "1\n",
            "1\n",
            "2\n",
            "3\n",
            "4\n"
          ]
        }
      ]
    },
    {
      "cell_type": "code",
      "source": [
        "l.remove_duplicates()"
      ],
      "metadata": {
        "id": "N2XcDGo28xC9"
      },
      "execution_count": null,
      "outputs": []
    },
    {
      "cell_type": "code",
      "source": [
        "l.print_list()"
      ],
      "metadata": {
        "colab": {
          "base_uri": "https://localhost:8080/"
        },
        "id": "kLyBaSZt888R",
        "outputId": "9fa717e5-f8a5-4e3d-9fe3-505718cf85cf"
      },
      "execution_count": null,
      "outputs": [
        {
          "output_type": "stream",
          "name": "stdout",
          "text": [
            "7\n",
            "1\n",
            "2\n",
            "3\n",
            "4\n"
          ]
        }
      ]
    },
    {
      "cell_type": "code",
      "source": [
        "l.swap_nodes(2,7)"
      ],
      "metadata": {
        "id": "GBsT0qcV8nqJ"
      },
      "execution_count": null,
      "outputs": []
    },
    {
      "cell_type": "code",
      "source": [
        "l.print_list()"
      ],
      "metadata": {
        "colab": {
          "base_uri": "https://localhost:8080/"
        },
        "id": "YgcqHNNn9CfW",
        "outputId": "a413b519-2646-4a41-a394-b9eee8b5ec81"
      },
      "execution_count": null,
      "outputs": [
        {
          "output_type": "stream",
          "name": "stdout",
          "text": [
            "2\n",
            "1\n",
            "7\n",
            "3\n",
            "4\n"
          ]
        }
      ]
    },
    {
      "cell_type": "code",
      "source": [
        "print(l.print_nth_from_last(3, 1))"
      ],
      "metadata": {
        "colab": {
          "base_uri": "https://localhost:8080/"
        },
        "id": "sHWJoaKc_niy",
        "outputId": "336a92b3-8a3f-423d-8cce-d83f24598fd0"
      },
      "execution_count": null,
      "outputs": [
        {
          "output_type": "stream",
          "name": "stdout",
          "text": [
            "7\n",
            "7\n"
          ]
        }
      ]
    },
    {
      "cell_type": "code",
      "source": [
        "l.append(7)\n",
        "l.print_list()"
      ],
      "metadata": {
        "colab": {
          "base_uri": "https://localhost:8080/"
        },
        "id": "_1hr8JL0U-YT",
        "outputId": "3ff6d355-b872-4874-e683-6c14389776f3"
      },
      "execution_count": null,
      "outputs": [
        {
          "output_type": "stream",
          "name": "stdout",
          "text": [
            "2\n",
            "1\n",
            "7\n",
            "3\n",
            "4\n",
            "7\n"
          ]
        }
      ]
    },
    {
      "cell_type": "code",
      "source": [
        "l.count_occurence(7)"
      ],
      "metadata": {
        "colab": {
          "base_uri": "https://localhost:8080/"
        },
        "id": "XHClAInHS68c",
        "outputId": "4ccd4995-3775-46cf-f5a8-c12dc74d67ce"
      },
      "execution_count": null,
      "outputs": [
        {
          "output_type": "execute_result",
          "data": {
            "text/plain": [
              "2"
            ]
          },
          "metadata": {},
          "execution_count": 32
        }
      ]
    },
    {
      "cell_type": "code",
      "source": [],
      "metadata": {
        "id": "zveDmdauVCXU"
      },
      "execution_count": null,
      "outputs": []
    }
  ]
}