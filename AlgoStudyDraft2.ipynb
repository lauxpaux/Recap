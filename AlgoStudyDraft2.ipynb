{
  "nbformat": 4,
  "nbformat_minor": 0,
  "metadata": {
    "colab": {
      "provenance": [],
      "collapsed_sections": [],
      "authorship_tag": "ABX9TyPgA0R3uR44rB1MTH5yJS3u",
      "include_colab_link": true
    },
    "kernelspec": {
      "name": "python3",
      "display_name": "Python 3"
    },
    "language_info": {
      "name": "python"
    }
  },
  "cells": [
    {
      "cell_type": "markdown",
      "metadata": {
        "id": "view-in-github",
        "colab_type": "text"
      },
      "source": [
        "<a href=\"https://colab.research.google.com/github/lauxpaux/Recap/blob/review_quiz/AlgoStudyDraft2.ipynb\" target=\"_parent\"><img src=\"https://colab.research.google.com/assets/colab-badge.svg\" alt=\"Open In Colab\"/></a>"
      ]
    },
    {
      "cell_type": "markdown",
      "source": [
        "Lists"
      ],
      "metadata": {
        "id": "Qr7-_mEM6YtM"
      }
    },
    {
      "cell_type": "code",
      "execution_count": 1,
      "metadata": {
        "id": "E-VDoHSR6T0D"
      },
      "outputs": [],
      "source": [
        "class Node():\n",
        "  def __init__(self, data):\n",
        "    self.data = data\n",
        "    self.next = None \n",
        "\n",
        "class LinkedList():\n",
        "  def __init__(self):\n",
        "    self.head = None\n",
        "\n",
        "################################\n",
        "  def print_list(self):\n",
        "    cur = self.head\n",
        "    while cur:\n",
        "      print(cur.data)\n",
        "      cur = cur.next    \n",
        "\n",
        "################################\n",
        "  def append(self, data):\n",
        "    new_node = Node(data)\n",
        "    if self.head is None:\n",
        "      self.head = new_node\n",
        "      return\n",
        "    cur = self.head\n",
        "    while cur.next:\n",
        "      cur = cur.next\n",
        "    cur.next = new_node\n",
        "\n",
        "#################################\n",
        "  def append_after(self, node_data, data):\n",
        "    new_node = Node(data)\n",
        "    if not node_data:\n",
        "      return \"Node not found\"   \n",
        "    new_node.next = node_data.next\n",
        "    node_data.next = new_node    \n",
        "\n",
        "#################################\n",
        "  def prepend(self, node_data, data):\n",
        "    new_node = Node(data)\n",
        "    if not node_data:\n",
        "      return \"Node not found\"\n",
        "    if node_data is self.head:\n",
        "      new_node.next = self.head\n",
        "      self.head = new_node\n",
        "      return\n",
        "    cur = self.head\n",
        "    if cur.next != node_data:\n",
        "      cur = cur.next\n",
        "    new_node.next = cur.next\n",
        "    cur.next = new_node   \n",
        "\n",
        "#################################\n",
        "  def delete_node_pos(self, pos):\n",
        "    if self.head:\n",
        "      cur = self.head\n",
        "      if pos == 0:\n",
        "        self.head = cur.next\n",
        "        cur = None \n",
        "        return\n",
        "    count = 0\n",
        "    prev = None\n",
        "    while cur and count != pos:\n",
        "      prev = cur\n",
        "      cur = cur.next\n",
        "      count += 1\n",
        "    if cur is None:\n",
        "      return \"Position out of bounds\"  \n",
        "    prev.next = cur.next\n",
        "    cur = None\n",
        " \n",
        "#################################\n",
        "  def delete_node_data(self, data):\n",
        "    if self.head:\n",
        "      cur = self.head\n",
        "      if cur.data == data:\n",
        "        self.head = cur.next\n",
        "        cur = None\n",
        "        return \n",
        "    prev = None\n",
        "    while cur and cur.data != data:\n",
        "      prev = cur\n",
        "      cur = cur.next\n",
        "    if cur is None:\n",
        "      return\n",
        "    prev.next = cur.next\n",
        "    cur = None\n",
        "\n",
        "################################\n",
        "  def len_(self):\n",
        "    cur = self.head\n",
        "    count = 0\n",
        "    if self.head is None:\n",
        "      return \"Empty list\"\n",
        "    while cur:\n",
        "      count += 1\n",
        "      cur = cur.next\n",
        "    return count\n",
        "      \n",
        "################################\n",
        "  ####STUDY####\n",
        "  def reverse_list(self): \n",
        "    cur = self.head\n",
        "    prev = None\n",
        "    while cur:\n",
        "      nxt = cur.next\n",
        "      cur.next = prev\n",
        "      prev = cur\n",
        "      cur = nxt\n",
        "    self.head = prev\n",
        "    return \n",
        "\n",
        "\n",
        "################################\n",
        "  #merge two sorted list \n",
        "  def merge_sorted_list(self, llist): \n",
        "    list_a = self.head\n",
        "    list_b = llist.head\n",
        "    smallest_val = None\n",
        "    if not list_a:\n",
        "      return list_b\n",
        "    if not list_b:\n",
        "      return list_a\n",
        "    if list_a and list_b:\n",
        "      if list_a.data <= list_b.data:\n",
        "        smallest_val = list_a\n",
        "        list_a = smallest_val.next    \n",
        "      else:\n",
        "        smallest_val = list_b\n",
        "        list_b = smallest_val.next \n",
        "      new_head = smallest_val\n",
        "    while list_a and list_b:\n",
        "      if list_a.data <= list_b.data:\n",
        "        smallest_val.next = list_a\n",
        "        smallest_val = list_a\n",
        "        list_a = smallest_val.next \n",
        "      else:\n",
        "        smallest_val.next = list_b\n",
        "        smallest_val = list_b\n",
        "        list_b = smallest_val.next \n",
        "    if not list_a:\n",
        "      smallest_val.next = list_b\n",
        "    if not list_b:\n",
        "      smallest_val.next = list_a\n",
        "    self.head = new_head\n",
        "    return self.head \n",
        "\n",
        "################################\n",
        "  def swap_nodes(self):\n",
        "    pass\n",
        "\n",
        "\n",
        "    \n",
        "\n",
        "    \n",
        "\n",
        "\n",
        "\n",
        "\n",
        "################################\n",
        "  def remove_duplicates(self):\n",
        "    cur = self.head\n",
        "    prev = None \n",
        "    duplicates = dict()\n",
        "    while cur:\n",
        "      if cur.data in duplicates:\n",
        "        prev.next = cur.next\n",
        "        cur = None   \n",
        "      else:\n",
        "        duplicates[cur.data] = 1\n",
        "        print(duplicates)\n",
        "        prev = cur \n",
        "      cur = prev.next\n",
        "################################\n",
        "\n"
      ]
    },
    {
      "cell_type": "code",
      "source": [
        "#test append\n",
        "l = LinkedList()\n",
        "l.append(1)\n",
        "l.append(2)\n",
        "l.append(2)\n",
        "l.append(3)\n",
        "l.append(4)\n",
        "l.append(4)\n",
        "l.append(5)\n",
        "l.append(6)\n"
      ],
      "metadata": {
        "id": "y_BNzaNW9lEH"
      },
      "execution_count": 2,
      "outputs": []
    },
    {
      "cell_type": "code",
      "source": [
        "#length test\n",
        "l.len_()"
      ],
      "metadata": {
        "colab": {
          "base_uri": "https://localhost:8080/"
        },
        "id": "FaGSmxWiSKTY",
        "outputId": "98044e62-573e-4003-ff5d-d6490f9eaac8"
      },
      "execution_count": 3,
      "outputs": [
        {
          "output_type": "execute_result",
          "data": {
            "text/plain": [
              "8"
            ]
          },
          "metadata": {},
          "execution_count": 3
        }
      ]
    },
    {
      "cell_type": "code",
      "source": [
        "#test print\n",
        "l.print_list()"
      ],
      "metadata": {
        "colab": {
          "base_uri": "https://localhost:8080/"
        },
        "id": "IGhRrBdO9skR",
        "outputId": "c5b8f97b-d01c-46be-d8ca-a2990efc701c"
      },
      "execution_count": 4,
      "outputs": [
        {
          "output_type": "stream",
          "name": "stdout",
          "text": [
            "1\n",
            "2\n",
            "2\n",
            "3\n",
            "4\n",
            "4\n",
            "5\n",
            "6\n"
          ]
        }
      ]
    },
    {
      "cell_type": "code",
      "source": [
        "#test append\n",
        "l.append_after(l.head.next.next, 7)\n",
        "l.print_list()"
      ],
      "metadata": {
        "colab": {
          "base_uri": "https://localhost:8080/"
        },
        "id": "NPgaQxzohUFC",
        "outputId": "1514d7e8-f921-4163-f33d-da45d9a05ac5"
      },
      "execution_count": 5,
      "outputs": [
        {
          "output_type": "stream",
          "name": "stdout",
          "text": [
            "1\n",
            "2\n",
            "2\n",
            "7\n",
            "3\n",
            "4\n",
            "4\n",
            "5\n",
            "6\n"
          ]
        }
      ]
    },
    {
      "cell_type": "code",
      "source": [
        "l.prepend(l.head.next.next, 22)\n",
        "l.print_list()"
      ],
      "metadata": {
        "colab": {
          "base_uri": "https://localhost:8080/"
        },
        "id": "lhByWB38k6io",
        "outputId": "c8d6cc21-9225-4c98-bbd5-4b64d6506431"
      },
      "execution_count": 6,
      "outputs": [
        {
          "output_type": "stream",
          "name": "stdout",
          "text": [
            "1\n",
            "2\n",
            "22\n",
            "2\n",
            "7\n",
            "3\n",
            "4\n",
            "4\n",
            "5\n",
            "6\n"
          ]
        }
      ]
    },
    {
      "cell_type": "code",
      "source": [
        "#reverse test\n",
        "l.reverse_list()\n",
        "l.print_list()"
      ],
      "metadata": {
        "colab": {
          "base_uri": "https://localhost:8080/"
        },
        "id": "h1b1xztF7sVV",
        "outputId": "5488ea88-3fbf-4ce7-9c98-e8265103e3d4"
      },
      "execution_count": 7,
      "outputs": [
        {
          "output_type": "stream",
          "name": "stdout",
          "text": [
            "6\n",
            "5\n",
            "4\n",
            "4\n",
            "3\n",
            "7\n",
            "2\n",
            "22\n",
            "2\n",
            "1\n"
          ]
        }
      ]
    },
    {
      "cell_type": "code",
      "source": [
        "l.remove_duplicates()"
      ],
      "metadata": {
        "colab": {
          "base_uri": "https://localhost:8080/"
        },
        "id": "ihp-6k24GIco",
        "outputId": "fd3bdafb-23c3-4f31-df34-cccd4d9536b6"
      },
      "execution_count": 8,
      "outputs": [
        {
          "output_type": "stream",
          "name": "stdout",
          "text": [
            "{6: 1}\n",
            "{6: 1, 5: 1}\n",
            "{6: 1, 5: 1, 4: 1}\n",
            "{6: 1, 5: 1, 4: 1, 3: 1}\n",
            "{6: 1, 5: 1, 4: 1, 3: 1, 7: 1}\n",
            "{6: 1, 5: 1, 4: 1, 3: 1, 7: 1, 2: 1}\n",
            "{6: 1, 5: 1, 4: 1, 3: 1, 7: 1, 2: 1, 22: 1}\n",
            "{6: 1, 5: 1, 4: 1, 3: 1, 7: 1, 2: 1, 22: 1, 1: 1}\n"
          ]
        }
      ]
    },
    {
      "cell_type": "code",
      "source": [
        "l.print_list()"
      ],
      "metadata": {
        "id": "3kdY_SNc_MCB",
        "colab": {
          "base_uri": "https://localhost:8080/"
        },
        "outputId": "626271f6-6d29-4481-c2ed-3840e0dba814"
      },
      "execution_count": 9,
      "outputs": [
        {
          "output_type": "stream",
          "name": "stdout",
          "text": [
            "6\n",
            "5\n",
            "4\n",
            "3\n",
            "7\n",
            "2\n",
            "22\n",
            "1\n"
          ]
        }
      ]
    },
    {
      "cell_type": "code",
      "source": [
        "#test merge sorted method\n",
        "l2 = LinkedList()\n",
        "l2.append(10)\n",
        "l2.append(24)\n",
        "l2.append(27)\n",
        "l2.append(9)"
      ],
      "metadata": {
        "id": "yLYlCTlkcsHv"
      },
      "execution_count": 10,
      "outputs": []
    },
    {
      "cell_type": "code",
      "source": [
        "l2.print_list()"
      ],
      "metadata": {
        "id": "kwbowccs9feD",
        "colab": {
          "base_uri": "https://localhost:8080/"
        },
        "outputId": "f2f16fbb-3814-457f-fbd2-d014e0793c18"
      },
      "execution_count": 11,
      "outputs": [
        {
          "output_type": "stream",
          "name": "stdout",
          "text": [
            "10\n",
            "24\n",
            "27\n",
            "9\n"
          ]
        }
      ]
    },
    {
      "cell_type": "code",
      "source": [
        "l.print_list()"
      ],
      "metadata": {
        "colab": {
          "base_uri": "https://localhost:8080/"
        },
        "id": "-P1Ad2R0Z3cE",
        "outputId": "32791c6b-fad2-4460-dd39-2530f57d9134"
      },
      "execution_count": 12,
      "outputs": [
        {
          "output_type": "stream",
          "name": "stdout",
          "text": [
            "6\n",
            "5\n",
            "4\n",
            "3\n",
            "7\n",
            "2\n",
            "22\n",
            "1\n"
          ]
        }
      ]
    },
    {
      "cell_type": "code",
      "source": [
        "list1 = LinkedList()\n",
        "list1.append(2)\n",
        "list1.append(4)\n",
        "list1.append(5)\n",
        "list1.append(7)"
      ],
      "metadata": {
        "id": "uKCtf5ChbI7w"
      },
      "execution_count": 13,
      "outputs": []
    },
    {
      "cell_type": "code",
      "source": [
        "list2 = LinkedList()\n",
        "list2.append(1)\n",
        "list2.append(3)\n",
        "list2.append(6)\n",
        "list2.append(9)"
      ],
      "metadata": {
        "id": "uxFkdgzTbThr"
      },
      "execution_count": 14,
      "outputs": []
    },
    {
      "cell_type": "code",
      "source": [
        "list1.merge_sorted_list(list2)\n",
        "list1.print_list()"
      ],
      "metadata": {
        "colab": {
          "base_uri": "https://localhost:8080/"
        },
        "id": "K5QJh0knPL_H",
        "outputId": "ac82c126-e88f-40b1-da42-3c0f42c14d9f"
      },
      "execution_count": 15,
      "outputs": [
        {
          "output_type": "stream",
          "name": "stdout",
          "text": [
            "1\n",
            "2\n",
            "3\n",
            "4\n",
            "5\n",
            "6\n",
            "7\n",
            "9\n"
          ]
        }
      ]
    },
    {
      "cell_type": "code",
      "source": [
        "l.print_list()"
      ],
      "metadata": {
        "id": "R06XoJWm-vng",
        "colab": {
          "base_uri": "https://localhost:8080/"
        },
        "outputId": "33826572-11fd-4784-9c68-ebcb55130727"
      },
      "execution_count": 16,
      "outputs": [
        {
          "output_type": "stream",
          "name": "stdout",
          "text": [
            "6\n",
            "5\n",
            "4\n",
            "3\n",
            "7\n",
            "2\n",
            "22\n",
            "1\n"
          ]
        }
      ]
    },
    {
      "cell_type": "code",
      "source": [
        "l.delete_node_pos(3)\n",
        "l.print_list()"
      ],
      "metadata": {
        "colab": {
          "base_uri": "https://localhost:8080/"
        },
        "id": "JSTyZO5uyyWd",
        "outputId": "766f73cc-b73f-461a-a78f-32205ccb273e"
      },
      "execution_count": 17,
      "outputs": [
        {
          "output_type": "stream",
          "name": "stdout",
          "text": [
            "6\n",
            "5\n",
            "4\n",
            "7\n",
            "2\n",
            "22\n",
            "1\n"
          ]
        }
      ]
    },
    {
      "cell_type": "code",
      "source": [
        "l.delete_node_pos(0)\n",
        "l.print_list()\n",
        "print()\n",
        "print('Length:')\n",
        "l.len_()"
      ],
      "metadata": {
        "colab": {
          "base_uri": "https://localhost:8080/"
        },
        "id": "SWX8StBdzIIZ",
        "outputId": "ec9701fc-3fdd-4ffb-c875-eedec9b4e8fb"
      },
      "execution_count": 18,
      "outputs": [
        {
          "output_type": "stream",
          "name": "stdout",
          "text": [
            "5\n",
            "4\n",
            "7\n",
            "2\n",
            "22\n",
            "1\n",
            "\n",
            "Length:\n"
          ]
        },
        {
          "output_type": "execute_result",
          "data": {
            "text/plain": [
              "6"
            ]
          },
          "metadata": {},
          "execution_count": 18
        }
      ]
    },
    {
      "cell_type": "code",
      "source": [
        "l.delete_node_pos(4)\n",
        "l.print_list()"
      ],
      "metadata": {
        "colab": {
          "base_uri": "https://localhost:8080/"
        },
        "id": "pqA8PKJczseN",
        "outputId": "29f88a08-3bd5-4d49-9d63-443bcfd00109"
      },
      "execution_count": 19,
      "outputs": [
        {
          "output_type": "stream",
          "name": "stdout",
          "text": [
            "5\n",
            "4\n",
            "7\n",
            "2\n",
            "1\n"
          ]
        }
      ]
    },
    {
      "cell_type": "code",
      "source": [
        "l.delete_node_pos(6)"
      ],
      "metadata": {
        "colab": {
          "base_uri": "https://localhost:8080/",
          "height": 35
        },
        "id": "Ery_AZ2T1Qe6",
        "outputId": "63b765d0-3e65-4b74-81cf-25f8f5214cf2"
      },
      "execution_count": 20,
      "outputs": [
        {
          "output_type": "execute_result",
          "data": {
            "text/plain": [
              "'Position out of bounds'"
            ],
            "application/vnd.google.colaboratory.intrinsic+json": {
              "type": "string"
            }
          },
          "metadata": {},
          "execution_count": 20
        }
      ]
    },
    {
      "cell_type": "code",
      "source": [
        "l.print_list()"
      ],
      "metadata": {
        "colab": {
          "base_uri": "https://localhost:8080/"
        },
        "id": "MzS2gOwV44vq",
        "outputId": "69c97e7b-6867-4694-a8f7-629a13dbd38a"
      },
      "execution_count": 21,
      "outputs": [
        {
          "output_type": "stream",
          "name": "stdout",
          "text": [
            "5\n",
            "4\n",
            "7\n",
            "2\n",
            "1\n"
          ]
        }
      ]
    },
    {
      "cell_type": "code",
      "source": [
        "l.delete_node_data(4)\n",
        "l.print_list()"
      ],
      "metadata": {
        "colab": {
          "base_uri": "https://localhost:8080/"
        },
        "id": "XYVeKhmP45dW",
        "outputId": "7c023ee4-8444-43a1-bed3-5efd297dc218"
      },
      "execution_count": 22,
      "outputs": [
        {
          "output_type": "stream",
          "name": "stdout",
          "text": [
            "5\n",
            "7\n",
            "2\n",
            "1\n"
          ]
        }
      ]
    },
    {
      "cell_type": "code",
      "source": [
        "l.delete_node_data(5)\n",
        "l.print_list()"
      ],
      "metadata": {
        "colab": {
          "base_uri": "https://localhost:8080/"
        },
        "id": "5KytPahe5gnn",
        "outputId": "85d06358-5d57-4cb7-818c-5675f154b112"
      },
      "execution_count": 23,
      "outputs": [
        {
          "output_type": "stream",
          "name": "stdout",
          "text": [
            "7\n",
            "2\n",
            "1\n"
          ]
        }
      ]
    },
    {
      "cell_type": "code",
      "source": [
        "l.delete_node_data(2)\n",
        "l.print_list()"
      ],
      "metadata": {
        "colab": {
          "base_uri": "https://localhost:8080/"
        },
        "id": "RI9LN1CA5y_h",
        "outputId": "409ebc96-db28-46b1-e59d-77e8574440fc"
      },
      "execution_count": 24,
      "outputs": [
        {
          "output_type": "stream",
          "name": "stdout",
          "text": [
            "7\n",
            "1\n"
          ]
        }
      ]
    }
  ]
}