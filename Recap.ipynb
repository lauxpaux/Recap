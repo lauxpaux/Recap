{
  "cells": [
    {
      "cell_type": "markdown",
      "metadata": {
        "id": "view-in-github",
        "colab_type": "text"
      },
      "source": [
        "<a href=\"https://colab.research.google.com/github/lauxpaux/Recap/blob/main/Recap.ipynb\" target=\"_parent\"><img src=\"https://colab.research.google.com/assets/colab-badge.svg\" alt=\"Open In Colab\"/></a>"
      ]
    },
    {
      "cell_type": "markdown",
      "metadata": {
        "id": "j9Pj-ufqC7q5"
      },
      "source": [
        "# Data Structures Study "
      ]
    },
    {
      "cell_type": "markdown",
      "metadata": {
        "id": "gHMyIv_QzJvI"
      },
      "source": [
        "Implementing a stack "
      ]
    },
    {
      "cell_type": "code",
      "execution_count": 1,
      "metadata": {
        "colab": {
          "base_uri": "https://localhost:8080/"
        },
        "id": "KM2t9jk7y_bp",
        "outputId": "7248087b-0ec5-4b9a-bc42-5603a1ffa53c"
      },
      "outputs": [
        {
          "output_type": "stream",
          "name": "stdout",
          "text": [
            "[1]\n",
            "False\n",
            "[1, 4, 5]\n",
            "1\n",
            "[1]\n",
            "True\n"
          ]
        }
      ],
      "source": [
        "class Stack():\n",
        "    def __init__(self):\n",
        "        #creating an empty stack to start the stack\n",
        "        self.items = []\n",
        "    \n",
        "    def push(self, item):\n",
        "        #adding to the stack \n",
        "        self.items.append(item)\n",
        "        \n",
        "    def pop(self):\n",
        "        #removing top element \n",
        "        self.items.pop()\n",
        "        \n",
        "    def is_empty(self):\n",
        "        return self.items == []\n",
        "    \n",
        "    def peek(self):\n",
        "        #looking at item on top of stack \n",
        "        if not self.is_empty():\n",
        "            return self.items[-1]\n",
        "    \n",
        "    def getStack(self):\n",
        "        print(self.items)\n",
        "            \n",
        "    \n",
        "    \n",
        "myStack = Stack()\n",
        "myStack.push(1)\n",
        "myStack.push(2)\n",
        "myStack.pop()\n",
        "myStack.getStack()\n",
        "myStack.push(4)\n",
        "myStack.push(5)\n",
        "print(myStack.is_empty())\n",
        "myStack.peek()\n",
        "myStack.getStack()\n",
        "myStack.pop()\n",
        "myStack.pop()\n",
        "print(myStack.peek())\n",
        "myStack.getStack()\n",
        "myStack.pop()\n",
        "print(myStack.is_empty())\n",
        "\n",
        "        "
      ]
    },
    {
      "cell_type": "markdown",
      "metadata": {
        "id": "4V9k7HMJCyEa"
      },
      "source": [
        "Solving Problems with stack: \n",
        "1) Convert decimal to binary "
      ]
    },
    {
      "cell_type": "code",
      "execution_count": 2,
      "metadata": {
        "id": "OH2B7snH2Hen"
      },
      "outputs": [],
      "source": [
        "def dec_to_bin(num):\n",
        "  s = Stack()\n",
        "  binStr = \"\"\n",
        "\n",
        "  while num > 0:\n",
        "    remainder = num % 2 \n",
        "    s.push(remainder)\n",
        "    num = num // 2 \n",
        "\n",
        "  while not s.is_empty():\n",
        "    binStr += str(s.items.pop())    \n",
        "\n",
        "  return binStr"
      ]
    },
    {
      "cell_type": "code",
      "execution_count": 3,
      "metadata": {
        "colab": {
          "base_uri": "https://localhost:8080/"
        },
        "id": "CuPXDwIC_4TK",
        "outputId": "787c8794-0ae2-45b0-a855-0bdd7e063a56"
      },
      "outputs": [
        {
          "output_type": "stream",
          "name": "stdout",
          "text": [
            "1100100\n"
          ]
        }
      ],
      "source": [
        "print(dec_to_bin(100))"
      ]
    },
    {
      "cell_type": "code",
      "execution_count": 4,
      "metadata": {
        "id": "iRne7TekDcfI"
      },
      "outputs": [],
      "source": [
        "# Reversing a string\n",
        "def reverse_string(givenStr):\n",
        "  stack = Stack()\n",
        "  eStr = \"\"\n",
        "\n",
        "  for s in givenStr:\n",
        "    stack.push(s)\n",
        "  while not stack.is_empty():\n",
        "    eStr += str(stack.items.pop())\n",
        "  return eStr\n",
        "    \n",
        "\n"
      ]
    },
    {
      "cell_type": "code",
      "execution_count": 5,
      "metadata": {
        "colab": {
          "base_uri": "https://localhost:8080/",
          "height": 35
        },
        "id": "4iyejs2YEDH1",
        "outputId": "b43e1a16-5ce8-4ae1-c2a0-a61772a25c93"
      },
      "outputs": [
        {
          "output_type": "execute_result",
          "data": {
            "text/plain": [
              "'nuf si gninraeL'"
            ],
            "application/vnd.google.colaboratory.intrinsic+json": {
              "type": "string"
            }
          },
          "metadata": {},
          "execution_count": 5
        }
      ],
      "source": [
        "reverse_string(\"Learning is fun\")"
      ]
    },
    {
      "cell_type": "markdown",
      "metadata": {
        "id": "MWf7_gdZNaoO"
      },
      "source": [
        "Stack practice "
      ]
    },
    {
      "cell_type": "code",
      "execution_count": 6,
      "metadata": {
        "id": "CkskyaHXNZ02"
      },
      "outputs": [],
      "source": [
        "class Stack2():\n",
        "  def __init__(self):\n",
        "    self.items = []\n",
        "\n",
        "  def push2(self, data):\n",
        "    self.items.append(data)\n",
        "  \n",
        "  def pop2(self):\n",
        "    self.items.pop()\n",
        "    \n",
        "  def isEmpty2(self):\n",
        "    return self.items == []\n",
        "\n",
        "  def peek2(self):\n",
        "    if not self.isEmpty2():\n",
        "      return self.items[-1]\n",
        "  \n",
        "  def getStack2(self):\n",
        "    print(self.items)\n",
        "    "
      ]
    },
    {
      "cell_type": "code",
      "execution_count": 7,
      "metadata": {
        "colab": {
          "base_uri": "https://localhost:8080/"
        },
        "id": "TBNFsEPvSTC9",
        "outputId": "bd349fa0-596d-43e0-f36e-2bed4f75dd63"
      },
      "outputs": [
        {
          "output_type": "stream",
          "name": "stdout",
          "text": [
            "[1, 2, 3]\n",
            "\n",
            "2\n"
          ]
        },
        {
          "output_type": "execute_result",
          "data": {
            "text/plain": [
              "False"
            ]
          },
          "metadata": {},
          "execution_count": 7
        }
      ],
      "source": [
        "stk = Stack2()\n",
        "stk.push2(1)\n",
        "stk.push2(2)\n",
        "stk.push2(3)\n",
        "stk.getStack2()\n",
        "print()\n",
        "stk.pop2()\n",
        "print(stk.peek2())\n",
        "stk.isEmpty2()"
      ]
    },
    {
      "cell_type": "markdown",
      "metadata": {
        "id": "0e8XqWBebDsw"
      },
      "source": [
        "Implementing Linked Lists "
      ]
    },
    {
      "cell_type": "code",
      "execution_count": 8,
      "metadata": {
        "id": "t81xNOQZbC2x"
      },
      "outputs": [],
      "source": [
        "class Node():\n",
        "  def __init__(self, data):\n",
        "    self.data = data\n",
        "    self.next = None \n",
        "\n",
        "class LinkedList():\n",
        "  def __init__(self):\n",
        "    self.head = None \n",
        "\n",
        "  #printing linked list\n",
        "  def printLL(self):\n",
        "    cur_node = self.head\n",
        "    while cur_node:\n",
        "      print(cur_node.data)\n",
        "      cur_node = cur_node.next \n",
        "\n",
        "  #appending to linked list\n",
        "  def append(self, data):\n",
        "    new_node = Node(data)\n",
        "\n",
        "    #case: if linked list is empty, append node as the head \n",
        "    if self.head is None:\n",
        "      self.head = new_node\n",
        "      return \n",
        "    #case: if linked list is not empty, append the node at the end of the linked list\n",
        "    last_node = self.head \n",
        "    while last_node.next:\n",
        "      last_node = last_node.next\n",
        "    last_node.next = new_node   \n",
        "\n",
        "  #prepending \n",
        "  def prepend(self, data):\n",
        "    new_node = Node(data)\n",
        "\n",
        "    if self.head is None:\n",
        "      self.head = new_node\n",
        "      return \n",
        "\n",
        "    #case: adding it as head node\n",
        "    if self.head:\n",
        "      new_node.next = self.head\n",
        "      self.head = new_node\n",
        "  \n",
        "  #appending after specific node \n",
        "  def append_after(self, node_data, data):\n",
        "    if not node_data: \n",
        "      print(\"Node not found in list.\")\n",
        "      return\n",
        "    new_node = Node(data)\n",
        "  \n",
        "    new_node.next = node_data.next \n",
        "    node_data.next = new_node\n",
        "\n",
        "\n",
        "#DELETION\n",
        " \n",
        "  def del_node(self, node_data):\n",
        "\n",
        "    cur_node = self.head \n",
        "\n",
        "    #deleting head node \n",
        "    if cur_node and cur_node.data == node_data: \n",
        "      self.head = cur_node.next \n",
        "      cur_node = None\n",
        "      return \n",
        "\n",
        "    #deleting nodes other than the head\n",
        "    prev = None\n",
        "    while cur_node and cur_node.data != node_data:\n",
        "      prev = cur_node\n",
        "      cur_node = cur_node.next \n",
        "    \n",
        "    if cur_node is None:\n",
        "      print(\"Node data not found\")\n",
        "      return \n",
        "\n",
        "    prev.next = cur_node.next \n",
        "    cur_node = None \n",
        "  \n",
        "\n",
        "  #deleting node based on position\n",
        "  def delete_node_at_pos(self, pos):\n",
        "    if self.head: \n",
        "      cur_node  = self.head\n",
        "      if pos == 0:\n",
        "        cur_node = cur_node.next\n",
        "        cur_node = None \n",
        "        return\n",
        "\n",
        "      #handling the case where pos is not at position 0\n",
        "      prev = None\n",
        "      count = 0 \n",
        "      while cur_node and count != pos: \n",
        "        prev = cur_node\n",
        "        cur_node = cur_node.next\n",
        "        count += 1 \n",
        "      \n",
        "      #if pos is not found\n",
        "      if cur_node is None:\n",
        "        return \n",
        "\n",
        "      prev.next = cur_node.next\n",
        "      cur_node = None \n",
        "\n",
        "  #get the length of a linked list\n",
        "  def len_iter(self):\n",
        "    len = 0 \n",
        "    cur_node = self.head\n",
        "    while cur_node:\n",
        "      len += 1\n",
        "      cur_node = cur_node.next \n",
        "    return len\n",
        "\n",
        "  def len_recur(self, node):\n",
        "    if node is None:\n",
        "      return 0\n",
        "    return 1 + self.len_recur(node.next)\n",
        "\n",
        "  #swap nodes in linked list:\n",
        "  def swap_nodes(self, key_1, key_2):\n",
        "\n",
        "    #PROBLEM1: ARE THE KEYS THE SAME? \n",
        "    if key_1 == key_2:\n",
        "      return\n",
        "\n",
        "    #PROBLEM 2: HOW DO WE FIND THE KEYS? \n",
        "    #THIS IS HANDLING THE CASE WHERE THE KEYS ARE NOT YET FOUND \n",
        "    prev = None\n",
        "    curr_1 = self.head\n",
        "    while curr_1 and curr_1.data != key_1:\n",
        "      prev_1 = curr_1\n",
        "      curr_1 = curr_1.next\n",
        "\n",
        "    prev_2 = None\n",
        "    curr_2 = self.head \n",
        "    while curr_2 and curr_2.data != key_2:\n",
        "      prev_2 = curr_2\n",
        "      curr_2 = curr_2.next \n",
        "    \n",
        "    #PROBLEM 3: WHAT IF THE KEYS DON'T EXIST?\n",
        "    #if neither of the keys exists \n",
        "    if not curr_1 or not curr_2:\n",
        "      return\n",
        "\n",
        "    #PROBLEM 4: WHAT DO WE DO WHEN THE KEYS ARE FOUND?  \n",
        "    #case: swapping nodes at head position, we check if the prev_1 and prev_2 values are not equal to None. If they\n",
        "    #are not equal to None (!=None) it implies that there is prev value and the node is not head \n",
        "    if prev_1:\n",
        "      prev_1.next = curr_2\n",
        "    else:\n",
        "      self.head = curr_2\n",
        "\n",
        "    if prev_2:\n",
        "      prev_2.next = curr_1\n",
        "    else:\n",
        "      self.head = curr_1 \n",
        "\n",
        "    #FINALLY, HANDLE THE CASE OF SWAPPING THE NODES \n",
        "    curr_1.next, curr_2.next = curr_2.next, curr_1.next \n",
        "\n",
        "   \n",
        "  def reverse_llist(self):\n",
        "    prev = None\n",
        "    cur_node = self.head\n",
        "    while cur_node:\n",
        "      next = cur_node.next\n",
        "      cur_node.next = prev\n",
        "      prev = cur_node\n",
        "      cur_node = next \n",
        "    self.head = prev \n",
        "\n",
        "  def reverse_recursive(self):\n",
        "\n",
        "    def _reverse_recur(cur_node, prev):\n",
        "      if not cur_node:\n",
        "        return prev\n",
        "      \n",
        "      next = cur_node.next\n",
        "      cur_node.next = prev\n",
        "      prev = cur_node\n",
        "      cur_node = next\n",
        "      return _reverse_recur(cur_node, prev)\n",
        "\n",
        "    self.head = _reverse_recur(cur_node=self.head, prev=None)\n",
        "\n",
        "  def merge_sorted(self,llist):\n",
        "    list_a = self.head #starts home list \n",
        "    list_b = llist.head #second list to be assigned \n",
        "    new_list_pointer = None #pointer that reorder list\n",
        "\n",
        "    #case where missing list a or list b \n",
        "    if not list_a:\n",
        "      return list_b\n",
        "    if not list_b:\n",
        "      return list_a\n",
        "\n",
        "    if list_a and list_b:\n",
        "      if list_a.data <= list_b.data:\n",
        "        new_list_pointer = list_a\n",
        "        list_a = new_list_pointer.next \n",
        "      else:\n",
        "        new_list_pointer = list_b\n",
        "        list_b = new_list_pointer.next \n",
        "      new_head = new_list_pointer \n",
        "      \n",
        "    while list_a and list_b:\n",
        "      if list_a.data <= list_b.data:\n",
        "        new_list_pointer.next = list_a\n",
        "        new_list_pointer = list_a\n",
        "        list_a = new_list_pointer.next \n",
        "      else:\n",
        "        new_list_pointer.next = list_b \n",
        "        new_list_pointer = list_b\n",
        "        list_b = new_list_pointer.next\n",
        "\n",
        "    if not list_a:\n",
        "      new_list_pointer.next = list_b\n",
        "    if not list_b:\n",
        "      new_list_pointer.next = list_a\n",
        "    \n",
        "    self.head = new_head \n",
        "    return self.head \n",
        "\n",
        "\n",
        "  def remove_duplicate(self, llist):\n",
        "    cur = self.head\n",
        "    prev = None\n",
        "    dup_items = dict()\n",
        "\n",
        "    while cur:\n",
        "      if cur.data in dup_items:\n",
        "        prev.next = cur.next\n",
        "        cur = None \n",
        "      else:\n",
        "        if cur.data not in dup_items:\n",
        "          dup_items[cur.data] = 1\n",
        "          prev = cur\n",
        "      cur = prev.next \n",
        "\n",
        "  def reverse_list2(self):\n",
        "    prev = None\n",
        "    cur = self.head\n",
        "    while cur:\n",
        "      nixt = cur.next\n",
        "      prev = cur.next \n",
        "      # cur.next = prev \n",
        "      cur = prev\n",
        "      # prev = cur \n",
        "      cur = nixt\n",
        "    self.head = prev \n",
        "\n",
        "        \n",
        "  def nth_to_last(self, n, method):\n",
        "    if method == 1: \n",
        "      total_len = self.len_iter()\n",
        "      cur = self.head\n",
        "      while cur:\n",
        "        if total_len == n:\n",
        "          #print(cur.data)\n",
        "          return cur.data\n",
        "        total_len -= 1\n",
        "        cur = cur.next\n",
        "      if cur is None:\n",
        "        return \n",
        "    if method == 2: \n",
        "      p = self.head\n",
        "      q = self.head \n",
        "      count = 0 \n",
        "      while q:\n",
        "        count += 1\n",
        "        if (count>= n):\n",
        "          break\n",
        "        q = q.next \n",
        "      if not q:\n",
        "        return \"Value exceeds list\"\n",
        "      while p and q.next:\n",
        "        p = p.next\n",
        "        q = q.next \n",
        "      return p.data \n",
        "    else:\n",
        "      return None  \n",
        "\n",
        "\n",
        "  def rotate_list(self, pivot):\n",
        "    if self.head and self.head.next: \n",
        "      p = self.head\n",
        "      q = self.head\n",
        "      prev = None\n",
        "      count = 0 \n",
        "\n",
        "      while p and (count < pivot):\n",
        "        prev = p\n",
        "        p = p.next\n",
        "        q = q.next\n",
        "        count += 1 \n",
        "      p = prev\n",
        "      while q: \n",
        "        prev = q\n",
        "        q = q.next\n",
        "      q = prev\n",
        "\n",
        "      q.next = self.head\n",
        "      self.head = p.next\n",
        "      p.next = None \n",
        "\n",
        "\n",
        "\n",
        "\n",
        "\n"
      ]
    },
    {
      "cell_type": "markdown",
      "source": [
        "# Testing"
      ],
      "metadata": {
        "id": "kV0w-eS3s-Zy"
      }
    },
    {
      "cell_type": "code",
      "source": [
        "l = LinkedList()\n",
        "l.append(1)\n",
        "l.append(2)\n",
        "l.append(3)\n",
        "l.append(4)\n",
        "l.append(5)\n",
        "l.append(6)\n",
        "l.printLL()"
      ],
      "metadata": {
        "colab": {
          "base_uri": "https://localhost:8080/"
        },
        "id": "Vn0v9MMbs9oj",
        "outputId": "9ecd2259-0d94-4f7d-c3e6-9459d131d1e3"
      },
      "execution_count": 9,
      "outputs": [
        {
          "output_type": "stream",
          "name": "stdout",
          "text": [
            "1\n",
            "2\n",
            "3\n",
            "4\n",
            "5\n",
            "6\n"
          ]
        }
      ]
    },
    {
      "cell_type": "code",
      "source": [
        "l.nth_to_last(9, 2)"
      ],
      "metadata": {
        "colab": {
          "base_uri": "https://localhost:8080/",
          "height": 35
        },
        "id": "kV7ttG3hs9iz",
        "outputId": "415ec8f8-4d21-44db-f560-2c634d02c4ec"
      },
      "execution_count": 10,
      "outputs": [
        {
          "output_type": "execute_result",
          "data": {
            "text/plain": [
              "'Value exceeds list'"
            ],
            "application/vnd.google.colaboratory.intrinsic+json": {
              "type": "string"
            }
          },
          "metadata": {},
          "execution_count": 10
        }
      ]
    },
    {
      "cell_type": "code",
      "source": [
        " l.rotate_list(1)\n",
        " l.printLL()"
      ],
      "metadata": {
        "colab": {
          "base_uri": "https://localhost:8080/"
        },
        "id": "ZCvmk1tvs9fc",
        "outputId": "d8030982-47a4-4266-fc2a-2e9f67d28153"
      },
      "execution_count": 11,
      "outputs": [
        {
          "output_type": "stream",
          "name": "stdout",
          "text": [
            "2\n",
            "3\n",
            "4\n",
            "5\n",
            "6\n",
            "1\n"
          ]
        }
      ]
    },
    {
      "cell_type": "code",
      "source": [],
      "metadata": {
        "id": "fFIuGgOws9cE"
      },
      "execution_count": 11,
      "outputs": []
    },
    {
      "cell_type": "code",
      "source": [],
      "metadata": {
        "id": "g24SJV8Is9Yc"
      },
      "execution_count": 11,
      "outputs": []
    },
    {
      "cell_type": "code",
      "source": [],
      "metadata": {
        "id": "GnHmSJQ0s9Tc"
      },
      "execution_count": 11,
      "outputs": []
    },
    {
      "cell_type": "code",
      "source": [],
      "metadata": {
        "id": "miUPdo6zs9MB"
      },
      "execution_count": 11,
      "outputs": []
    }
  ],
  "metadata": {
    "colab": {
      "collapsed_sections": [],
      "provenance": [],
      "authorship_tag": "ABX9TyP4ljV8sa0td7/olo1Qa8rc",
      "include_colab_link": true
    },
    "kernelspec": {
      "display_name": "Python 3",
      "name": "python3"
    },
    "language_info": {
      "name": "python"
    }
  },
  "nbformat": 4,
  "nbformat_minor": 0
}