{
  "nbformat": 4,
  "nbformat_minor": 0,
  "metadata": {
    "colab": {
      "provenance": [],
      "collapsed_sections": [],
      "authorship_tag": "ABX9TyPvDhJO0yxsJKltdjKW/5do",
      "include_colab_link": true
    },
    "kernelspec": {
      "name": "python3",
      "display_name": "Python 3"
    },
    "language_info": {
      "name": "python"
    }
  },
  "cells": [
    {
      "cell_type": "markdown",
      "metadata": {
        "id": "view-in-github",
        "colab_type": "text"
      },
      "source": [
        "<a href=\"https://colab.research.google.com/github/lauxpaux/Recap/blob/review_quiz/AlgoStudyDraft2.ipynb\" target=\"_parent\"><img src=\"https://colab.research.google.com/assets/colab-badge.svg\" alt=\"Open In Colab\"/></a>"
      ]
    },
    {
      "cell_type": "markdown",
      "source": [
        "Lists"
      ],
      "metadata": {
        "id": "Qr7-_mEM6YtM"
      }
    },
    {
      "cell_type": "code",
      "execution_count": 1,
      "metadata": {
        "id": "E-VDoHSR6T0D"
      },
      "outputs": [],
      "source": [
        "class Node():\n",
        "  def __init__(self, data):\n",
        "    self.data = data\n",
        "    self.next = None \n",
        "\n",
        "class LinkedList():\n",
        "  def __init__(self):\n",
        "    self.head = None\n",
        "\n",
        "################################\n",
        "  def print_list(self):\n",
        "    cur = self.head\n",
        "    while cur:\n",
        "      print(cur.data)\n",
        "      cur = cur.next    \n",
        "\n",
        "################################\n",
        "  def append(self, data):\n",
        "    new_node = Node(data)\n",
        "    if self.head is None:\n",
        "      self.head = new_node\n",
        "      return\n",
        "    cur = self.head\n",
        "    while cur.next:\n",
        "      cur = cur.next\n",
        "    cur.next = new_node\n",
        "\n",
        "#################################\n",
        "  def append_after(self, node_data, data):\n",
        "    new_node = Node(data)\n",
        "    if not node_data:\n",
        "      return \"Node not found\"   \n",
        "    new_node.next = node_data.next\n",
        "    node_data.next = new_node    \n",
        "\n",
        "#################################\n",
        "  def prepend(self, node_data, data):\n",
        "    new_node = Node(data)\n",
        "    if not node_data:\n",
        "      return \"Node not found\"\n",
        "    if node_data is self.head:\n",
        "      new_node.next = self.head\n",
        "      self.head = new_node\n",
        "      return\n",
        "    cur = self.head\n",
        "    if cur.next != node_data:\n",
        "      cur = cur.next\n",
        "    new_node.next = cur.next\n",
        "    cur.next = new_node   \n",
        "\n",
        "#################################\n",
        "  def delete_node_pos(self, pos):\n",
        "    if self.head:\n",
        "      cur = self.head\n",
        "      if pos == 0:\n",
        "        self.head = cur.next\n",
        "        cur = None \n",
        "        return\n",
        "    count = 0\n",
        "    prev = None\n",
        "    while cur and count != pos:\n",
        "      prev = cur\n",
        "      cur = cur.next\n",
        "      count += 1\n",
        "    if cur is None:\n",
        "      return \"Position out of bounds\"  \n",
        "    prev.next = cur.next\n",
        "    cur = None\n",
        " \n",
        "#################################\n",
        "  def delete_node_data(self, data):\n",
        "    if self.head:\n",
        "      cur = self.head\n",
        "      if cur.data == data:\n",
        "        self.head = cur.next\n",
        "        cur = None\n",
        "        return \n",
        "    prev = None\n",
        "    while cur and cur.data != data:\n",
        "      prev = cur\n",
        "      cur = cur.next\n",
        "    if cur is None:\n",
        "      return\n",
        "    prev.next = cur.next\n",
        "    cur = None\n",
        "\n",
        "################################\n",
        "  def len_(self):\n",
        "    cur = self.head\n",
        "    count = 0\n",
        "    if self.head is None:\n",
        "      return \"Empty list\"\n",
        "    while cur:\n",
        "      count += 1\n",
        "      cur = cur.next\n",
        "    return count\n",
        "      \n",
        "################################\n",
        "  ####STUDY####\n",
        "  def reverse_list(self): \n",
        "    cur = self.head\n",
        "    prev = None\n",
        "    while cur:\n",
        "      nxt = cur.next\n",
        "      cur.next = prev\n",
        "      prev = cur\n",
        "      cur = nxt\n",
        "    self.head = prev\n",
        "    return \n",
        "\n",
        "\n",
        "################################\n",
        "  #merge two sorted list \n",
        "  def merge_sorted_list(self, llist): \n",
        "    list_a = self.head\n",
        "    list_b = llist.head\n",
        "    smallest_val = None\n",
        "    if not list_a:\n",
        "      return list_b\n",
        "    if not list_b:\n",
        "      return list_a\n",
        "    if list_a and list_b:\n",
        "      if list_a.data <= list_b.data:\n",
        "        smallest_val = list_a\n",
        "        list_a = smallest_val.next    \n",
        "      else:\n",
        "        smallest_val = list_b\n",
        "        list_b = smallest_val.next \n",
        "      new_head = smallest_val\n",
        "    while list_a and list_b:\n",
        "      if list_a.data <= list_b.data:\n",
        "        smallest_val.next = list_a\n",
        "        smallest_val = list_a\n",
        "        list_a = smallest_val.next \n",
        "      else:\n",
        "        smallest_val.next = list_b\n",
        "        smallest_val = list_b\n",
        "        list_b = smallest_val.next \n",
        "    if not list_a:\n",
        "      smallest_val.next = list_b\n",
        "    if not list_b:\n",
        "      smallest_val.next = list_a\n",
        "    self.head = new_head\n",
        "    return self.head \n",
        "\n",
        "################################\n",
        "  def swap_nodes(self, node1, node2):\n",
        "   \n",
        "  \n",
        "\n",
        "    if node1 == node2:\n",
        "      return \n",
        "\n",
        "    cur = self.head\n",
        "    prev = None\n",
        "    while cur and cur.data != node1:\n",
        "      prev = cur\n",
        "      cur = cur.next\n",
        "\n",
        "    cur2 = self.head\n",
        "    prev2 = None\n",
        "    while cur2 and cur2.data != node2:\n",
        "      prev2 = cur2\n",
        "      cur2 = cur2.next\n",
        "\n",
        "    if not node1 or not node2:\n",
        "        return \n",
        "\n",
        "    if prev:\n",
        "      prev.next = cur2\n",
        "    else:\n",
        "      self.head = cur2\n",
        "    \n",
        "    if prev2:\n",
        "      prev2.next = cur\n",
        "    else:\n",
        "      self.head = cur\n",
        "\n",
        "    cur.next, cur2.next = cur2.next, cur.next \n",
        "\n",
        "   \n",
        "\n",
        "\n",
        "\n",
        "\n",
        "      \n",
        "\n",
        "\n",
        "    \n",
        "\n",
        "    \n",
        "\n",
        "\n",
        "\n",
        "\n",
        "################################\n",
        "  def remove_duplicates(self):\n",
        "    cur = self.head\n",
        "    prev = None \n",
        "    duplicates = dict()\n",
        "    while cur:\n",
        "      if cur.data in duplicates:\n",
        "        prev.next = cur.next\n",
        "        cur = None   \n",
        "      else:\n",
        "        duplicates[cur.data] = 1\n",
        "        print(duplicates)\n",
        "        prev = cur \n",
        "      cur = prev.next\n",
        "################################\n",
        "\n"
      ]
    },
    {
      "cell_type": "code",
      "source": [
        "#test append\n",
        "l = LinkedList()\n",
        "l.append(1)\n",
        "l.append(2)\n",
        "l.append(2)\n",
        "l.append(3)\n",
        "l.append(4)\n",
        "l.append(4)\n",
        "l.append(5)\n",
        "l.append(6)\n"
      ],
      "metadata": {
        "id": "y_BNzaNW9lEH"
      },
      "execution_count": 2,
      "outputs": []
    },
    {
      "cell_type": "code",
      "source": [
        "#length test\n",
        "l.len_()"
      ],
      "metadata": {
        "colab": {
          "base_uri": "https://localhost:8080/"
        },
        "id": "FaGSmxWiSKTY",
        "outputId": "75d656e9-ea45-4820-ac22-6e1e75d67229"
      },
      "execution_count": 3,
      "outputs": [
        {
          "output_type": "execute_result",
          "data": {
            "text/plain": [
              "8"
            ]
          },
          "metadata": {},
          "execution_count": 3
        }
      ]
    },
    {
      "cell_type": "code",
      "source": [
        "#test print\n",
        "l.print_list()"
      ],
      "metadata": {
        "colab": {
          "base_uri": "https://localhost:8080/"
        },
        "id": "IGhRrBdO9skR",
        "outputId": "7d81cc81-88eb-4388-a8e2-b146d2feed79"
      },
      "execution_count": 4,
      "outputs": [
        {
          "output_type": "stream",
          "name": "stdout",
          "text": [
            "1\n",
            "2\n",
            "2\n",
            "3\n",
            "4\n",
            "4\n",
            "5\n",
            "6\n"
          ]
        }
      ]
    },
    {
      "cell_type": "code",
      "source": [
        "#test append\n",
        "l.append_after(l.head.next.next, 7)\n",
        "l.print_list()"
      ],
      "metadata": {
        "colab": {
          "base_uri": "https://localhost:8080/"
        },
        "id": "NPgaQxzohUFC",
        "outputId": "0ffdde1f-4be1-40bd-b5fc-85c2a23e8133"
      },
      "execution_count": 5,
      "outputs": [
        {
          "output_type": "stream",
          "name": "stdout",
          "text": [
            "1\n",
            "2\n",
            "2\n",
            "7\n",
            "3\n",
            "4\n",
            "4\n",
            "5\n",
            "6\n"
          ]
        }
      ]
    },
    {
      "cell_type": "code",
      "source": [
        "l.prepend(l.head.next.next, 22)\n",
        "l.print_list()"
      ],
      "metadata": {
        "colab": {
          "base_uri": "https://localhost:8080/"
        },
        "id": "lhByWB38k6io",
        "outputId": "e952975b-b794-403e-c244-188cdfaf9d52"
      },
      "execution_count": 6,
      "outputs": [
        {
          "output_type": "stream",
          "name": "stdout",
          "text": [
            "1\n",
            "2\n",
            "22\n",
            "2\n",
            "7\n",
            "3\n",
            "4\n",
            "4\n",
            "5\n",
            "6\n"
          ]
        }
      ]
    },
    {
      "cell_type": "code",
      "source": [
        "#reverse test\n",
        "l.reverse_list()\n",
        "l.print_list()"
      ],
      "metadata": {
        "colab": {
          "base_uri": "https://localhost:8080/"
        },
        "id": "h1b1xztF7sVV",
        "outputId": "6811ce1f-3b05-4eb2-a7df-b7621c12e4d4"
      },
      "execution_count": 7,
      "outputs": [
        {
          "output_type": "stream",
          "name": "stdout",
          "text": [
            "6\n",
            "5\n",
            "4\n",
            "4\n",
            "3\n",
            "7\n",
            "2\n",
            "22\n",
            "2\n",
            "1\n"
          ]
        }
      ]
    },
    {
      "cell_type": "code",
      "source": [
        "l.remove_duplicates()"
      ],
      "metadata": {
        "colab": {
          "base_uri": "https://localhost:8080/"
        },
        "id": "ihp-6k24GIco",
        "outputId": "d717864c-32dd-41d8-beac-ceab25e521e2"
      },
      "execution_count": 8,
      "outputs": [
        {
          "output_type": "stream",
          "name": "stdout",
          "text": [
            "{6: 1}\n",
            "{6: 1, 5: 1}\n",
            "{6: 1, 5: 1, 4: 1}\n",
            "{6: 1, 5: 1, 4: 1, 3: 1}\n",
            "{6: 1, 5: 1, 4: 1, 3: 1, 7: 1}\n",
            "{6: 1, 5: 1, 4: 1, 3: 1, 7: 1, 2: 1}\n",
            "{6: 1, 5: 1, 4: 1, 3: 1, 7: 1, 2: 1, 22: 1}\n",
            "{6: 1, 5: 1, 4: 1, 3: 1, 7: 1, 2: 1, 22: 1, 1: 1}\n"
          ]
        }
      ]
    },
    {
      "cell_type": "code",
      "source": [
        "l.print_list()"
      ],
      "metadata": {
        "id": "3kdY_SNc_MCB",
        "colab": {
          "base_uri": "https://localhost:8080/"
        },
        "outputId": "61a8f023-c72b-4313-c420-49ef5e14ac39"
      },
      "execution_count": 9,
      "outputs": [
        {
          "output_type": "stream",
          "name": "stdout",
          "text": [
            "6\n",
            "5\n",
            "4\n",
            "3\n",
            "7\n",
            "2\n",
            "22\n",
            "1\n"
          ]
        }
      ]
    },
    {
      "cell_type": "code",
      "source": [
        "#test merge sorted method\n",
        "l2 = LinkedList()\n",
        "l2.append(10)\n",
        "l2.append(24)\n",
        "l2.append(27)\n",
        "l2.append(9)"
      ],
      "metadata": {
        "id": "yLYlCTlkcsHv"
      },
      "execution_count": 10,
      "outputs": []
    },
    {
      "cell_type": "code",
      "source": [
        "l2.print_list()"
      ],
      "metadata": {
        "id": "kwbowccs9feD",
        "colab": {
          "base_uri": "https://localhost:8080/"
        },
        "outputId": "971fcfaa-81b0-48bf-8460-33af62ace100"
      },
      "execution_count": 11,
      "outputs": [
        {
          "output_type": "stream",
          "name": "stdout",
          "text": [
            "10\n",
            "24\n",
            "27\n",
            "9\n"
          ]
        }
      ]
    },
    {
      "cell_type": "code",
      "source": [
        "l.print_list()"
      ],
      "metadata": {
        "colab": {
          "base_uri": "https://localhost:8080/"
        },
        "id": "-P1Ad2R0Z3cE",
        "outputId": "b550a921-f1ec-4298-82dc-4363fd5b6782"
      },
      "execution_count": 12,
      "outputs": [
        {
          "output_type": "stream",
          "name": "stdout",
          "text": [
            "6\n",
            "5\n",
            "4\n",
            "3\n",
            "7\n",
            "2\n",
            "22\n",
            "1\n"
          ]
        }
      ]
    },
    {
      "cell_type": "code",
      "source": [
        "list1 = LinkedList()\n",
        "list1.append(2)\n",
        "list1.append(4)\n",
        "list1.append(5)\n",
        "list1.append(7)"
      ],
      "metadata": {
        "id": "uKCtf5ChbI7w"
      },
      "execution_count": 13,
      "outputs": []
    },
    {
      "cell_type": "code",
      "source": [
        "list2 = LinkedList()\n",
        "list2.append(1)\n",
        "list2.append(3)\n",
        "list2.append(6)\n",
        "list2.append(9)"
      ],
      "metadata": {
        "id": "uxFkdgzTbThr"
      },
      "execution_count": 14,
      "outputs": []
    },
    {
      "cell_type": "code",
      "source": [
        "list1.merge_sorted_list(list2)\n",
        "list1.print_list()"
      ],
      "metadata": {
        "colab": {
          "base_uri": "https://localhost:8080/"
        },
        "id": "K5QJh0knPL_H",
        "outputId": "ce2c6900-de1a-46f0-d16c-e3efa7bfbaa1"
      },
      "execution_count": 15,
      "outputs": [
        {
          "output_type": "stream",
          "name": "stdout",
          "text": [
            "1\n",
            "2\n",
            "3\n",
            "4\n",
            "5\n",
            "6\n",
            "7\n",
            "9\n"
          ]
        }
      ]
    },
    {
      "cell_type": "code",
      "source": [
        "l.print_list()"
      ],
      "metadata": {
        "id": "R06XoJWm-vng",
        "colab": {
          "base_uri": "https://localhost:8080/"
        },
        "outputId": "5b16a5c8-c719-48a2-b2fc-7dfbe403fc51"
      },
      "execution_count": 16,
      "outputs": [
        {
          "output_type": "stream",
          "name": "stdout",
          "text": [
            "6\n",
            "5\n",
            "4\n",
            "3\n",
            "7\n",
            "2\n",
            "22\n",
            "1\n"
          ]
        }
      ]
    },
    {
      "cell_type": "code",
      "source": [
        "l.delete_node_pos(3)\n",
        "l.print_list()"
      ],
      "metadata": {
        "colab": {
          "base_uri": "https://localhost:8080/"
        },
        "id": "JSTyZO5uyyWd",
        "outputId": "fd3e1365-1792-4656-bf90-196e63d27de4"
      },
      "execution_count": 17,
      "outputs": [
        {
          "output_type": "stream",
          "name": "stdout",
          "text": [
            "6\n",
            "5\n",
            "4\n",
            "7\n",
            "2\n",
            "22\n",
            "1\n"
          ]
        }
      ]
    },
    {
      "cell_type": "code",
      "source": [
        "l.delete_node_pos(0)\n",
        "l.print_list()\n",
        "print()\n",
        "print('Length:')\n",
        "l.len_()"
      ],
      "metadata": {
        "colab": {
          "base_uri": "https://localhost:8080/"
        },
        "id": "SWX8StBdzIIZ",
        "outputId": "2c31fce8-5423-4139-ea12-1a06061fdc1e"
      },
      "execution_count": 18,
      "outputs": [
        {
          "output_type": "stream",
          "name": "stdout",
          "text": [
            "5\n",
            "4\n",
            "7\n",
            "2\n",
            "22\n",
            "1\n",
            "\n",
            "Length:\n"
          ]
        },
        {
          "output_type": "execute_result",
          "data": {
            "text/plain": [
              "6"
            ]
          },
          "metadata": {},
          "execution_count": 18
        }
      ]
    },
    {
      "cell_type": "code",
      "source": [
        "l.delete_node_pos(4)\n",
        "l.print_list()"
      ],
      "metadata": {
        "colab": {
          "base_uri": "https://localhost:8080/"
        },
        "id": "pqA8PKJczseN",
        "outputId": "7c8b9132-2f2e-4ca4-fdbd-2e8d3458c3cd"
      },
      "execution_count": 19,
      "outputs": [
        {
          "output_type": "stream",
          "name": "stdout",
          "text": [
            "5\n",
            "4\n",
            "7\n",
            "2\n",
            "1\n"
          ]
        }
      ]
    },
    {
      "cell_type": "code",
      "source": [
        "l.delete_node_pos(6)"
      ],
      "metadata": {
        "colab": {
          "base_uri": "https://localhost:8080/",
          "height": 35
        },
        "id": "Ery_AZ2T1Qe6",
        "outputId": "76d39590-8c2f-4975-cc92-d0b7ced33b9d"
      },
      "execution_count": 20,
      "outputs": [
        {
          "output_type": "execute_result",
          "data": {
            "text/plain": [
              "'Position out of bounds'"
            ],
            "application/vnd.google.colaboratory.intrinsic+json": {
              "type": "string"
            }
          },
          "metadata": {},
          "execution_count": 20
        }
      ]
    },
    {
      "cell_type": "code",
      "source": [
        "l.print_list()"
      ],
      "metadata": {
        "colab": {
          "base_uri": "https://localhost:8080/"
        },
        "id": "MzS2gOwV44vq",
        "outputId": "54ef9263-6bfc-4477-f7bb-8a08a8814b84"
      },
      "execution_count": 21,
      "outputs": [
        {
          "output_type": "stream",
          "name": "stdout",
          "text": [
            "5\n",
            "4\n",
            "7\n",
            "2\n",
            "1\n"
          ]
        }
      ]
    },
    {
      "cell_type": "code",
      "source": [
        "l.delete_node_data(4)\n",
        "l.print_list()"
      ],
      "metadata": {
        "colab": {
          "base_uri": "https://localhost:8080/"
        },
        "id": "XYVeKhmP45dW",
        "outputId": "48a444a4-f4f8-4903-ab70-c6465e243f69"
      },
      "execution_count": 22,
      "outputs": [
        {
          "output_type": "stream",
          "name": "stdout",
          "text": [
            "5\n",
            "7\n",
            "2\n",
            "1\n"
          ]
        }
      ]
    },
    {
      "cell_type": "code",
      "source": [
        "l.delete_node_data(5)\n",
        "l.print_list()"
      ],
      "metadata": {
        "colab": {
          "base_uri": "https://localhost:8080/"
        },
        "id": "5KytPahe5gnn",
        "outputId": "9ba0b3a7-fa84-4afe-f325-5cebdd80cd57"
      },
      "execution_count": 23,
      "outputs": [
        {
          "output_type": "stream",
          "name": "stdout",
          "text": [
            "7\n",
            "2\n",
            "1\n"
          ]
        }
      ]
    },
    {
      "cell_type": "code",
      "source": [
        "l.delete_node_data(2)\n",
        "l.print_list()"
      ],
      "metadata": {
        "colab": {
          "base_uri": "https://localhost:8080/"
        },
        "id": "RI9LN1CA5y_h",
        "outputId": "b551703e-4ff9-4405-8fba-641f3ffdd67c"
      },
      "execution_count": 24,
      "outputs": [
        {
          "output_type": "stream",
          "name": "stdout",
          "text": [
            "7\n",
            "1\n"
          ]
        }
      ]
    },
    {
      "cell_type": "code",
      "source": [
        "l.append(1)\n",
        "l.append(2)\n",
        "l.append(3)\n",
        "l.append(4)\n",
        "l.print_list()"
      ],
      "metadata": {
        "colab": {
          "base_uri": "https://localhost:8080/"
        },
        "id": "cW1VulqI8xTg",
        "outputId": "4940b613-4b26-4bb5-ceee-cb91fe607e0e"
      },
      "execution_count": 25,
      "outputs": [
        {
          "output_type": "stream",
          "name": "stdout",
          "text": [
            "7\n",
            "1\n",
            "1\n",
            "2\n",
            "3\n",
            "4\n"
          ]
        }
      ]
    },
    {
      "cell_type": "code",
      "source": [
        "l.remove_duplicates()"
      ],
      "metadata": {
        "colab": {
          "base_uri": "https://localhost:8080/"
        },
        "id": "N2XcDGo28xC9",
        "outputId": "8221f097-0488-434c-f06e-ec183cfe2859"
      },
      "execution_count": 26,
      "outputs": [
        {
          "output_type": "stream",
          "name": "stdout",
          "text": [
            "{7: 1}\n",
            "{7: 1, 1: 1}\n",
            "{7: 1, 1: 1, 2: 1}\n",
            "{7: 1, 1: 1, 2: 1, 3: 1}\n",
            "{7: 1, 1: 1, 2: 1, 3: 1, 4: 1}\n"
          ]
        }
      ]
    },
    {
      "cell_type": "code",
      "source": [
        "l.print_list()"
      ],
      "metadata": {
        "colab": {
          "base_uri": "https://localhost:8080/"
        },
        "id": "kLyBaSZt888R",
        "outputId": "a7fc7d5e-c373-446f-88a6-5e3bd317cfc3"
      },
      "execution_count": 27,
      "outputs": [
        {
          "output_type": "stream",
          "name": "stdout",
          "text": [
            "7\n",
            "1\n",
            "2\n",
            "3\n",
            "4\n"
          ]
        }
      ]
    },
    {
      "cell_type": "code",
      "source": [
        "l.swap_nodes(2,7)"
      ],
      "metadata": {
        "id": "GBsT0qcV8nqJ"
      },
      "execution_count": 29,
      "outputs": []
    },
    {
      "cell_type": "code",
      "source": [
        "l.print_list()"
      ],
      "metadata": {
        "colab": {
          "base_uri": "https://localhost:8080/"
        },
        "id": "YgcqHNNn9CfW",
        "outputId": "e8a4612d-e87b-42d9-ad21-b7e9b7ce30a3"
      },
      "execution_count": 30,
      "outputs": [
        {
          "output_type": "stream",
          "name": "stdout",
          "text": [
            "2\n",
            "1\n",
            "7\n",
            "3\n",
            "4\n"
          ]
        }
      ]
    },
    {
      "cell_type": "code",
      "source": [],
      "metadata": {
        "id": "sHWJoaKc_niy"
      },
      "execution_count": null,
      "outputs": []
    }
  ]
}