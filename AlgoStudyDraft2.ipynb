{
  "nbformat": 4,
  "nbformat_minor": 0,
  "metadata": {
    "colab": {
      "provenance": [],
      "collapsed_sections": [],
      "authorship_tag": "ABX9TyMkAWyZ0DMMr7fRPN08FdB1",
      "include_colab_link": true
    },
    "kernelspec": {
      "name": "python3",
      "display_name": "Python 3"
    },
    "language_info": {
      "name": "python"
    }
  },
  "cells": [
    {
      "cell_type": "markdown",
      "metadata": {
        "id": "view-in-github",
        "colab_type": "text"
      },
      "source": [
        "<a href=\"https://colab.research.google.com/github/lauxpaux/Recap/blob/review_quiz/AlgoStudyDraft2.ipynb\" target=\"_parent\"><img src=\"https://colab.research.google.com/assets/colab-badge.svg\" alt=\"Open In Colab\"/></a>"
      ]
    },
    {
      "cell_type": "markdown",
      "source": [
        "Lists"
      ],
      "metadata": {
        "id": "Qr7-_mEM6YtM"
      }
    },
    {
      "cell_type": "code",
      "execution_count": 1,
      "metadata": {
        "id": "E-VDoHSR6T0D"
      },
      "outputs": [],
      "source": [
        "class Node():\n",
        "  def __init__(self, data):\n",
        "    self.data = data\n",
        "    self.next = None \n",
        "\n",
        "class LinkedList():\n",
        "  def __init__(self):\n",
        "    self.head = None\n",
        "\n",
        "################################\n",
        "  def print_list(self):\n",
        "    cur = self.head\n",
        "    while cur:\n",
        "      print(cur.data)\n",
        "      cur = cur.next    \n",
        "\n",
        "################################\n",
        "  def append(self, data):\n",
        "    new_node = Node(data)\n",
        "    if self.head is None:\n",
        "      self.head = new_node\n",
        "      return\n",
        "    cur = self.head\n",
        "    while cur.next:\n",
        "      cur = cur.next\n",
        "    cur.next = new_node\n",
        "\n",
        "#################################\n",
        "  def append_after(self, node_data, data):\n",
        "    new_node = Node(data)\n",
        "    if not node_data:\n",
        "      return \"Node not found\"   \n",
        "    new_node.next = node_data.next\n",
        "    node_data.next = new_node    \n",
        "\n",
        "#################################\n",
        "  def prepend(self, node_data, data):\n",
        "    new_node = Node(data)\n",
        "    if not node_data:\n",
        "      return \"Node not found\"\n",
        "    if node_data is self.head:\n",
        "      new_node.next = self.head\n",
        "      self.head = new_node\n",
        "      return\n",
        "    cur = self.head\n",
        "    if cur.next != node_data:\n",
        "      cur = cur.next\n",
        "    new_node.next = cur.next\n",
        "    cur.next = new_node   \n",
        "\n",
        "#################################\n",
        "  def delete_node_pos(self, pos):\n",
        "    if self.head:\n",
        "      cur = self.head\n",
        "      if pos == 0:\n",
        "        self.head = cur.next\n",
        "        cur = None \n",
        "        return\n",
        "    count = 0\n",
        "    prev = None\n",
        "    while cur and count != pos:\n",
        "      prev = cur\n",
        "      cur = cur.next\n",
        "      count += 1\n",
        "    if cur is None:\n",
        "      return \"Position out of bounds\"  \n",
        "    prev.next = cur.next\n",
        "    cur = None\n",
        " \n",
        "#################################\n",
        "  def delete_node_data(self, data):\n",
        "    if self.head:\n",
        "      cur = self.head\n",
        "      if cur.data == data:\n",
        "        self.head = cur.next\n",
        "        cur = None\n",
        "        return \n",
        "    prev = None\n",
        "    while cur and cur.data != data:\n",
        "      prev = cur\n",
        "      cur = cur.next\n",
        "    if cur is None:\n",
        "      return\n",
        "    prev.next = cur.next\n",
        "    cur = None\n",
        "\n",
        "################################\n",
        "  def len_(self):\n",
        "    cur = self.head\n",
        "    count = 0\n",
        "    if self.head is None:\n",
        "      return \"Empty list\"\n",
        "    while cur:\n",
        "      count += 1\n",
        "      cur = cur.next\n",
        "    return count\n",
        "      \n",
        "################################\n",
        "  ####STUDY####\n",
        "  def reverse_list(self): \n",
        "    cur = self.head\n",
        "    prev = None\n",
        "    while cur:\n",
        "      nxt = cur.next\n",
        "      cur.next = prev\n",
        "      prev = cur\n",
        "      cur = nxt\n",
        "    self.head = prev\n",
        "    return \n",
        "\n",
        "\n",
        "################################\n",
        "  #merge two sorted list \n",
        "  def merge_sorted_list(self, llist): \n",
        "    list_a = self.head\n",
        "    list_b = llist.head\n",
        "    smallest_val = None\n",
        "    if not list_a:\n",
        "      return list_b\n",
        "    if not list_b:\n",
        "      return list_a\n",
        "    if list_a and list_b:\n",
        "      if list_a.data <= list_b.data:\n",
        "        smallest_val = list_a\n",
        "        list_a = smallest_val.next    \n",
        "      else:\n",
        "        smallest_val = list_b\n",
        "        list_b = smallest_val.next \n",
        "      new_head = smallest_val\n",
        "    while list_a and list_b:\n",
        "      if list_a.data <= list_b.data:\n",
        "        smallest_val.next = list_a\n",
        "        smallest_val = list_a\n",
        "        list_a = smallest_val.next \n",
        "      else:\n",
        "        smallest_val.next = list_b\n",
        "        smallest_val = list_b\n",
        "        list_b = smallest_val.next \n",
        "    if not list_a:\n",
        "      smallest_val.next = list_b\n",
        "    if not list_b:\n",
        "      smallest_val.next = list_a\n",
        "    self.head = new_head\n",
        "    return self.head \n",
        "\n",
        "################################\n",
        "  def swap_nodes(self, node1, node2):\n",
        "    if node1 == node2:\n",
        "      return \n",
        "    cur = self.head\n",
        "    prev = None\n",
        "    while cur and cur.data != node1:\n",
        "      prev = cur\n",
        "      cur = cur.next\n",
        "    cur2 = self.head\n",
        "    prev2 = None\n",
        "    while cur2 and cur2.data != node2:\n",
        "      prev2 = cur2\n",
        "      cur2 = cur2.next\n",
        "    if not node1 or not node2:\n",
        "        return \n",
        "    if prev:\n",
        "      prev.next = cur2\n",
        "    else:\n",
        "      self.head = cur2\n",
        "    if prev2:\n",
        "      prev2.next = cur\n",
        "    else:\n",
        "      self.head = cur\n",
        "    cur.next, cur2.next = cur2.next, cur.next \n",
        "\n",
        "################################\n",
        "  def remove_duplicates(self):\n",
        "    cur = self.head\n",
        "    prev = None \n",
        "    duplicates = dict()\n",
        "    while cur:\n",
        "      if cur.data in duplicates:\n",
        "        prev.next = cur.next\n",
        "        cur = None   \n",
        "      else:\n",
        "        duplicates[cur.data] = 1\n",
        "        prev = cur \n",
        "      cur = prev.next\n",
        "\n",
        "################################\n",
        "  def print_nth_from_last(self, n, method):\n",
        "    if method == 1:\n",
        "      total_len = self.len_()\n",
        "      cur = self.head\n",
        "      while cur:\n",
        "        if total_len == n:\n",
        "          print(cur.data)\n",
        "          return cur.data\n",
        "        total_len -= 1\n",
        "        cur = cur.next\n",
        "      if cur is None:\n",
        "        return \n",
        "    elif method == 2:\n",
        "      p = self.head\n",
        "      q = self.head\n",
        "      if n > 0:\n",
        "        count = 0\n",
        "        while q:\n",
        "          count += 1 \n",
        "          if (count>=n):\n",
        "            break\n",
        "          q = q.next \n",
        "        if not q: \n",
        "          print(str(n) + \"is greater than lenght of the list\")\n",
        "          return \n",
        "        while p and q.next: \n",
        "          p = p.next\n",
        "          q = q.next\n",
        "        return p.data\n",
        "    else:\n",
        "      return None \n",
        "  \n",
        "################################\n",
        "  def count_occurence(self, value):\n",
        "    cur = self.head\n",
        "    count = 0 \n",
        "    while cur:\n",
        "      if cur.data == value: \n",
        "        count += 1\n",
        "      cur = cur.next \n",
        "    return count\n",
        "    \n",
        "    \n",
        "\n",
        "\n",
        "\n",
        "    \n",
        "\n"
      ]
    },
    {
      "cell_type": "code",
      "source": [
        "#test append\n",
        "l = LinkedList()\n",
        "l.append(1)\n",
        "l.append(2)\n",
        "l.append(2)\n",
        "l.append(3)\n",
        "l.append(4)\n",
        "l.append(4)\n",
        "l.append(5)\n",
        "l.append(6)\n"
      ],
      "metadata": {
        "id": "y_BNzaNW9lEH"
      },
      "execution_count": 2,
      "outputs": []
    },
    {
      "cell_type": "code",
      "source": [
        "#length test\n",
        "l.len_()"
      ],
      "metadata": {
        "colab": {
          "base_uri": "https://localhost:8080/"
        },
        "id": "FaGSmxWiSKTY",
        "outputId": "f3b18805-65c9-4851-c3ba-a7ef960dfb8d"
      },
      "execution_count": 3,
      "outputs": [
        {
          "output_type": "execute_result",
          "data": {
            "text/plain": [
              "8"
            ]
          },
          "metadata": {},
          "execution_count": 3
        }
      ]
    },
    {
      "cell_type": "code",
      "source": [
        "#test print\n",
        "l.print_list()"
      ],
      "metadata": {
        "colab": {
          "base_uri": "https://localhost:8080/"
        },
        "id": "IGhRrBdO9skR",
        "outputId": "b4f1f33d-2ee9-43fa-b8f8-c801aa8c78d8"
      },
      "execution_count": 4,
      "outputs": [
        {
          "output_type": "stream",
          "name": "stdout",
          "text": [
            "1\n",
            "2\n",
            "2\n",
            "3\n",
            "4\n",
            "4\n",
            "5\n",
            "6\n"
          ]
        }
      ]
    },
    {
      "cell_type": "code",
      "source": [
        "#test append\n",
        "l.append_after(l.head.next.next, 7)\n",
        "l.print_list()"
      ],
      "metadata": {
        "colab": {
          "base_uri": "https://localhost:8080/"
        },
        "id": "NPgaQxzohUFC",
        "outputId": "a4375184-28e2-47ef-a843-a882785f623f"
      },
      "execution_count": 5,
      "outputs": [
        {
          "output_type": "stream",
          "name": "stdout",
          "text": [
            "1\n",
            "2\n",
            "2\n",
            "7\n",
            "3\n",
            "4\n",
            "4\n",
            "5\n",
            "6\n"
          ]
        }
      ]
    },
    {
      "cell_type": "code",
      "source": [
        "l.prepend(l.head.next.next, 22)\n",
        "l.print_list()"
      ],
      "metadata": {
        "colab": {
          "base_uri": "https://localhost:8080/"
        },
        "id": "lhByWB38k6io",
        "outputId": "f65fa646-c8e8-41d0-9f44-0f8180e3c98e"
      },
      "execution_count": 6,
      "outputs": [
        {
          "output_type": "stream",
          "name": "stdout",
          "text": [
            "1\n",
            "2\n",
            "22\n",
            "2\n",
            "7\n",
            "3\n",
            "4\n",
            "4\n",
            "5\n",
            "6\n"
          ]
        }
      ]
    },
    {
      "cell_type": "code",
      "source": [
        "#reverse test\n",
        "l.reverse_list()\n",
        "l.print_list()"
      ],
      "metadata": {
        "colab": {
          "base_uri": "https://localhost:8080/"
        },
        "id": "h1b1xztF7sVV",
        "outputId": "ba650248-f057-4ffc-9d9d-14469731e7bb"
      },
      "execution_count": 7,
      "outputs": [
        {
          "output_type": "stream",
          "name": "stdout",
          "text": [
            "6\n",
            "5\n",
            "4\n",
            "4\n",
            "3\n",
            "7\n",
            "2\n",
            "22\n",
            "2\n",
            "1\n"
          ]
        }
      ]
    },
    {
      "cell_type": "code",
      "source": [
        "l.remove_duplicates()"
      ],
      "metadata": {
        "id": "ihp-6k24GIco"
      },
      "execution_count": 8,
      "outputs": []
    },
    {
      "cell_type": "code",
      "source": [
        "l.print_list()"
      ],
      "metadata": {
        "id": "3kdY_SNc_MCB",
        "colab": {
          "base_uri": "https://localhost:8080/"
        },
        "outputId": "de5b42e0-54b0-40b6-d679-3a8448a254a2"
      },
      "execution_count": 9,
      "outputs": [
        {
          "output_type": "stream",
          "name": "stdout",
          "text": [
            "6\n",
            "5\n",
            "4\n",
            "3\n",
            "7\n",
            "2\n",
            "22\n",
            "1\n"
          ]
        }
      ]
    },
    {
      "cell_type": "code",
      "source": [
        "#test merge sorted method\n",
        "l2 = LinkedList()\n",
        "l2.append(10)\n",
        "l2.append(24)\n",
        "l2.append(27)\n",
        "l2.append(9)"
      ],
      "metadata": {
        "id": "yLYlCTlkcsHv"
      },
      "execution_count": 10,
      "outputs": []
    },
    {
      "cell_type": "code",
      "source": [
        "l2.print_list()"
      ],
      "metadata": {
        "id": "kwbowccs9feD",
        "colab": {
          "base_uri": "https://localhost:8080/"
        },
        "outputId": "2f89798f-0c2c-4ebb-fd06-dddb1f189edb"
      },
      "execution_count": 11,
      "outputs": [
        {
          "output_type": "stream",
          "name": "stdout",
          "text": [
            "10\n",
            "24\n",
            "27\n",
            "9\n"
          ]
        }
      ]
    },
    {
      "cell_type": "code",
      "source": [
        "l.print_list()"
      ],
      "metadata": {
        "colab": {
          "base_uri": "https://localhost:8080/"
        },
        "id": "-P1Ad2R0Z3cE",
        "outputId": "810b1232-ab40-4c08-9921-958dc9b853d2"
      },
      "execution_count": 12,
      "outputs": [
        {
          "output_type": "stream",
          "name": "stdout",
          "text": [
            "6\n",
            "5\n",
            "4\n",
            "3\n",
            "7\n",
            "2\n",
            "22\n",
            "1\n"
          ]
        }
      ]
    },
    {
      "cell_type": "code",
      "source": [
        "list1 = LinkedList()\n",
        "list1.append(2)\n",
        "list1.append(4)\n",
        "list1.append(5)\n",
        "list1.append(7)"
      ],
      "metadata": {
        "id": "uKCtf5ChbI7w"
      },
      "execution_count": 13,
      "outputs": []
    },
    {
      "cell_type": "code",
      "source": [
        "list2 = LinkedList()\n",
        "list2.append(1)\n",
        "list2.append(3)\n",
        "list2.append(6)\n",
        "list2.append(9)"
      ],
      "metadata": {
        "id": "uxFkdgzTbThr"
      },
      "execution_count": 14,
      "outputs": []
    },
    {
      "cell_type": "code",
      "source": [
        "list1.merge_sorted_list(list2)\n",
        "list1.print_list()"
      ],
      "metadata": {
        "colab": {
          "base_uri": "https://localhost:8080/"
        },
        "id": "K5QJh0knPL_H",
        "outputId": "2ed558e6-b4fb-4862-a938-b5b9579c226d"
      },
      "execution_count": 15,
      "outputs": [
        {
          "output_type": "stream",
          "name": "stdout",
          "text": [
            "1\n",
            "2\n",
            "3\n",
            "4\n",
            "5\n",
            "6\n",
            "7\n",
            "9\n"
          ]
        }
      ]
    },
    {
      "cell_type": "code",
      "source": [
        "l.print_list()"
      ],
      "metadata": {
        "id": "R06XoJWm-vng",
        "colab": {
          "base_uri": "https://localhost:8080/"
        },
        "outputId": "e568d487-8b62-431b-f83a-2bcc25923032"
      },
      "execution_count": 16,
      "outputs": [
        {
          "output_type": "stream",
          "name": "stdout",
          "text": [
            "6\n",
            "5\n",
            "4\n",
            "3\n",
            "7\n",
            "2\n",
            "22\n",
            "1\n"
          ]
        }
      ]
    },
    {
      "cell_type": "code",
      "source": [
        "l.delete_node_pos(3)\n",
        "l.print_list()"
      ],
      "metadata": {
        "colab": {
          "base_uri": "https://localhost:8080/"
        },
        "id": "JSTyZO5uyyWd",
        "outputId": "67e701f3-58ff-4677-bfad-ca59fb50d5bd"
      },
      "execution_count": 17,
      "outputs": [
        {
          "output_type": "stream",
          "name": "stdout",
          "text": [
            "6\n",
            "5\n",
            "4\n",
            "7\n",
            "2\n",
            "22\n",
            "1\n"
          ]
        }
      ]
    },
    {
      "cell_type": "code",
      "source": [
        "l.delete_node_pos(0)\n",
        "l.print_list()\n",
        "print()\n",
        "print('Length:')\n",
        "l.len_()"
      ],
      "metadata": {
        "colab": {
          "base_uri": "https://localhost:8080/"
        },
        "id": "SWX8StBdzIIZ",
        "outputId": "57e09809-f57f-42a0-d6d1-01f7c63e2294"
      },
      "execution_count": 18,
      "outputs": [
        {
          "output_type": "stream",
          "name": "stdout",
          "text": [
            "5\n",
            "4\n",
            "7\n",
            "2\n",
            "22\n",
            "1\n",
            "\n",
            "Length:\n"
          ]
        },
        {
          "output_type": "execute_result",
          "data": {
            "text/plain": [
              "6"
            ]
          },
          "metadata": {},
          "execution_count": 18
        }
      ]
    },
    {
      "cell_type": "code",
      "source": [
        "l.delete_node_pos(4)\n",
        "l.print_list()"
      ],
      "metadata": {
        "colab": {
          "base_uri": "https://localhost:8080/"
        },
        "id": "pqA8PKJczseN",
        "outputId": "00637f9b-713b-42bc-dbc5-b943736f39db"
      },
      "execution_count": 19,
      "outputs": [
        {
          "output_type": "stream",
          "name": "stdout",
          "text": [
            "5\n",
            "4\n",
            "7\n",
            "2\n",
            "1\n"
          ]
        }
      ]
    },
    {
      "cell_type": "code",
      "source": [
        "l.delete_node_pos(6)"
      ],
      "metadata": {
        "colab": {
          "base_uri": "https://localhost:8080/",
          "height": 35
        },
        "id": "Ery_AZ2T1Qe6",
        "outputId": "d451782c-b03e-4c33-f581-5357c50bc2d7"
      },
      "execution_count": 20,
      "outputs": [
        {
          "output_type": "execute_result",
          "data": {
            "text/plain": [
              "'Position out of bounds'"
            ],
            "application/vnd.google.colaboratory.intrinsic+json": {
              "type": "string"
            }
          },
          "metadata": {},
          "execution_count": 20
        }
      ]
    },
    {
      "cell_type": "code",
      "source": [
        "l.print_list()"
      ],
      "metadata": {
        "colab": {
          "base_uri": "https://localhost:8080/"
        },
        "id": "MzS2gOwV44vq",
        "outputId": "57142a5f-ce1c-4218-b716-d620dad138be"
      },
      "execution_count": 21,
      "outputs": [
        {
          "output_type": "stream",
          "name": "stdout",
          "text": [
            "5\n",
            "4\n",
            "7\n",
            "2\n",
            "1\n"
          ]
        }
      ]
    },
    {
      "cell_type": "code",
      "source": [
        "l.delete_node_data(4)\n",
        "l.print_list()"
      ],
      "metadata": {
        "colab": {
          "base_uri": "https://localhost:8080/"
        },
        "id": "XYVeKhmP45dW",
        "outputId": "f7dbe84a-9a34-4cfc-e972-bf2fb185d596"
      },
      "execution_count": 22,
      "outputs": [
        {
          "output_type": "stream",
          "name": "stdout",
          "text": [
            "5\n",
            "7\n",
            "2\n",
            "1\n"
          ]
        }
      ]
    },
    {
      "cell_type": "code",
      "source": [
        "l.delete_node_data(5)\n",
        "l.print_list()"
      ],
      "metadata": {
        "colab": {
          "base_uri": "https://localhost:8080/"
        },
        "id": "5KytPahe5gnn",
        "outputId": "74bad0e8-d946-496f-fc7b-1429c5809cb0"
      },
      "execution_count": 23,
      "outputs": [
        {
          "output_type": "stream",
          "name": "stdout",
          "text": [
            "7\n",
            "2\n",
            "1\n"
          ]
        }
      ]
    },
    {
      "cell_type": "code",
      "source": [
        "l.delete_node_data(2)\n",
        "l.print_list()"
      ],
      "metadata": {
        "colab": {
          "base_uri": "https://localhost:8080/"
        },
        "id": "RI9LN1CA5y_h",
        "outputId": "0e57b3b6-3d63-4522-d4e7-7f2d2c01ba8b"
      },
      "execution_count": 24,
      "outputs": [
        {
          "output_type": "stream",
          "name": "stdout",
          "text": [
            "7\n",
            "1\n"
          ]
        }
      ]
    },
    {
      "cell_type": "code",
      "source": [
        "l.append(1)\n",
        "l.append(2)\n",
        "l.append(3)\n",
        "l.append(4)\n",
        "l.print_list()"
      ],
      "metadata": {
        "colab": {
          "base_uri": "https://localhost:8080/"
        },
        "id": "cW1VulqI8xTg",
        "outputId": "b134572d-377e-4fa3-ffbc-113e0b7faa53"
      },
      "execution_count": 25,
      "outputs": [
        {
          "output_type": "stream",
          "name": "stdout",
          "text": [
            "7\n",
            "1\n",
            "1\n",
            "2\n",
            "3\n",
            "4\n"
          ]
        }
      ]
    },
    {
      "cell_type": "code",
      "source": [
        "l.remove_duplicates()"
      ],
      "metadata": {
        "id": "N2XcDGo28xC9"
      },
      "execution_count": 26,
      "outputs": []
    },
    {
      "cell_type": "code",
      "source": [
        "l.print_list()"
      ],
      "metadata": {
        "colab": {
          "base_uri": "https://localhost:8080/"
        },
        "id": "kLyBaSZt888R",
        "outputId": "f6e884c9-de78-4f2c-9031-820da29ebb2f"
      },
      "execution_count": 27,
      "outputs": [
        {
          "output_type": "stream",
          "name": "stdout",
          "text": [
            "7\n",
            "1\n",
            "2\n",
            "3\n",
            "4\n"
          ]
        }
      ]
    },
    {
      "cell_type": "code",
      "source": [
        "l.swap_nodes(2,7)"
      ],
      "metadata": {
        "id": "GBsT0qcV8nqJ"
      },
      "execution_count": 28,
      "outputs": []
    },
    {
      "cell_type": "code",
      "source": [
        "l.print_list()"
      ],
      "metadata": {
        "colab": {
          "base_uri": "https://localhost:8080/"
        },
        "id": "YgcqHNNn9CfW",
        "outputId": "0a2fc942-d9d3-450f-835b-a0c170e5af83"
      },
      "execution_count": 29,
      "outputs": [
        {
          "output_type": "stream",
          "name": "stdout",
          "text": [
            "2\n",
            "1\n",
            "7\n",
            "3\n",
            "4\n"
          ]
        }
      ]
    },
    {
      "cell_type": "code",
      "source": [
        "print(l.print_nth_from_last(3, 1))"
      ],
      "metadata": {
        "colab": {
          "base_uri": "https://localhost:8080/"
        },
        "id": "sHWJoaKc_niy",
        "outputId": "95ef2676-93a6-47cb-c0b7-3a614f0fe345"
      },
      "execution_count": 30,
      "outputs": [
        {
          "output_type": "stream",
          "name": "stdout",
          "text": [
            "7\n",
            "7\n"
          ]
        }
      ]
    },
    {
      "cell_type": "code",
      "source": [
        "l.append(7)\n",
        "l.print_list()"
      ],
      "metadata": {
        "colab": {
          "base_uri": "https://localhost:8080/"
        },
        "id": "_1hr8JL0U-YT",
        "outputId": "3ecb64fd-8205-41d5-d1d8-ea5282d72bdd"
      },
      "execution_count": 32,
      "outputs": [
        {
          "output_type": "stream",
          "name": "stdout",
          "text": [
            "2\n",
            "1\n",
            "7\n",
            "3\n",
            "4\n",
            "7\n"
          ]
        }
      ]
    },
    {
      "cell_type": "code",
      "source": [
        "l.count_occurence(7)"
      ],
      "metadata": {
        "colab": {
          "base_uri": "https://localhost:8080/"
        },
        "id": "XHClAInHS68c",
        "outputId": "2782d5aa-efff-45b1-deb9-fd5fcf7d3324"
      },
      "execution_count": 33,
      "outputs": [
        {
          "output_type": "execute_result",
          "data": {
            "text/plain": [
              "2"
            ]
          },
          "metadata": {},
          "execution_count": 33
        }
      ]
    },
    {
      "cell_type": "code",
      "source": [],
      "metadata": {
        "id": "zveDmdauVCXU"
      },
      "execution_count": null,
      "outputs": []
    }
  ]
}