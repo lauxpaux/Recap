{
  "nbformat": 4,
  "nbformat_minor": 0,
  "metadata": {
    "colab": {
      "name": "Recap.ipynb",
      "provenance": [],
      "authorship_tag": "ABX9TyNKZEgMpGI7k2kDYZMf9fGk",
      "include_colab_link": true
    },
    "kernelspec": {
      "name": "python3",
      "display_name": "Python 3"
    },
    "language_info": {
      "name": "python"
    }
  },
  "cells": [
    {
      "cell_type": "markdown",
      "metadata": {
        "id": "view-in-github",
        "colab_type": "text"
      },
      "source": [
        "<a href=\"https://colab.research.google.com/github/lauxpaux/Recap/blob/main/Recap.ipynb\" target=\"_parent\"><img src=\"https://colab.research.google.com/assets/colab-badge.svg\" alt=\"Open In Colab\"/></a>"
      ]
    },
    {
      "cell_type": "markdown",
      "source": [
        "# Data Structures Study "
      ],
      "metadata": {
        "id": "j9Pj-ufqC7q5"
      }
    },
    {
      "cell_type": "markdown",
      "source": [
        "Implementing a stack "
      ],
      "metadata": {
        "id": "gHMyIv_QzJvI"
      }
    },
    {
      "cell_type": "code",
      "execution_count": 51,
      "metadata": {
        "colab": {
          "base_uri": "https://localhost:8080/"
        },
        "id": "KM2t9jk7y_bp",
        "outputId": "67ee5845-e387-4c92-f616-3a8c88d2778b"
      },
      "outputs": [
        {
          "output_type": "stream",
          "name": "stdout",
          "text": [
            "[1]\n",
            "False\n",
            "[1, 4, 5]\n",
            "1\n",
            "[1]\n",
            "True\n"
          ]
        }
      ],
      "source": [
        "class Stack():\n",
        "    def __init__(self):\n",
        "        #creating an empty list to start the stack\n",
        "        self.items = []\n",
        "    \n",
        "    def push(self, item):\n",
        "        #adding to the stack \n",
        "        self.items.append(item)\n",
        "        \n",
        "    def pop(self):\n",
        "        #removing top element \n",
        "        self.items.pop()\n",
        "        \n",
        "    def is_empty(self):\n",
        "        return self.items == []\n",
        "    \n",
        "    def peek(self):\n",
        "        #looking at item on top of stack \n",
        "        if not self.is_empty():\n",
        "            return self.items[-1]\n",
        "    \n",
        "    def getStack(self):\n",
        "        print(self.items)\n",
        "            \n",
        "    \n",
        "    \n",
        "myStack = Stack()\n",
        "myStack.push(1)\n",
        "myStack.push(2)\n",
        "myStack.pop()\n",
        "myStack.getStack()\n",
        "myStack.push(4)\n",
        "myStack.push(5)\n",
        "print(myStack.is_empty())\n",
        "myStack.peek()\n",
        "myStack.getStack()\n",
        "myStack.pop()\n",
        "myStack.pop()\n",
        "print(myStack.peek())\n",
        "myStack.getStack()\n",
        "myStack.pop()\n",
        "print(myStack.is_empty())\n",
        "\n",
        "        "
      ]
    },
    {
      "cell_type": "markdown",
      "source": [
        "Solving Problems with stack: \n",
        "1) Convert decimal to binary "
      ],
      "metadata": {
        "id": "4V9k7HMJCyEa"
      }
    },
    {
      "cell_type": "code",
      "source": [
        "def dec_to_bin(num):\n",
        "  s = Stack()\n",
        "  binStr = \"\"\n",
        "\n",
        "  while num > 0:\n",
        "    remainder = num % 2 \n",
        "    s.push(remainder)\n",
        "    num = num // 2 \n",
        "\n",
        "  while not s.is_empty():\n",
        "    binStr += str(s.items.pop())    \n",
        "\n",
        "  return binStr"
      ],
      "metadata": {
        "id": "OH2B7snH2Hen"
      },
      "execution_count": 81,
      "outputs": []
    },
    {
      "cell_type": "code",
      "source": [
        "print(dec_to_bin(100))"
      ],
      "metadata": {
        "colab": {
          "base_uri": "https://localhost:8080/"
        },
        "id": "CuPXDwIC_4TK",
        "outputId": "fafa7522-59e4-4042-cd89-75f988adfa2e"
      },
      "execution_count": 84,
      "outputs": [
        {
          "output_type": "stream",
          "name": "stdout",
          "text": [
            "1100100\n"
          ]
        }
      ]
    },
    {
      "cell_type": "code",
      "source": [
        "# Reversing a string\n",
        "def reverse_string(givenStr):\n",
        "  stack = Stack()\n",
        "  eStr = \"\"\n",
        "\n",
        "  for s in givenStr:\n",
        "    stack.push(s)\n",
        "  while not stack.is_empty():\n",
        "    eStr += str(stack.items.pop())\n",
        "  return eStr\n",
        "    \n",
        "\n"
      ],
      "metadata": {
        "id": "iRne7TekDcfI"
      },
      "execution_count": 142,
      "outputs": []
    },
    {
      "cell_type": "code",
      "source": [
        "reverse_string(\"Learning is fun\")"
      ],
      "metadata": {
        "colab": {
          "base_uri": "https://localhost:8080/",
          "height": 35
        },
        "id": "4iyejs2YEDH1",
        "outputId": "477261cc-57fb-455f-b4be-5f7462950ddc"
      },
      "execution_count": 143,
      "outputs": [
        {
          "output_type": "execute_result",
          "data": {
            "text/plain": [
              "'nuf si gninraeL'"
            ],
            "application/vnd.google.colaboratory.intrinsic+json": {
              "type": "string"
            }
          },
          "metadata": {},
          "execution_count": 143
        }
      ]
    }
  ]
}