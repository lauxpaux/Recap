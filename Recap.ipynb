{
  "nbformat": 4,
  "nbformat_minor": 0,
  "metadata": {
    "colab": {
      "name": "Recap.ipynb",
      "provenance": [],
      "authorship_tag": "ABX9TyMdGV5ZsccB4ApNcdn9Ibxc",
      "include_colab_link": true
    },
    "kernelspec": {
      "name": "python3",
      "display_name": "Python 3"
    },
    "language_info": {
      "name": "python"
    }
  },
  "cells": [
    {
      "cell_type": "markdown",
      "metadata": {
        "id": "view-in-github",
        "colab_type": "text"
      },
      "source": [
        "<a href=\"https://colab.research.google.com/github/lauxpaux/Recap/blob/main/Recap.ipynb\" target=\"_parent\"><img src=\"https://colab.research.google.com/assets/colab-badge.svg\" alt=\"Open In Colab\"/></a>"
      ]
    },
    {
      "cell_type": "markdown",
      "source": [
        "# Data Structures Study "
      ],
      "metadata": {
        "id": "j9Pj-ufqC7q5"
      }
    },
    {
      "cell_type": "markdown",
      "source": [
        "Implementing a stack "
      ],
      "metadata": {
        "id": "gHMyIv_QzJvI"
      }
    },
    {
      "cell_type": "code",
      "execution_count": null,
      "metadata": {
        "colab": {
          "base_uri": "https://localhost:8080/"
        },
        "id": "KM2t9jk7y_bp",
        "outputId": "2dd4b007-a95b-41d2-bf63-b2c58155ee6e"
      },
      "outputs": [
        {
          "output_type": "stream",
          "name": "stdout",
          "text": [
            "[1]\n",
            "False\n",
            "[1, 4, 5]\n",
            "1\n",
            "[1]\n",
            "True\n"
          ]
        }
      ],
      "source": [
        "class Stack():\n",
        "    def __init__(self):\n",
        "        #creating an empty list to start the stack\n",
        "        self.items = []\n",
        "    \n",
        "    def push(self, item):\n",
        "        #adding to the stack \n",
        "        self.items.append(item)\n",
        "        \n",
        "    def pop(self):\n",
        "        #removing top element \n",
        "        self.items.pop()\n",
        "        \n",
        "    def is_empty(self):\n",
        "        return self.items == []\n",
        "    \n",
        "    def peek(self):\n",
        "        #looking at item on top of stack \n",
        "        if not self.is_empty():\n",
        "            return self.items[-1]\n",
        "    \n",
        "    def getStack(self):\n",
        "        print(self.items)\n",
        "            \n",
        "    \n",
        "    \n",
        "myStack = Stack()\n",
        "myStack.push(1)\n",
        "myStack.push(2)\n",
        "myStack.pop()\n",
        "myStack.getStack()\n",
        "myStack.push(4)\n",
        "myStack.push(5)\n",
        "print(myStack.is_empty())\n",
        "myStack.peek()\n",
        "myStack.getStack()\n",
        "myStack.pop()\n",
        "myStack.pop()\n",
        "print(myStack.peek())\n",
        "myStack.getStack()\n",
        "myStack.pop()\n",
        "print(myStack.is_empty())\n",
        "\n",
        "        "
      ]
    },
    {
      "cell_type": "markdown",
      "source": [
        "Solving Problems with stack: \n",
        "1) Convert decimal to binary "
      ],
      "metadata": {
        "id": "4V9k7HMJCyEa"
      }
    },
    {
      "cell_type": "code",
      "source": [
        "def dec_to_bin(num):\n",
        "  s = Stack()\n",
        "  binStr = \"\"\n",
        "\n",
        "  while num > 0:\n",
        "    remainder = num % 2 \n",
        "    s.push(remainder)\n",
        "    num = num // 2 \n",
        "\n",
        "  while not s.is_empty():\n",
        "    binStr += str(s.items.pop())    \n",
        "\n",
        "  return binStr"
      ],
      "metadata": {
        "id": "OH2B7snH2Hen"
      },
      "execution_count": null,
      "outputs": []
    },
    {
      "cell_type": "code",
      "source": [
        "print(dec_to_bin(100))"
      ],
      "metadata": {
        "colab": {
          "base_uri": "https://localhost:8080/"
        },
        "id": "CuPXDwIC_4TK",
        "outputId": "fafa7522-59e4-4042-cd89-75f988adfa2e"
      },
      "execution_count": null,
      "outputs": [
        {
          "output_type": "stream",
          "name": "stdout",
          "text": [
            "1100100\n"
          ]
        }
      ]
    },
    {
      "cell_type": "code",
      "source": [
        "# Reversing a string\n",
        "def reverse_string(givenStr):\n",
        "  stack = Stack()\n",
        "  eStr = \"\"\n",
        "\n",
        "  for s in givenStr:\n",
        "    stack.push(s)\n",
        "  while not stack.is_empty():\n",
        "    eStr += str(stack.items.pop())\n",
        "  return eStr\n",
        "    \n",
        "\n"
      ],
      "metadata": {
        "id": "iRne7TekDcfI"
      },
      "execution_count": null,
      "outputs": []
    },
    {
      "cell_type": "code",
      "source": [
        "reverse_string(\"Learning is fun\")"
      ],
      "metadata": {
        "colab": {
          "base_uri": "https://localhost:8080/",
          "height": 169
        },
        "id": "4iyejs2YEDH1",
        "outputId": "31593823-8ae0-474b-b721-cc114dd9430b"
      },
      "execution_count": null,
      "outputs": [
        {
          "output_type": "error",
          "ename": "NameError",
          "evalue": "ignored",
          "traceback": [
            "\u001b[0;31m---------------------------------------------------------------------------\u001b[0m",
            "\u001b[0;31mNameError\u001b[0m                                 Traceback (most recent call last)",
            "\u001b[0;32m<ipython-input-1-0c322a7857b1>\u001b[0m in \u001b[0;36m<module>\u001b[0;34m\u001b[0m\n\u001b[0;32m----> 1\u001b[0;31m \u001b[0mreverse_string\u001b[0m\u001b[0;34m(\u001b[0m\u001b[0;34m\"Learning is fun\"\u001b[0m\u001b[0;34m)\u001b[0m\u001b[0;34m\u001b[0m\u001b[0;34m\u001b[0m\u001b[0m\n\u001b[0m",
            "\u001b[0;31mNameError\u001b[0m: name 'reverse_string' is not defined"
          ]
        }
      ]
    },
    {
      "cell_type": "markdown",
      "source": [
        "Implementing Linked Lists "
      ],
      "metadata": {
        "id": "0e8XqWBebDsw"
      }
    },
    {
      "cell_type": "code",
      "source": [
        "class Node():\n",
        "  def __init__(self, data):\n",
        "    self.data = data\n",
        "    self.next = None \n",
        "\n",
        "class LinkedList():\n",
        "  def __init__(self):\n",
        "    self.head = None \n",
        "\n",
        "  #printing linked list\n",
        "  def printLL(self):\n",
        "    cur_node = self.head\n",
        "    while cur_node:\n",
        "      print(cur_node.data)\n",
        "      cur_node = cur_node.next \n",
        "\n",
        "  #appending to linked list\n",
        "  def append(self, data):\n",
        "    new_node = Node(data)\n",
        "\n",
        "    #case: if linked list is empty, append node as the head \n",
        "    if self.head is None:\n",
        "      self.head = new_node\n",
        "      return \n",
        "    #case: if linked list is not empty, append the node at the end of the linked list\n",
        "    last_node = self.head \n",
        "    while last_node.next:\n",
        "      last_node = last_node.next\n",
        "    last_node.next = new_node   \n",
        "\n",
        "  #prepending \n",
        "  def prepend(self, data):\n",
        "    new_node = Node(data)\n",
        "\n",
        "    #case: adding it as head node\n",
        "    if self.head is None:\n",
        "      self.head = new_node\n",
        "      return \n",
        "\n",
        "    if self.head:\n",
        "      new_node.next = self.head\n",
        "      self.head = new_node\n",
        "  \n",
        "  #appending after specific node \n",
        "  def append_after(self, node_data, data):\n",
        "    if not node_data: \n",
        "      print(\"Node not found in list.\")\n",
        "      return\n",
        "    new_node = Node(data)\n",
        "  \n",
        "    new_node.next = node_data.next \n",
        "    node_data.next = new_node\n",
        "\n",
        "\n",
        "#DELETION\n",
        " \n",
        "  def del_node(self, node_data):\n",
        "\n",
        "    cur_node = self.head \n",
        "\n",
        "    #deleting head node \n",
        "    if cur_node and cur_node.data == node_data: \n",
        "      self.head = cur_node.next \n",
        "      cur_node = None\n",
        "      return \n",
        "\n",
        "    #deleting nodes other than the head\n",
        "    prev = None\n",
        "    while cur_node and cur_node.data != node_data:\n",
        "      prev = cur_node\n",
        "      cur_node = cur_node.next \n",
        "    \n",
        "    if cur_node is None:\n",
        "      print(\"Node data not found\")\n",
        "      return \n",
        "\n",
        "    prev.next = cur_node.next \n",
        "    cur_node = None \n",
        "  \n",
        "\n",
        "\n",
        "  def delete_node_at_pos(self, pos):\n",
        "    if self.head: \n",
        "      cur_node  = self.head\n",
        "      if pos == 0:\n",
        "        cur_node = cur_node.next\n",
        "        cur_node = None \n",
        "        return\n",
        "\n",
        "      #handling the case where pos is not at position 0\n",
        "      prev = None\n",
        "      count = 0 \n",
        "      while cur_node and count != pos: \n",
        "        prev = cur_node\n",
        "        cur_node = cur_node.next\n",
        "        count += 1 \n",
        "      \n",
        "      #if pos is not found\n",
        "      if cur_node is None:\n",
        "        return \n",
        "\n",
        "      prev.next = cur_node.next\n",
        "      cur_node = None \n",
        "\n",
        "        \n",
        "        \n",
        "    \n",
        "\n",
        "\n",
        "\n",
        "\n"
      ],
      "metadata": {
        "id": "t81xNOQZbC2x"
      },
      "execution_count": 7,
      "outputs": []
    },
    {
      "cell_type": "code",
      "source": [
        "ll = LinkedList()\n",
        "ll.append(\"A\")\n",
        "ll.append(\"B\")\n",
        "ll.append(\"C\")\n",
        "ll.prepend(\"2\")\n",
        "ll.append_after(ll.head.next, \"new\")\n",
        "ll.printLL()\n",
        "ll.del_node(\"B\")\n",
        "print()\n",
        "ll.printLL()\n",
        "print()\n",
        "ll.delete_node_at_pos(2)\n",
        "ll.printLL()\n"
      ],
      "metadata": {
        "colab": {
          "base_uri": "https://localhost:8080/"
        },
        "id": "MlT8fD5KdMA8",
        "outputId": "59ee0218-be44-4db9-93ef-0f88a125f361"
      },
      "execution_count": 8,
      "outputs": [
        {
          "output_type": "stream",
          "name": "stdout",
          "text": [
            "2\n",
            "A\n",
            "new\n",
            "B\n",
            "C\n",
            "\n",
            "2\n",
            "A\n",
            "new\n",
            "C\n",
            "\n",
            "2\n",
            "A\n",
            "C\n"
          ]
        }
      ]
    },
    {
      "cell_type": "code",
      "source": [],
      "metadata": {
        "id": "5ct1mch_eNgf"
      },
      "execution_count": null,
      "outputs": []
    }
  ]
}