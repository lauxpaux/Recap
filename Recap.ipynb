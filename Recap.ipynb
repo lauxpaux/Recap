{
  "cells": [
    {
      "cell_type": "markdown",
      "metadata": {
        "id": "view-in-github",
        "colab_type": "text"
      },
      "source": [
        "<a href=\"https://colab.research.google.com/github/lauxpaux/Recap/blob/main/Recap.ipynb\" target=\"_parent\"><img src=\"https://colab.research.google.com/assets/colab-badge.svg\" alt=\"Open In Colab\"/></a>"
      ]
    },
    {
      "cell_type": "markdown",
      "metadata": {
        "id": "j9Pj-ufqC7q5"
      },
      "source": [
        "# Data Structures Study "
      ]
    },
    {
      "cell_type": "markdown",
      "metadata": {
        "id": "gHMyIv_QzJvI"
      },
      "source": [
        "Implementing a stack "
      ]
    },
    {
      "cell_type": "code",
      "execution_count": null,
      "metadata": {
        "colab": {
          "base_uri": "https://localhost:8080/"
        },
        "id": "KM2t9jk7y_bp",
        "outputId": "bb94d45d-30a5-42c5-ac45-7c96b18d4eca"
      },
      "outputs": [
        {
          "name": "stdout",
          "output_type": "stream",
          "text": [
            "[1]\n",
            "False\n",
            "[1, 4, 5]\n",
            "1\n",
            "[1]\n",
            "True\n"
          ]
        }
      ],
      "source": [
        "class Stack():\n",
        "    def __init__(self):\n",
        "        #creating an empty stack to start the stack\n",
        "        self.items = []\n",
        "    \n",
        "    def push(self, item):\n",
        "        #adding to the stack \n",
        "        self.items.append(item)\n",
        "        \n",
        "    def pop(self):\n",
        "        #removing top element \n",
        "        self.items.pop()\n",
        "        \n",
        "    def is_empty(self):\n",
        "        return self.items == []\n",
        "    \n",
        "    def peek(self):\n",
        "        #looking at item on top of stack \n",
        "        if not self.is_empty():\n",
        "            return self.items[-1]\n",
        "    \n",
        "    def getStack(self):\n",
        "        print(self.items)\n",
        "            \n",
        "    \n",
        "    \n",
        "myStack = Stack()\n",
        "myStack.push(1)\n",
        "myStack.push(2)\n",
        "myStack.pop()\n",
        "myStack.getStack()\n",
        "myStack.push(4)\n",
        "myStack.push(5)\n",
        "print(myStack.is_empty())\n",
        "myStack.peek()\n",
        "myStack.getStack()\n",
        "myStack.pop()\n",
        "myStack.pop()\n",
        "print(myStack.peek())\n",
        "myStack.getStack()\n",
        "myStack.pop()\n",
        "print(myStack.is_empty())\n",
        "\n",
        "        "
      ]
    },
    {
      "cell_type": "markdown",
      "metadata": {
        "id": "4V9k7HMJCyEa"
      },
      "source": [
        "Solving Problems with stack: \n",
        "1) Convert decimal to binary "
      ]
    },
    {
      "cell_type": "code",
      "execution_count": null,
      "metadata": {
        "id": "OH2B7snH2Hen"
      },
      "outputs": [],
      "source": [
        "def dec_to_bin(num):\n",
        "  s = Stack()\n",
        "  binStr = \"\"\n",
        "\n",
        "  while num > 0:\n",
        "    remainder = num % 2 \n",
        "    s.push(remainder)\n",
        "    num = num // 2 \n",
        "\n",
        "  while not s.is_empty():\n",
        "    binStr += str(s.items.pop())    \n",
        "\n",
        "  return binStr"
      ]
    },
    {
      "cell_type": "code",
      "execution_count": null,
      "metadata": {
        "colab": {
          "base_uri": "https://localhost:8080/"
        },
        "id": "CuPXDwIC_4TK",
        "outputId": "fafa7522-59e4-4042-cd89-75f988adfa2e"
      },
      "outputs": [
        {
          "name": "stdout",
          "output_type": "stream",
          "text": [
            "1100100\n"
          ]
        }
      ],
      "source": [
        "print(dec_to_bin(100))"
      ]
    },
    {
      "cell_type": "code",
      "execution_count": null,
      "metadata": {
        "id": "iRne7TekDcfI"
      },
      "outputs": [],
      "source": [
        "# Reversing a string\n",
        "def reverse_string(givenStr):\n",
        "  stack = Stack()\n",
        "  eStr = \"\"\n",
        "\n",
        "  for s in givenStr:\n",
        "    stack.push(s)\n",
        "  while not stack.is_empty():\n",
        "    eStr += str(stack.items.pop())\n",
        "  return eStr\n",
        "    \n",
        "\n"
      ]
    },
    {
      "cell_type": "code",
      "execution_count": null,
      "metadata": {
        "colab": {
          "base_uri": "https://localhost:8080/",
          "height": 35
        },
        "id": "4iyejs2YEDH1",
        "outputId": "e9db0672-c56e-4951-9f12-46f77f52b4e5"
      },
      "outputs": [
        {
          "data": {
            "application/vnd.google.colaboratory.intrinsic+json": {
              "type": "string"
            },
            "text/plain": [
              "'nuf si gninraeL'"
            ]
          },
          "execution_count": 16,
          "metadata": {},
          "output_type": "execute_result"
        }
      ],
      "source": [
        "reverse_string(\"Learning is fun\")"
      ]
    },
    {
      "cell_type": "markdown",
      "metadata": {
        "id": "MWf7_gdZNaoO"
      },
      "source": [
        "Stack practice "
      ]
    },
    {
      "cell_type": "code",
      "execution_count": null,
      "metadata": {
        "id": "CkskyaHXNZ02"
      },
      "outputs": [],
      "source": [
        "class Stack2():\n",
        "  def __init__(self):\n",
        "    self.items = []\n",
        "\n",
        "  def push2(self, data):\n",
        "    self.items.append(data)\n",
        "  \n",
        "  def pop2(self):\n",
        "    self.items.pop()\n",
        "    \n",
        "  def isEmpty2(self):\n",
        "    return self.items == []\n",
        "\n",
        "  def peek2(self):\n",
        "    if not self.isEmpty2():\n",
        "      return self.items[-1]\n",
        "  \n",
        "  def getStack2(self):\n",
        "    print(self.items)\n",
        "    "
      ]
    },
    {
      "cell_type": "code",
      "execution_count": null,
      "metadata": {
        "colab": {
          "base_uri": "https://localhost:8080/"
        },
        "id": "TBNFsEPvSTC9",
        "outputId": "142f7d38-d031-4dfb-96b8-733898207281"
      },
      "outputs": [
        {
          "name": "stdout",
          "output_type": "stream",
          "text": [
            "[1, 2, 3]\n",
            "\n",
            "2\n"
          ]
        },
        {
          "data": {
            "text/plain": [
              "False"
            ]
          },
          "execution_count": 11,
          "metadata": {},
          "output_type": "execute_result"
        }
      ],
      "source": [
        "stk = Stack2()\n",
        "stk.push2(1)\n",
        "stk.push2(2)\n",
        "stk.push2(3)\n",
        "stk.getStack2()\n",
        "print()\n",
        "stk.pop2()\n",
        "print(stk.peek2())\n",
        "stk.isEmpty2()"
      ]
    },
    {
      "cell_type": "markdown",
      "metadata": {
        "id": "0e8XqWBebDsw"
      },
      "source": [
        "Implementing Linked Lists "
      ]
    },
    {
      "cell_type": "code",
      "execution_count": 19,
      "metadata": {
        "id": "t81xNOQZbC2x"
      },
      "outputs": [],
      "source": [
        "class Node():\n",
        "  def __init__(self, data):\n",
        "    self.data = data\n",
        "    self.next = None \n",
        "\n",
        "class LinkedList():\n",
        "  def __init__(self):\n",
        "    self.head = None \n",
        "\n",
        "  #printing linked list\n",
        "  def printLL(self):\n",
        "    cur_node = self.head\n",
        "    while cur_node:\n",
        "      print(cur_node.data)\n",
        "      cur_node = cur_node.next \n",
        "\n",
        "  #appending to linked list\n",
        "  def append(self, data):\n",
        "    new_node = Node(data)\n",
        "\n",
        "    #case: if linked list is empty, append node as the head \n",
        "    if self.head is None:\n",
        "      self.head = new_node\n",
        "      return \n",
        "    #case: if linked list is not empty, append the node at the end of the linked list\n",
        "    last_node = self.head \n",
        "    while last_node.next:\n",
        "      last_node = last_node.next\n",
        "    last_node.next = new_node   \n",
        "\n",
        "  #prepending \n",
        "  def prepend(self, data):\n",
        "    new_node = Node(data)\n",
        "\n",
        "    #case: adding it as head node\n",
        "    if self.head is None:\n",
        "      self.head = new_node\n",
        "      return \n",
        "\n",
        "    if self.head:\n",
        "      new_node.next = self.head\n",
        "      self.head = new_node\n",
        "  \n",
        "  #appending after specific node \n",
        "  def append_after(self, node_data, data):\n",
        "    if not node_data: \n",
        "      print(\"Node not found in list.\")\n",
        "      return\n",
        "    new_node = Node(data)\n",
        "  \n",
        "    new_node.next = node_data.next \n",
        "    node_data.next = new_node\n",
        "\n",
        "\n",
        "#DELETION\n",
        " \n",
        "  def del_node(self, node_data):\n",
        "\n",
        "    cur_node = self.head \n",
        "\n",
        "    #deleting head node \n",
        "    if cur_node and cur_node.data == node_data: \n",
        "      self.head = cur_node.next \n",
        "      cur_node = None\n",
        "      return \n",
        "\n",
        "    #deleting nodes other than the head\n",
        "    prev = None\n",
        "    while cur_node and cur_node.data != node_data:\n",
        "      prev = cur_node\n",
        "      cur_node = cur_node.next \n",
        "    \n",
        "    if cur_node is None:\n",
        "      print(\"Node data not found\")\n",
        "      return \n",
        "\n",
        "    prev.next = cur_node.next \n",
        "    cur_node = None \n",
        "  \n",
        "\n",
        "  #deleting node based on position\n",
        "  def delete_node_at_pos(self, pos):\n",
        "    if self.head: \n",
        "      cur_node  = self.head\n",
        "      if pos == 0:\n",
        "        cur_node = cur_node.next\n",
        "        cur_node = None \n",
        "        return\n",
        "\n",
        "      #handling the case where pos is not at position 0\n",
        "      prev = None\n",
        "      count = 0 \n",
        "      while cur_node and count != pos: \n",
        "        prev = cur_node\n",
        "        cur_node = cur_node.next\n",
        "        count += 1 \n",
        "      \n",
        "      #if pos is not found\n",
        "      if cur_node is None:\n",
        "        return \n",
        "\n",
        "      prev.next = cur_node.next\n",
        "      cur_node = None \n",
        "\n",
        "  #get the length of a linked list\n",
        "  def len_iter(self):\n",
        "    len = 0 \n",
        "    cur_node = self.head\n",
        "    while cur_node:\n",
        "      len += 1\n",
        "      cur_node = cur_node.next \n",
        "    return len\n",
        "\n",
        "  def len_recur(self, node):\n",
        "    if node is None:\n",
        "      return 0\n",
        "    return 1 + self.len_recur(node.next)\n",
        "\n",
        "  #swap nodes in linked list:\n",
        "  def swap_nodes(self, key_1, key_2):\n",
        "\n",
        "    #PROBLEM1: ARE THE KEYS THE SAME? \n",
        "    if key_1 == key_2:\n",
        "      return\n",
        "\n",
        "    #PROBLEM 2: HOW DO WE FIND THE KEYS? \n",
        "    #THIS IS HANDLING THE CASE WHERE THE KEYS ARE NOT YET FOUND \n",
        "    prev = None\n",
        "    curr_1 = self.head\n",
        "    while curr_1 and curr_1.data != key_1:\n",
        "      prev_1 = curr_1\n",
        "      curr_1 = curr_1.next\n",
        "\n",
        "    prev_2 = None\n",
        "    curr_2 = self.head \n",
        "    while curr_2 and curr_2.data != key_2:\n",
        "      prev_2 = curr_2\n",
        "      curr_2 = curr_2.next \n",
        "    \n",
        "    #PROBLEM 3: WHAT IF THE KEYS DON'T EXIST?\n",
        "    #if neither of the keys exists \n",
        "    if not curr_1 or not curr_2:\n",
        "      return\n",
        "\n",
        "    #PROBLEM 4: WHAT DO WE DO WHEN THE KEYS ARE FOUND?  \n",
        "    #case: swapping nodes at head position, we check if the prev_1 and prev_2 values are not equal to None. If they\n",
        "    #are not equal to None (!=None) it implies that there is prev value and the node is not head \n",
        "    if prev_1:\n",
        "      prev_1.next = curr_2\n",
        "    else:\n",
        "      self.head = curr_2\n",
        "\n",
        "    if prev_2:\n",
        "      prev_2.next = curr_1\n",
        "    else:\n",
        "      self.head = curr_1 \n",
        "\n",
        "    #FINALLY, HANDLE THE CASE OF SWAPPING THE NODES \n",
        "    curr_1.next, curr_2.next = curr_2.next, curr_1.next \n",
        "\n",
        "   \n",
        "  def reverse_llist(self):\n",
        "    prev = None\n",
        "    cur_node = self.head\n",
        "    while cur_node:\n",
        "      next = cur_node.next\n",
        "      cur_node.next = prev\n",
        "      prev = cur_node\n",
        "      cur_node = next \n",
        "    self.head = prev \n",
        "\n",
        "  def reverse_recursive(self):\n",
        "\n",
        "    def _reverse_recur(cur_node, prev):\n",
        "      if not cur_node:\n",
        "        return prev\n",
        "      \n",
        "      next = cur_node.next\n",
        "      cur_node.next = prev\n",
        "      prev = cur_node\n",
        "      cur_node = next\n",
        "      return _reverse_recur(cur_node, prev)\n",
        "\n",
        "    self.head = _reverse_recur(cur_node=self.head, prev=None)\n",
        "\n",
        "\n",
        "  \n",
        "\n",
        "\n",
        "\n",
        "\n",
        "\n",
        "        \n",
        "        \n",
        "    \n",
        "    \n",
        "\n",
        "\n",
        "\n",
        "\n"
      ]
    },
    {
      "cell_type": "code",
      "execution_count": 20,
      "metadata": {
        "colab": {
          "base_uri": "https://localhost:8080/"
        },
        "id": "MlT8fD5KdMA8",
        "outputId": "ffb9c82d-d364-48f6-c6c2-6c6424b69822"
      },
      "outputs": [
        {
          "output_type": "stream",
          "name": "stdout",
          "text": [
            "2\n",
            "A\n",
            "new\n",
            "B\n",
            "C\n",
            "\n",
            "2\n",
            "A\n",
            "new\n",
            "C\n",
            "\n",
            "2\n",
            "A\n",
            "new\n",
            "Length of list iterative method: 3\n",
            "Length of list recursive method: 3\n",
            "\n",
            "Node swap:\n",
            "2\n",
            "A\n",
            "new\n",
            "\n",
            "reversed method test:\n",
            "new\n",
            "A\n",
            "2\n"
          ]
        }
      ],
      "source": [
        "ll = LinkedList()\n",
        "ll.append(\"A\")\n",
        "ll.append(\"B\")\n",
        "ll.append(\"C\")\n",
        "ll.prepend(\"2\")\n",
        "ll.append_after(ll.head.next, \"new\")\n",
        "ll.printLL()\n",
        "ll.del_node(\"B\")\n",
        "print()\n",
        "ll.printLL()\n",
        "print()\n",
        "\n",
        "####START HERE TOMORROW####\n",
        "##revisit delete node at position \n",
        "ll.delete_node_at_pos(3)\n",
        "ll.printLL()\n",
        "print('Length of list iterative method:', ll.len_iter())\n",
        "print('Length of list recursive method:', ll.len_recur(ll.head))\n",
        "print()\n",
        "print('Node swap:')\n",
        "ll.swap_nodes(\"C\", \"2\")\n",
        "ll.printLL()\n",
        "print()\n",
        "# ll.reverse_llist()\n",
        "ll.reverse_recursive()\n",
        "print(\"reversed method test:\")\n",
        "ll.printLL()"
      ]
    },
    {
      "cell_type": "markdown",
      "metadata": {
        "id": "nSfjBdGAKqTo"
      },
      "source": [
        "Linked list practice:"
      ]
    },
    {
      "cell_type": "code",
      "execution_count": null,
      "metadata": {
        "id": "5ct1mch_eNgf"
      },
      "outputs": [],
      "source": [
        "class Node():\n",
        "  def __init__(self, data):\n",
        "    self.data = data\n",
        "    self.next = None \n",
        "\n",
        "class LinkedList():\n",
        "  #Core and useful methods in linked lists are: print list, append, prepend, append after, length of list, delete, delete after, \n",
        "  #delete after node, swap nodes, \n",
        "  def __init__(self):\n",
        "    self.head = None \n",
        "\n",
        "  def printList(self):\n",
        "    cur_node = self.head\n",
        "    if cur_node is None:\n",
        "      print(\"List is empty\")\n",
        "      return \n",
        "\n",
        "    while cur_node:\n",
        "      print(cur_node.data)\n",
        "      cur_node = cur_node.next \n",
        "      \n",
        "\n",
        "  def append_node(self, data):\n",
        "    new_node = Node(data)\n",
        "   \n",
        "    if self.head is None:\n",
        "      self.head = new_node\n",
        "      return   \n",
        "\n",
        "    last_node = self.head\n",
        "    while last_node.next: \n",
        "      last_node = last_node.next\n",
        "    last_node.next = new_node\n",
        "     \n",
        "\n",
        "  def prepend_node(self, data):\n",
        "    new_node = Node(data)\n",
        "    #adding it to head \n",
        "    if self.head is None:\n",
        "      self.head = new_node \n",
        "      return \n",
        "\n",
        "    #####revisit this when swapping####\n",
        "    if self.head:\n",
        "      new_node.next = self.head\n",
        "      self.head = new_node\n",
        "    \n",
        "\n",
        "  def append_after_node(self, key_node, data):\n",
        "    new_node = Node(data)\n",
        "\n",
        "    if not key_node:\n",
        "      print(\"Node not found\")\n",
        "      return \n",
        "    \n",
        "   \n",
        "    new_node.next = key_node.next \n",
        "    key_node.next = new_node\n",
        "\n",
        "\n",
        "  def delete_node_data(self, key):\n",
        "    #cases: if the key/data does not match any found in the list\n",
        "    if not key:\n",
        "      print(\"No key found to delete\")\n",
        "      return\n",
        "    \n",
        "    #deleting head node\n",
        "    cur_node = self.head\n",
        "    if cur_node.data is key:\n",
        "      self.head = self.head.next\n",
        "      cur_node = None \n",
        "\n",
        "    #deleting node other than head \n",
        "    prev = None \n",
        "    while cur_node:\n",
        "      prev = cur_node\n",
        "      cur_node = cur_node.next \n",
        "      if cur_node.data is key:\n",
        "        prev.next = cur_node.next\n",
        "        cur_node = None \n",
        "\n",
        "  def delete_node_pos(self, pos_value):\n",
        "   #if position is head\n",
        "    if self.head:\n",
        "      cur_node = self.head\n",
        "      if pos_value == 0:\n",
        "        self.head = cur_node.next\n",
        "        cur_node = None\n",
        "        return\n",
        "\n",
        "      pos = 0\n",
        "      prev = None\n",
        "      while cur_node and pos != pos_value:\n",
        "        prev = cur_node\n",
        "        cur_node = cur_node.next\n",
        "        pos +=1 \n",
        "\n",
        "      if cur_node is None:\n",
        "        return \n",
        "\n",
        "      prev.next = cur_node.next\n",
        "      cur_node = None       \n"
      ]
    },
    {
      "cell_type": "code",
      "execution_count": null,
      "metadata": {
        "colab": {
          "base_uri": "https://localhost:8080/"
        },
        "id": "5WPXTAalzKfQ",
        "outputId": "8acd23dc-a0d4-448d-f2ba-596329ba7f70"
      },
      "outputs": [
        {
          "name": "stdout",
          "output_type": "stream",
          "text": [
            "2\n",
            "4\n",
            "\n",
            "1\n",
            "2\n",
            "4\n",
            "\n",
            "1\n",
            "2\n",
            "3\n",
            "4\n",
            "\n",
            "2\n",
            "4\n",
            "\n",
            "2\n",
            "4\n",
            "5\n",
            "6\n",
            "7\n",
            "\n",
            "2\n",
            "4\n",
            "6\n",
            "7\n",
            "\n",
            "4\n",
            "6\n",
            "7\n"
          ]
        }
      ],
      "source": [
        "llist = LinkedList()\n",
        "llist.append_node(\"2\")\n",
        "llist.append_node(\"4\")\n",
        "llist.printList()\n",
        "llist.prepend_node(\"1\")\n",
        "print()\n",
        "llist.printList()\n",
        "llist.append_after_node(llist.head.next, \"3\")\n",
        "print()\n",
        "llist.printList()\n",
        "print()\n",
        "llist.delete_node_data(\"1\")\n",
        "llist.delete_node_data(\"3\")\n",
        "llist.printList()\n",
        "print()\n",
        "llist.append_node(\"5\")\n",
        "llist.append_node(\"6\")\n",
        "llist.append_node(\"7\")\n",
        "llist.printList()\n",
        "print()\n",
        "llist.delete_node_pos(2)\n",
        "llist.printList()\n",
        "print()\n",
        "llist.delete_node_pos(0)\n",
        "llist.printList()"
      ]
    },
    {
      "cell_type": "markdown",
      "metadata": {
        "id": "zkIDT9JCEwx1"
      },
      "source": [
        "Linked list plane practice 2"
      ]
    },
    {
      "cell_type": "code",
      "execution_count": null,
      "metadata": {
        "id": "mPgkpULQzS3y"
      },
      "outputs": [],
      "source": [
        "class Node():\n",
        "  self.data = data\n",
        "  self.next = None\n",
        "\n",
        "class LinkedList():\n",
        "  def __init__(self):\n",
        "    self.head = None \n",
        "\n",
        "  def printList2(self):\n",
        "    curNode = self.head\n",
        "    while curNode:\n",
        "      print(curNode.data)\n",
        "      curNode = curNode.next \n",
        "      return \n",
        "\n",
        "  def append2(self, data):\n",
        "    nNode = Node(data)\n",
        "    \n",
        "    #if linkedlist is empty append at head of ll\n",
        "    if self.head is None:\n",
        "      self.head = nNode\n",
        "    \n",
        "    #if linkedlist is not empty attempt at the end of the linkedlist\n",
        "    curNode = self.head\n",
        "    while curNode.next: \n",
        "      curNode = curNode.next\n",
        "    curNode.next = nNode\n",
        "\n",
        "  def prepend2(self, data):\n",
        "    nNode = Node(data)\n",
        "    \n",
        "    #if empty append as head node\n",
        "    if self.head is None:\n",
        "      self.head = nNode\n",
        "    \n",
        "    #prepending in non empty list\n",
        "    self.head = self.head.next\n",
        "    nNode = self.head \n",
        "\n",
        "  def append_after2(self, key, data):\n",
        "    #if key does not exist\n",
        "    nNode = Node(data)\n",
        "    if not key:\n",
        "      return \"No key found in linked list\"\n",
        "    \n",
        "    #appending after head node\n",
        "    nNode.next = key.next\n",
        "    key.next = nNode \n",
        "\n",
        "\n",
        "  def delete_keyBased(self, data_key):\n",
        "    if not key:\n",
        "      return \"No node found\"\n",
        "    \n",
        "    #to delete a node based on data_key, point the new node to the node to be deleted's next, \n",
        "    prev = None\n",
        "    curNode = self.head\n",
        "\n",
        "    while curNode.data != data_key:\n",
        "      curNode = curNode.next \n",
        "      prev = curNode\n",
        "    \n",
        "    nNode.next = curNode.next\n",
        "    prev.next = nNode\n",
        "    curNode = None \n",
        "\n",
        "  \n",
        "    def delete_posBased(self, pos):\n",
        "      curNode = self.head\n",
        "      indx += 0\n",
        "      prev = None \n",
        "\n",
        "      while curNode and indx != pos:\n",
        "        prev = curNode \n",
        "        curNode = curNode.next\n",
        "        indx += 1 \n",
        "      \n",
        "      if indx is pos:\n",
        "        nNode.next = curNode.next\n",
        "        prev.next = nNode\n",
        "        curNode = None\n",
        "\n",
        "\n",
        "  \n",
        "    \n",
        "\n",
        "  \n",
        "   \n",
        "\n",
        "  \n",
        "\n"
      ]
    },
    {
      "cell_type": "markdown",
      "metadata": {
        "id": "a_G55NNfekj8"
      },
      "source": []
    },
    {
      "cell_type": "markdown",
      "metadata": {
        "id": "5XUpkgIOedKg"
      },
      "source": [
        "Stack practice 2"
      ]
    },
    {
      "cell_type": "code",
      "execution_count": null,
      "metadata": {
        "id": "j2iDXEtJE65T"
      },
      "outputs": [],
      "source": [
        "class Stack():\n",
        "  def __init__(self):\n",
        "    self.items = []\n",
        "\n",
        "  def push(self, item):\n",
        "    self.items.append(item)\n",
        "  \n",
        "  def pop(self):\n",
        "    self.items.pop()\n",
        "\n",
        "  def getStack(self):\n",
        "    print(self.items)\n",
        "\n",
        "  def peekStack(self):\n",
        "    print(self.items[-1])\n",
        "\n",
        "  def isEmpty3(self):\n",
        "     return self.items == []\n",
        "       "
      ]
    },
    {
      "cell_type": "code",
      "execution_count": null,
      "metadata": {
        "id": "KqBCKroLfOUF"
      },
      "outputs": [],
      "source": [
        "stk = Stack()"
      ]
    },
    {
      "cell_type": "code",
      "execution_count": null,
      "metadata": {
        "colab": {
          "base_uri": "https://localhost:8080/"
        },
        "id": "myFHVhssfW1D",
        "outputId": "5a6db426-9c59-4e98-92a1-25d1b4ae422c"
      },
      "outputs": [
        {
          "output_type": "stream",
          "name": "stdout",
          "text": [
            "['c', 'A', 'B']\n",
            "A\n",
            "['c']\n",
            "['c', 'c', 'd']\n",
            "[]\n"
          ]
        },
        {
          "output_type": "execute_result",
          "data": {
            "text/plain": [
              "True"
            ]
          },
          "metadata": {},
          "execution_count": 31
        }
      ],
      "source": [
        "stk.push('A')\n",
        "stk.push('B')\n",
        "stk.getStack()\n",
        "stk.pop()\n",
        "stk.peekStack()\n",
        "stk.pop()\n",
        "stk.getStack()\n",
        "stk.isEmpty3()\n",
        "stk.push('c')\n",
        "stk.push('d')\n",
        "stk.getStack()\n",
        "stk.isEmpty3()\n",
        "stk.pop()\n",
        "stk.pop()\n",
        "stk.pop()\n",
        "stk.getStack()\n",
        "stk.isEmpty3()"
      ]
    },
    {
      "cell_type": "markdown",
      "source": [
        "Linked List practice"
      ],
      "metadata": {
        "id": "iqmbQfguikFk"
      }
    },
    {
      "cell_type": "code",
      "execution_count": null,
      "metadata": {
        "id": "La_j6ICNffQs"
      },
      "outputs": [],
      "source": [
        "class Node():\n",
        "  def __init__(self, data):\n",
        "    self.data = data\n",
        "    self.next = None\n",
        "\n",
        "class linkedlist():\n",
        "  def __init__(self):\n",
        "    self.head = None \n",
        "\n",
        "  def llprint(self):\n",
        "    if self.head is None:\n",
        "      print('Empty list')\n",
        "      return\n",
        "\n",
        "    while self.head:\n",
        "      print(self.head.data)\n",
        "      self.head = self.head.next \n",
        "\n",
        "  \n",
        "  def llappend(self, data):\n",
        "    new_node = Node(data)\n",
        "\n",
        "    if self.head is None:\n",
        "      self.head = new_node\n",
        "      return\n",
        "       \n",
        "    last_node = self.head \n",
        "    while last_node.next:\n",
        "      last_node = last_node.next\n",
        "    last_node.next = new_node\n",
        "    \n",
        "  def llprepend(self, data):\n",
        "    new_node = Node(data)\n",
        "    cur_node = self.head\n",
        "\n",
        "    new_node.next = cur_node\n",
        "    cur_node = cur_node.next\n",
        "    self.head = new_node\n"
      ]
    },
    {
      "cell_type": "code",
      "source": [
        "llt = linkedlist()\n",
        "llt.llappend('2')\n",
        "llt.llappend('3')\n",
        "llt.llappend('4')\n",
        "llt.llappend('5')\n",
        "llt.llprepend('1')\n",
        "llt.llprint()\n",
        "print()\n"
      ],
      "metadata": {
        "colab": {
          "base_uri": "https://localhost:8080/"
        },
        "id": "h16GuzW0iqUZ",
        "outputId": "a3caba4c-32ee-4b35-fea0-f729d6f6220d"
      },
      "execution_count": null,
      "outputs": [
        {
          "output_type": "stream",
          "name": "stdout",
          "text": [
            "1\n",
            "2\n",
            "3\n",
            "4\n",
            "5\n",
            "\n"
          ]
        }
      ]
    },
    {
      "cell_type": "code",
      "source": [],
      "metadata": {
        "id": "C4q7DTZOkLWd"
      },
      "execution_count": null,
      "outputs": []
    }
  ],
  "metadata": {
    "colab": {
      "collapsed_sections": [],
      "provenance": [],
      "authorship_tag": "ABX9TyPS4tA+qzvc4BVKWrTburZA",
      "include_colab_link": true
    },
    "kernelspec": {
      "display_name": "Python 3",
      "name": "python3"
    },
    "language_info": {
      "name": "python"
    }
  },
  "nbformat": 4,
  "nbformat_minor": 0
}